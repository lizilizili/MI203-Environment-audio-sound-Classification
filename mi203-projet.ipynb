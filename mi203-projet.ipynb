{
 "cells": [
  {
   "cell_type": "markdown",
   "metadata": {
    "papermill": {
     "duration": 0.033485,
     "end_time": "2021-04-19T12:24:57.654359",
     "exception": false,
     "start_time": "2021-04-19T12:24:57.620874",
     "status": "completed"
    },
    "tags": []
   },
   "source": [
    "\n",
    "# Multimodel classification 2021 [MI203]\n",
    "## Classification audio+images"
   ]
  },
  {
   "cell_type": "code",
   "execution_count": 1,
   "metadata": {
    "_cell_guid": "b1076dfc-b9ad-4769-8c92-a6c4dae69d19",
    "_uuid": "8f2839f25d086af736a60e9eeb907d3b93b6e0e5",
    "execution": {
     "iopub.execute_input": "2021-04-19T12:24:57.736239Z",
     "iopub.status.busy": "2021-04-19T12:24:57.735516Z",
     "iopub.status.idle": "2021-04-19T12:24:59.083331Z",
     "shell.execute_reply": "2021-04-19T12:24:59.082113Z"
    },
    "papermill": {
     "duration": 1.397118,
     "end_time": "2021-04-19T12:24:59.083580",
     "exception": false,
     "start_time": "2021-04-19T12:24:57.686462",
     "status": "completed"
    },
    "tags": []
   },
   "outputs": [],
   "source": [
    "import numpy as np # linear algebra\n",
    "import pandas as pd # data processing, CSV file I/O (e.g. pd.read_csv)\n",
    "import os\n",
    "\n",
    "datadir = '/kaggle/input/multimodal-classification-2021-mi203/data'\n",
    "\n",
    "# Data_train\n",
    "data_df = pd.read_csv(os.path.join(datadir,'data_train.csv'), delimiter=',', nrows = None)\n",
    "data = np.array(data_df)\n",
    "labels = data[:,-1].astype('int32')\n",
    "audio_train = data[:, 1:-1].astype('float32')\n",
    "img_list = data_df['IMAGE']\n",
    "\n",
    "# Data_test\n",
    "data_test_df= pd.read_csv(os.path.join(datadir,'data_test_novt.csv'), delimiter=',', nrows = None)\n",
    "data_test = np.array(data_test_df)\n",
    "audio_test = data_test[:, 1:].astype('float32')\n",
    "img_test_list =data_test_df['IMAGE']\n",
    "\n",
    "# Classes\n",
    "class_list = ['FOREST', 'CITY', 'BEACH', 'CLASSROOM', 'RIVER', 'JUNGLE', 'RESTAURANT', 'GROCERY-STORE', 'FOOTBALL-MATCH']"
   ]
  },
  {
   "cell_type": "code",
   "execution_count": 2,
   "metadata": {
    "execution": {
     "iopub.execute_input": "2021-04-19T12:24:59.152576Z",
     "iopub.status.busy": "2021-04-19T12:24:59.151755Z",
     "iopub.status.idle": "2021-04-19T12:25:01.209602Z",
     "shell.execute_reply": "2021-04-19T12:25:01.211689Z"
    },
    "papermill": {
     "duration": 2.096213,
     "end_time": "2021-04-19T12:25:01.211935",
     "exception": false,
     "start_time": "2021-04-19T12:24:59.115722",
     "status": "completed"
    },
    "tags": []
   },
   "outputs": [
    {
     "name": "stdout",
     "output_type": "stream",
     "text": [
      "Using device: cuda\n",
      "\n"
     ]
    }
   ],
   "source": [
    "import torch\n",
    "import random\n",
    "\n",
    "torch.manual_seed(42)\n",
    "torch.cuda.manual_seed(42)\n",
    "random.seed(42)\n",
    "np.random.seed(42)\n",
    "\n",
    "# setting device on GPU if available, else CPU\n",
    "device = torch.device('cuda' if torch.cuda.is_available() else 'cpu')\n",
    "print('Using device:', device)\n",
    "print()\n"
   ]
  },
  {
   "cell_type": "markdown",
   "metadata": {
    "papermill": {
     "duration": 0.031177,
     "end_time": "2021-04-19T12:25:01.276096",
     "exception": false,
     "start_time": "2021-04-19T12:25:01.244919",
     "status": "completed"
    },
    "tags": []
   },
   "source": [
    "## PARTIE 1 : MODELISATION POUR AUDIO"
   ]
  },
  {
   "cell_type": "markdown",
   "metadata": {
    "papermill": {
     "duration": 0.031489,
     "end_time": "2021-04-19T12:25:01.339435",
     "exception": false,
     "start_time": "2021-04-19T12:25:01.307946",
     "status": "completed"
    },
    "tags": []
   },
   "source": [
    "### Modèle 1 :SVM\n"
   ]
  },
  {
   "cell_type": "markdown",
   "metadata": {
    "papermill": {
     "duration": 0.03229,
     "end_time": "2021-04-19T12:25:01.404186",
     "exception": false,
     "start_time": "2021-04-19T12:25:01.371896",
     "status": "completed"
    },
    "tags": []
   },
   "source": [
    "#### Diviser aléatoirement les exemples de données en ensemble d'apprentissage et ensemble de test"
   ]
  },
  {
   "cell_type": "code",
   "execution_count": 3,
   "metadata": {
    "execution": {
     "iopub.execute_input": "2021-04-19T12:25:01.476219Z",
     "iopub.status.busy": "2021-04-19T12:25:01.475352Z",
     "iopub.status.idle": "2021-04-19T12:25:02.731433Z",
     "shell.execute_reply": "2021-04-19T12:25:02.730778Z"
    },
    "papermill": {
     "duration": 1.294939,
     "end_time": "2021-04-19T12:25:02.731629",
     "exception": false,
     "start_time": "2021-04-19T12:25:01.436690",
     "status": "completed"
    },
    "tags": []
   },
   "outputs": [],
   "source": [
    "import matplotlib.pyplot as plt\n",
    "import random\n",
    "\n",
    "# Pour séparer les données en apprentissage et test\n",
    "from sklearn.model_selection import train_test_split\n",
    "from sklearn import preprocessing\n",
    "\n",
    "# Pour normaliser les données\n",
    "scaler_audio = preprocessing.StandardScaler().fit(audio_train)\n",
    "audio_train_scaled = scaler_audio.transform(audio_train)\n",
    "Xn_audio, Xv_audio, yn_audio, yv_audio = train_test_split(audio_train_scaled, labels,\n",
    "                                                                        random_state=42,\n",
    "                                                                        test_size=0.1)"
   ]
  },
  {
   "cell_type": "markdown",
   "metadata": {
    "papermill": {
     "duration": 0.035477,
     "end_time": "2021-04-19T12:25:02.801400",
     "exception": false,
     "start_time": "2021-04-19T12:25:02.765923",
     "status": "completed"
    },
    "tags": []
   },
   "source": [
    "#### Entraîner sur l'ensemble d'entraînement et vérifier sur l'ensemble de test pour éviter le surappentissage"
   ]
  },
  {
   "cell_type": "code",
   "execution_count": 4,
   "metadata": {
    "execution": {
     "iopub.execute_input": "2021-04-19T12:25:02.878755Z",
     "iopub.status.busy": "2021-04-19T12:25:02.877657Z",
     "iopub.status.idle": "2021-04-19T12:25:27.388642Z",
     "shell.execute_reply": "2021-04-19T12:25:27.388067Z"
    },
    "papermill": {
     "duration": 24.553093,
     "end_time": "2021-04-19T12:25:27.388797",
     "exception": false,
     "start_time": "2021-04-19T12:25:02.835704",
     "status": "completed"
    },
    "tags": []
   },
   "outputs": [
    {
     "name": "stdout",
     "output_type": "stream",
     "text": [
      "Taux de reco = 97.15% / 93.41%\n"
     ]
    }
   ],
   "source": [
    "from sklearn import svm\n",
    "def train_svm(Xn, Xv, yn, yv):\n",
    "    svc = svm.SVC(kernel='rbf', max_iter=-1)\n",
    "    #svc = svm.SVC(kernel='poly', max_iter=-1,gamma=1, decision_function_shape='ovo')\n",
    "    ##svc = svm.LinearSVC(max_iter=1000000, tol=1e-6, verbose=True, dual=False)\n",
    "    svc.fit(Xn, yn)\n",
    "    score_train = svc.score(Xn, yn)\n",
    "    score_test = svc.score(Xv, yv)\n",
    "\n",
    "    print(\"Taux de reco = {:.2f}% / {:.2f}%\".format(score_train*100, score_test*100))\n",
    "    return svc\n",
    "\n",
    "svc = train_svm(Xn_audio, Xv_audio, yn_audio, yv_audio)"
   ]
  },
  {
   "cell_type": "markdown",
   "metadata": {
    "papermill": {
     "duration": 0.033011,
     "end_time": "2021-04-19T12:25:27.454980",
     "exception": false,
     "start_time": "2021-04-19T12:25:27.421969",
     "status": "completed"
    },
    "tags": []
   },
   "source": [
    "#### Générer une matrice de confusion et dessiner des images"
   ]
  },
  {
   "cell_type": "code",
   "execution_count": 5,
   "metadata": {
    "execution": {
     "iopub.execute_input": "2021-04-19T12:25:27.528834Z",
     "iopub.status.busy": "2021-04-19T12:25:27.527685Z",
     "iopub.status.idle": "2021-04-19T12:25:29.136674Z",
     "shell.execute_reply": "2021-04-19T12:25:29.137265Z"
    },
    "papermill": {
     "duration": 1.648878,
     "end_time": "2021-04-19T12:25:29.137450",
     "exception": false,
     "start_time": "2021-04-19T12:25:27.488572",
     "status": "completed"
    },
    "tags": []
   },
   "outputs": [
    {
     "name": "stdout",
     "output_type": "stream",
     "text": [
      "[[100   0   0   0   0   0   0   0   0]\n",
      " [  0 171   5  14   4   0   2   2   1]\n",
      " [  0   2 150   1   0   0   2   0   0]\n",
      " [  1   0   0 209   1   0   5   0   1]\n",
      " [  0   1   1   1 137   0   4   5   0]\n",
      " [  0   0   0   0   0 133   0   0   0]\n",
      " [  0   1   1   8   3   0  95   4   4]\n",
      " [  0   2   0   3   2   0   3 162   0]\n",
      " [  0   0   2   0   0   0   0   5 133]]\n"
     ]
    }
   ],
   "source": [
    "from sklearn.metrics import confusion_matrix\n",
    "\n",
    "cm = confusion_matrix(yv_audio,svc.predict(Xv_audio))\n",
    "\n",
    "print(cm)"
   ]
  },
  {
   "cell_type": "code",
   "execution_count": 6,
   "metadata": {
    "execution": {
     "iopub.execute_input": "2021-04-19T12:25:29.233687Z",
     "iopub.status.busy": "2021-04-19T12:25:29.232370Z",
     "iopub.status.idle": "2021-04-19T12:25:29.526370Z",
     "shell.execute_reply": "2021-04-19T12:25:29.525368Z"
    },
    "papermill": {
     "duration": 0.35597,
     "end_time": "2021-04-19T12:25:29.526563",
     "exception": false,
     "start_time": "2021-04-19T12:25:29.170593",
     "status": "completed"
    },
    "tags": []
   },
   "outputs": [
    {
     "data": {
      "image/png": "[encoded data removed]",
      "text/plain": [
       "<Figure size 432x288 with 2 Axes>"
      ]
     },
     "metadata": {
      "needs_background": "light"
     },
     "output_type": "display_data"
    }
   ],
   "source": [
    "import matplotlib.pyplot as plt\n",
    "\n",
    "def plot_confusion_matrix(cm, labels_name, title):\n",
    "    cm = cm.astype('float') / cm.sum(axis=1)[:, np.newaxis]   \n",
    "    plt.imshow(cm, interpolation='nearest')    \n",
    "    plt.title(title)    \n",
    "    plt.colorbar()\n",
    "    num_local = np.array(range(len(labels_name)))    \n",
    "    plt.xticks(num_local, labels_name, rotation=90)   \n",
    "    plt.yticks(num_local, labels_name)   \n",
    "    plt.ylabel('True label')    \n",
    "    plt.xlabel('Predicted label')\n",
    "\n",
    "\n",
    "plot_confusion_matrix(cm, class_list, \"Confusion Matrix\")\n",
    "# plt.savefig('/HAR_cm.png', format='png')\n",
    "plt.show()"
   ]
  },
  {
   "cell_type": "markdown",
   "metadata": {
    "papermill": {
     "duration": 0.044108,
     "end_time": "2021-04-19T12:25:29.614346",
     "exception": false,
     "start_time": "2021-04-19T12:25:29.570238",
     "status": "completed"
    },
    "tags": []
   },
   "source": [
    "#### Prediction par modèle svm"
   ]
  },
  {
   "cell_type": "code",
   "execution_count": 7,
   "metadata": {
    "execution": {
     "iopub.execute_input": "2021-04-19T12:25:29.690983Z",
     "iopub.status.busy": "2021-04-19T12:25:29.689788Z",
     "iopub.status.idle": "2021-04-19T12:25:32.670254Z",
     "shell.execute_reply": "2021-04-19T12:25:32.669634Z"
    },
    "papermill": {
     "duration": 3.021506,
     "end_time": "2021-04-19T12:25:32.670410",
     "exception": false,
     "start_time": "2021-04-19T12:25:29.648904",
     "status": "completed"
    },
    "tags": []
   },
   "outputs": [],
   "source": [
    "y_svm_pred = svc.predict(scaler_audio.transform(audio_test))"
   ]
  },
  {
   "cell_type": "markdown",
   "metadata": {
    "papermill": {
     "duration": 0.034781,
     "end_time": "2021-04-19T12:25:32.739592",
     "exception": false,
     "start_time": "2021-04-19T12:25:32.704811",
     "status": "completed"
    },
    "tags": []
   },
   "source": [
    "### Modèle 2 : MLP"
   ]
  },
  {
   "cell_type": "markdown",
   "metadata": {
    "papermill": {
     "duration": 0.033961,
     "end_time": "2021-04-19T12:25:32.807641",
     "exception": false,
     "start_time": "2021-04-19T12:25:32.773680",
     "status": "completed"
    },
    "tags": []
   },
   "source": [
    "#### Création des datasets et des dataloaders pour audio"
   ]
  },
  {
   "cell_type": "code",
   "execution_count": 8,
   "metadata": {
    "execution": {
     "iopub.execute_input": "2021-04-19T12:25:32.889266Z",
     "iopub.status.busy": "2021-04-19T12:25:32.888377Z",
     "iopub.status.idle": "2021-04-19T12:25:32.893199Z",
     "shell.execute_reply": "2021-04-19T12:25:32.892653Z"
    },
    "papermill": {
     "duration": 0.050337,
     "end_time": "2021-04-19T12:25:32.893344",
     "exception": false,
     "start_time": "2021-04-19T12:25:32.843007",
     "status": "completed"
    },
    "tags": []
   },
   "outputs": [],
   "source": [
    "from torch.utils.data import Dataset, DataLoader\n",
    "\n",
    "class AudioDataset(Dataset):\n",
    "    def __init__(self, audio, labels=None):\n",
    "        self.audio = audio\n",
    "        self.labels = labels\n",
    "\n",
    "    def __len__(self):\n",
    "        return len(self.audio)\n",
    "\n",
    "    def __getitem__(self, idx):\n",
    "        audio = self.audio[idx,:]\n",
    "        if self.labels is not None:\n",
    "            return audio,int(self.labels[idx])\n",
    "        else:\n",
    "            return audio\n",
    "\n",
    "\n",
    "audio_dataset = AudioDataset(audio=Xn_audio,                                \n",
    "                                 labels=yn_audio\n",
    "                              )\n",
    "audio_test_dataset = AudioDataset(audio=Xv_audio,                               \n",
    "                                 labels=yv_audio\n",
    "                              )\n",
    "## Taille du batch\n",
    "nsample = 100\n",
    "\n",
    "\n",
    "audio_test_loader = DataLoader(audio_test_dataset, batch_size=nsample, shuffle=False)\n",
    "audio_loader = DataLoader(audio_dataset, batch_size=nsample, shuffle=True)"
   ]
  },
  {
   "cell_type": "markdown",
   "metadata": {
    "papermill": {
     "duration": 0.034197,
     "end_time": "2021-04-19T12:25:32.961901",
     "exception": false,
     "start_time": "2021-04-19T12:25:32.927704",
     "status": "completed"
    },
    "tags": []
   },
   "source": [
    "#### Construire le réseau"
   ]
  },
  {
   "cell_type": "code",
   "execution_count": 9,
   "metadata": {
    "execution": {
     "iopub.execute_input": "2021-04-19T12:25:33.040178Z",
     "iopub.status.busy": "2021-04-19T12:25:33.039349Z",
     "iopub.status.idle": "2021-04-19T12:25:37.884937Z",
     "shell.execute_reply": "2021-04-19T12:25:37.883940Z"
    },
    "papermill": {
     "duration": 4.888882,
     "end_time": "2021-04-19T12:25:37.885159",
     "exception": false,
     "start_time": "2021-04-19T12:25:32.996277",
     "status": "completed"
    },
    "tags": []
   },
   "outputs": [
    {
     "data": {
      "text/plain": [
       "MonReseau(\n",
       "  (linear1): Linear(in_features=104, out_features=208, bias=True)\n",
       "  (linear2): Linear(in_features=208, out_features=208, bias=True)\n",
       "  (linear3): Linear(in_features=208, out_features=419, bias=True)\n",
       "  (final): Linear(in_features=419, out_features=9, bias=True)\n",
       ")"
      ]
     },
     "execution_count": 9,
     "metadata": {},
     "output_type": "execute_result"
    }
   ],
   "source": [
    "import torch\n",
    "import torch.nn as nn\n",
    "import torch.nn.functional as F\n",
    "import torch.optim as optim\n",
    "import torchvision\n",
    "\n",
    "class MonReseau(nn.Module):\n",
    "    def __init__(self):\n",
    "        super(MonReseau, self).__init__()\n",
    "        \n",
    "        self.linear1 = nn.Linear(104, 208)\n",
    "        self.linear2 = nn.Linear(208, 208)\n",
    "        self.linear3 = nn.Linear(208, 419)\n",
    "        self.final = nn.Linear(419,9)\n",
    "      \n",
    "    def forward(self, x):\n",
    "        x = F.leaky_relu(self.linear1(x))\n",
    "        x = F.leaky_relu(self.linear2(x))\n",
    "        x = F.leaky_relu(self.linear3(x))\n",
    "        x = self.final(x)\n",
    "        return x\n",
    "\n",
    "model_audio = MonReseau()\n",
    "model_audio.to(device)"
   ]
  },
  {
   "cell_type": "code",
   "execution_count": 10,
   "metadata": {
    "execution": {
     "iopub.execute_input": "2021-04-19T12:25:37.965370Z",
     "iopub.status.busy": "2021-04-19T12:25:37.964321Z",
     "iopub.status.idle": "2021-04-19T12:25:37.967604Z",
     "shell.execute_reply": "2021-04-19T12:25:37.968223Z"
    },
    "papermill": {
     "duration": 0.046199,
     "end_time": "2021-04-19T12:25:37.968389",
     "exception": false,
     "start_time": "2021-04-19T12:25:37.922190",
     "status": "completed"
    },
    "tags": []
   },
   "outputs": [],
   "source": [
    "#optimizer = optim.Adam(model_audio.parameters(), lr=0.001)\n",
    "optimizer = optim.SGD(model_audio.parameters(), lr = 0.05, momentum=0.9)\n",
    "scheduler = optim.lr_scheduler.StepLR(optimizer, step_size=10, gamma=0.5)\n",
    "criterion = nn.CrossEntropyLoss()"
   ]
  },
  {
   "cell_type": "markdown",
   "metadata": {
    "papermill": {
     "duration": 0.035772,
     "end_time": "2021-04-19T12:25:38.040224",
     "exception": false,
     "start_time": "2021-04-19T12:25:38.004452",
     "status": "completed"
    },
    "tags": []
   },
   "source": [
    "#### Visualisation de scheduler"
   ]
  },
  {
   "cell_type": "code",
   "execution_count": 11,
   "metadata": {
    "execution": {
     "iopub.execute_input": "2021-04-19T12:25:38.121505Z",
     "iopub.status.busy": "2021-04-19T12:25:38.120593Z",
     "iopub.status.idle": "2021-04-19T12:25:38.309412Z",
     "shell.execute_reply": "2021-04-19T12:25:38.308815Z"
    },
    "papermill": {
     "duration": 0.232948,
     "end_time": "2021-04-19T12:25:38.309664",
     "exception": false,
     "start_time": "2021-04-19T12:25:38.076716",
     "status": "completed"
    },
    "tags": []
   },
   "outputs": [
    {
     "name": "stderr",
     "output_type": "stream",
     "text": [
      "/opt/conda/lib/python3.7/site-packages/torch/optim/lr_scheduler.py:136: UserWarning: Detected call of `lr_scheduler.step()` before `optimizer.step()`. In PyTorch 1.1.0 and later, you should call them in the opposite order: `optimizer.step()` before `lr_scheduler.step()`.  Failure to do this will result in PyTorch skipping the first value of the learning rate schedule. See more details at https://pytorch.org/docs/stable/optim.html#how-to-adjust-learning-rate\n",
      "  \"https://pytorch.org/docs/stable/optim.html#how-to-adjust-learning-rate\", UserWarning)\n",
      "/opt/conda/lib/python3.7/site-packages/torch/optim/lr_scheduler.py:370: UserWarning: To get the last learning rate computed by the scheduler, please use `get_last_lr()`.\n",
      "  \"please use `get_last_lr()`.\", UserWarning)\n"
     ]
    },
    {
     "data": {
      "text/plain": [
       "<matplotlib.legend.Legend at 0x7f33f8961b10>"
      ]
     },
     "execution_count": 11,
     "metadata": {},
     "output_type": "execute_result"
    },
    {
     "data": {
      "image/png": "[encoded data removed]",
      "text/plain": [
       "<Figure size 432x288 with 1 Axes>"
      ]
     },
     "metadata": {
      "needs_background": "light"
     },
     "output_type": "display_data"
    }
   ],
   "source": [
    "plt.figure()\n",
    "y = []\n",
    "for epoch in range(30):\n",
    "    scheduler.step()\n",
    "    lr = scheduler.get_lr()\n",
    "    y.append(scheduler.get_lr()[0])\n",
    "        \n",
    "plt.plot( y,label='Scheduler for epoch')\n",
    "plt.legend(frameon=False)"
   ]
  },
  {
   "cell_type": "markdown",
   "metadata": {
    "papermill": {
     "duration": 0.03685,
     "end_time": "2021-04-19T12:25:38.383968",
     "exception": false,
     "start_time": "2021-04-19T12:25:38.347118",
     "status": "completed"
    },
    "tags": []
   },
   "source": [
    "#### Fonction de entraînement et fonction de validation"
   ]
  },
  {
   "cell_type": "code",
   "execution_count": 12,
   "metadata": {
    "execution": {
     "iopub.execute_input": "2021-04-19T12:25:38.465699Z",
     "iopub.status.busy": "2021-04-19T12:25:38.464478Z",
     "iopub.status.idle": "2021-04-19T12:25:38.468443Z",
     "shell.execute_reply": "2021-04-19T12:25:38.467920Z"
    },
    "papermill": {
     "duration": 0.047893,
     "end_time": "2021-04-19T12:25:38.468615",
     "exception": false,
     "start_time": "2021-04-19T12:25:38.420722",
     "status": "completed"
    },
    "tags": []
   },
   "outputs": [],
   "source": [
    "from torch.autograd import Variable\n",
    "\n",
    "def train(model,trainLoader,optimizer,criterion):\n",
    "    model.train()\n",
    "    total_loss = 0\n",
    "    total=0\n",
    "    for inputs, label in trainLoader:\n",
    "        inputs = Variable(inputs.cuda()) \n",
    "        label = Variable(label.cuda()) \n",
    "        optimizer.zero_grad()\n",
    "\n",
    "        target = model(inputs)\n",
    "        loss = criterion(target, label)\n",
    "        loss.backward()\n",
    "        optimizer.step()\n",
    "        total += label.size(0)\n",
    "        total_loss += loss.item()\n",
    "    return total_loss/float(total)"
   ]
  },
  {
   "cell_type": "code",
   "execution_count": 13,
   "metadata": {
    "execution": {
     "iopub.execute_input": "2021-04-19T12:25:38.552983Z",
     "iopub.status.busy": "2021-04-19T12:25:38.551984Z",
     "iopub.status.idle": "2021-04-19T12:25:38.555636Z",
     "shell.execute_reply": "2021-04-19T12:25:38.555068Z"
    },
    "papermill": {
     "duration": 0.049612,
     "end_time": "2021-04-19T12:25:38.555777",
     "exception": false,
     "start_time": "2021-04-19T12:25:38.506165",
     "status": "completed"
    },
    "tags": []
   },
   "outputs": [],
   "source": [
    "def evaluate(model,testLoader,criterion):\n",
    "    model.eval()\n",
    "    corrects = eval_loss = 0\n",
    "    total=0\n",
    "    for inputs, label in testLoader:\n",
    "        inputs = Variable(inputs.cuda()) \n",
    "        label = Variable(label.cuda()) \n",
    "        pred = model(inputs)\n",
    "        loss = criterion(pred, label)\n",
    "        total+= label.size(0)\n",
    "        eval_loss += loss.item()\n",
    "        corrects += (torch.max(pred, 1)[1].view(label.size()).data == label.data).sum()\n",
    "    return eval_loss/float(total), corrects, corrects*100.0/total, total"
   ]
  },
  {
   "cell_type": "code",
   "execution_count": 14,
   "metadata": {
    "execution": {
     "iopub.execute_input": "2021-04-19T12:25:38.640595Z",
     "iopub.status.busy": "2021-04-19T12:25:38.639360Z",
     "iopub.status.idle": "2021-04-19T12:25:38.642910Z",
     "shell.execute_reply": "2021-04-19T12:25:38.642340Z"
    },
    "papermill": {
     "duration": 0.050828,
     "end_time": "2021-04-19T12:25:38.643061",
     "exception": false,
     "start_time": "2021-04-19T12:25:38.592233",
     "status": "completed"
    },
    "tags": []
   },
   "outputs": [],
   "source": [
    "import time\n",
    "\n",
    "def train_epoches(model,trainLoader,testLoader,epochs,scheduler,optimizer,criterion):\n",
    "    train_loss = []\n",
    "    valid_loss = []\n",
    "    accuracy = []\n",
    "\n",
    "    best_acc = None\n",
    "    total_start_time = time.time()\n",
    "    \n",
    "    print('-' * 90)\n",
    "    for epoch in range(epochs):\n",
    "        scheduler.step()\n",
    "        epoch_start_time = time.time()\n",
    "        loss = train(model,trainLoader,optimizer,criterion)\n",
    "        train_loss.append(loss*1000.)\n",
    "\n",
    "        print('| start of epoch {:3d} | time: {:2.2f}s | train_loss {:5.6f}'.format(epoch,\n",
    "                                                                              time.time() - epoch_start_time,\n",
    "                                                                              loss))\n",
    "        evaluate_start_time = time.time()\n",
    "        loss, corrects, acc, size = evaluate(model,testLoader,criterion)\n",
    "        valid_loss.append(loss*1000.)\n",
    "        accuracy.append(acc)\n",
    "\n",
    "        print('-' * 10)\n",
    "        print('| end of epoch {:3d} | time: {:2.2f}s | test_loss {:.4f} | accuracy {}%({}/{})'.format(epoch,\n",
    "                                                                                                 time.time() - epoch_start_time,\n",
    "                                                                                                 loss,\n",
    "                                                                                                 acc,\n",
    "                                                                                                 corrects,\n",
    "                                                                                                 size))\n",
    "        print('-' * 10)\n",
    "    return train_loss,valid_loss"
   ]
  },
  {
   "cell_type": "code",
   "execution_count": null,
   "metadata": {
    "papermill": {
     "duration": 0.037238,
     "end_time": "2021-04-19T12:25:38.717236",
     "exception": false,
     "start_time": "2021-04-19T12:25:38.679998",
     "status": "completed"
    },
    "tags": []
   },
   "outputs": [],
   "source": []
  },
  {
   "cell_type": "markdown",
   "metadata": {
    "papermill": {
     "duration": 0.037131,
     "end_time": "2021-04-19T12:25:38.792003",
     "exception": false,
     "start_time": "2021-04-19T12:25:38.754872",
     "status": "completed"
    },
    "tags": []
   },
   "source": [
    "#### Entraînement du modèle"
   ]
  },
  {
   "cell_type": "code",
   "execution_count": 15,
   "metadata": {
    "execution": {
     "iopub.execute_input": "2021-04-19T12:25:38.875553Z",
     "iopub.status.busy": "2021-04-19T12:25:38.874836Z",
     "iopub.status.idle": "2021-04-19T12:25:53.052869Z",
     "shell.execute_reply": "2021-04-19T12:25:53.053661Z"
    },
    "papermill": {
     "duration": 14.225128,
     "end_time": "2021-04-19T12:25:53.053925",
     "exception": false,
     "start_time": "2021-04-19T12:25:38.828797",
     "status": "completed"
    },
    "tags": []
   },
   "outputs": [
    {
     "name": "stdout",
     "output_type": "stream",
     "text": [
      "------------------------------------------------------------------------------------------\n",
      "| start of epoch   0 | time: 1.19s | train_loss 0.019273\n",
      "----------\n",
      "| end of epoch   0 | time: 1.22s | test_loss 0.0136 | accuracy 62.70818328857422%(866/1381)\n",
      "----------\n",
      "| start of epoch   1 | time: 0.41s | train_loss 0.010256\n",
      "----------\n",
      "| end of epoch   1 | time: 0.43s | test_loss 0.0081 | accuracy 75.81462860107422%(1047/1381)\n",
      "----------\n",
      "| start of epoch   2 | time: 0.41s | train_loss 0.007158\n",
      "----------\n",
      "| end of epoch   2 | time: 0.43s | test_loss 0.0063 | accuracy 79.72483825683594%(1101/1381)\n",
      "----------\n",
      "| start of epoch   3 | time: 0.40s | train_loss 0.005368\n",
      "----------\n",
      "| end of epoch   3 | time: 0.43s | test_loss 0.0048 | accuracy 84.7212142944336%(1170/1381)\n",
      "----------\n",
      "| start of epoch   4 | time: 0.40s | train_loss 0.004190\n",
      "----------\n",
      "| end of epoch   4 | time: 0.43s | test_loss 0.0041 | accuracy 86.38667297363281%(1193/1381)\n",
      "----------\n",
      "| start of epoch   5 | time: 0.41s | train_loss 0.003428\n",
      "----------\n",
      "| end of epoch   5 | time: 0.43s | test_loss 0.0035 | accuracy 88.7038345336914%(1225/1381)\n",
      "----------\n",
      "| start of epoch   6 | time: 0.41s | train_loss 0.002856\n",
      "----------\n",
      "| end of epoch   6 | time: 0.44s | test_loss 0.0032 | accuracy 89.28312683105469%(1233/1381)\n",
      "----------\n",
      "| start of epoch   7 | time: 0.42s | train_loss 0.002432\n",
      "----------\n",
      "| end of epoch   7 | time: 0.44s | test_loss 0.0029 | accuracy 90.87617492675781%(1255/1381)\n",
      "----------\n",
      "| start of epoch   8 | time: 0.41s | train_loss 0.002092\n",
      "----------\n",
      "| end of epoch   8 | time: 0.44s | test_loss 0.0028 | accuracy 92.10717010498047%(1272/1381)\n",
      "----------\n",
      "| start of epoch   9 | time: 0.40s | train_loss 0.001750\n",
      "----------\n",
      "| end of epoch   9 | time: 0.43s | test_loss 0.0026 | accuracy 91.96234893798828%(1270/1381)\n",
      "----------\n",
      "| start of epoch  10 | time: 0.41s | train_loss 0.001579\n",
      "----------\n",
      "| end of epoch  10 | time: 0.43s | test_loss 0.0026 | accuracy 92.39681243896484%(1276/1381)\n",
      "----------\n",
      "| start of epoch  11 | time: 0.42s | train_loss 0.001473\n",
      "----------\n",
      "| end of epoch  11 | time: 0.45s | test_loss 0.0026 | accuracy 92.17958068847656%(1273/1381)\n",
      "----------\n",
      "| start of epoch  12 | time: 0.41s | train_loss 0.001350\n",
      "----------\n",
      "| end of epoch  12 | time: 0.44s | test_loss 0.0025 | accuracy 92.61405181884766%(1279/1381)\n",
      "----------\n",
      "| start of epoch  13 | time: 0.57s | train_loss 0.001259\n",
      "----------\n",
      "| end of epoch  13 | time: 0.61s | test_loss 0.0025 | accuracy 92.17958068847656%(1273/1381)\n",
      "----------\n",
      "| start of epoch  14 | time: 0.50s | train_loss 0.001159\n",
      "----------\n",
      "| end of epoch  14 | time: 0.53s | test_loss 0.0025 | accuracy 92.75887298583984%(1281/1381)\n",
      "----------\n",
      "| start of epoch  15 | time: 0.40s | train_loss 0.001074\n",
      "----------\n",
      "| end of epoch  15 | time: 0.43s | test_loss 0.0024 | accuracy 93.48298645019531%(1291/1381)\n",
      "----------\n",
      "| start of epoch  16 | time: 0.40s | train_loss 0.000987\n",
      "----------\n",
      "| end of epoch  16 | time: 0.43s | test_loss 0.0025 | accuracy 92.75887298583984%(1281/1381)\n",
      "----------\n",
      "| start of epoch  17 | time: 0.42s | train_loss 0.000923\n",
      "----------\n",
      "| end of epoch  17 | time: 0.44s | test_loss 0.0024 | accuracy 93.1933364868164%(1287/1381)\n",
      "----------\n",
      "| start of epoch  18 | time: 0.41s | train_loss 0.000851\n",
      "----------\n",
      "| end of epoch  18 | time: 0.43s | test_loss 0.0024 | accuracy 92.68646240234375%(1280/1381)\n",
      "----------\n",
      "| start of epoch  19 | time: 0.41s | train_loss 0.000763\n",
      "----------\n",
      "| end of epoch  19 | time: 0.43s | test_loss 0.0024 | accuracy 93.48298645019531%(1291/1381)\n",
      "----------\n",
      "| start of epoch  20 | time: 0.41s | train_loss 0.000727\n",
      "----------\n",
      "| end of epoch  20 | time: 0.43s | test_loss 0.0024 | accuracy 93.12092590332031%(1286/1381)\n",
      "----------\n",
      "| start of epoch  21 | time: 0.40s | train_loss 0.000689\n",
      "----------\n",
      "| end of epoch  21 | time: 0.43s | test_loss 0.0024 | accuracy 93.41057586669922%(1290/1381)\n",
      "----------\n",
      "| start of epoch  22 | time: 0.47s | train_loss 0.000662\n",
      "----------\n",
      "| end of epoch  22 | time: 0.49s | test_loss 0.0024 | accuracy 93.2657470703125%(1288/1381)\n",
      "----------\n",
      "| start of epoch  23 | time: 0.42s | train_loss 0.000644\n",
      "----------\n",
      "| end of epoch  23 | time: 0.44s | test_loss 0.0024 | accuracy 93.04851531982422%(1285/1381)\n",
      "----------\n",
      "| start of epoch  24 | time: 0.41s | train_loss 0.000628\n",
      "----------\n",
      "| end of epoch  24 | time: 0.44s | test_loss 0.0024 | accuracy 93.1933364868164%(1287/1381)\n",
      "----------\n",
      "| start of epoch  25 | time: 0.41s | train_loss 0.000591\n",
      "----------\n",
      "| end of epoch  25 | time: 0.43s | test_loss 0.0024 | accuracy 92.83128356933594%(1282/1381)\n",
      "----------\n",
      "| start of epoch  26 | time: 0.41s | train_loss 0.000563\n",
      "----------\n",
      "| end of epoch  26 | time: 0.44s | test_loss 0.0024 | accuracy 92.90369415283203%(1283/1381)\n",
      "----------\n",
      "| start of epoch  27 | time: 0.43s | train_loss 0.000545\n",
      "----------\n",
      "| end of epoch  27 | time: 0.45s | test_loss 0.0024 | accuracy 93.3381576538086%(1289/1381)\n",
      "----------\n",
      "| start of epoch  28 | time: 0.41s | train_loss 0.000520\n",
      "----------\n",
      "| end of epoch  28 | time: 0.43s | test_loss 0.0024 | accuracy 92.97610473632812%(1284/1381)\n",
      "----------\n",
      "| start of epoch  29 | time: 0.40s | train_loss 0.000491\n",
      "----------\n",
      "| end of epoch  29 | time: 0.43s | test_loss 0.0024 | accuracy 93.2657470703125%(1288/1381)\n",
      "----------\n"
     ]
    }
   ],
   "source": [
    "epochs=30\n",
    "\n",
    "train_loss = []\n",
    "valid_loss = []\n",
    "train_loss,valid_loss=train_epoches(model_audio,audio_loader,audio_test_loader,epochs,scheduler,optimizer,criterion)"
   ]
  },
  {
   "cell_type": "code",
   "execution_count": 16,
   "metadata": {
    "execution": {
     "iopub.execute_input": "2021-04-19T12:25:53.185881Z",
     "iopub.status.busy": "2021-04-19T12:25:53.175280Z",
     "iopub.status.idle": "2021-04-19T12:25:53.365346Z",
     "shell.execute_reply": "2021-04-19T12:25:53.364277Z"
    },
    "papermill": {
     "duration": 0.263156,
     "end_time": "2021-04-19T12:25:53.365496",
     "exception": false,
     "start_time": "2021-04-19T12:25:53.102340",
     "status": "completed"
    },
    "tags": []
   },
   "outputs": [
    {
     "data": {
      "image/png": "[encoded data removed]",
      "text/plain": [
       "<Figure size 432x288 with 1 Axes>"
      ]
     },
     "metadata": {
      "needs_background": "light"
     },
     "output_type": "display_data"
    }
   ],
   "source": [
    "def plot_loss(train_loss, valid_loss, title):\n",
    "    plt.plot(train_loss, label='Training loss')\n",
    "    plt.plot(valid_loss, label='Validation loss')\n",
    "    plt.legend(frameon=False)\n",
    "    plt.title(title)\n",
    "    \n",
    "plot_loss(train_loss, valid_loss, \"Loss of MLP\")\n",
    "plt.show()"
   ]
  },
  {
   "cell_type": "markdown",
   "metadata": {
    "papermill": {
     "duration": 0.049092,
     "end_time": "2021-04-19T12:25:53.464749",
     "exception": false,
     "start_time": "2021-04-19T12:25:53.415657",
     "status": "completed"
    },
    "tags": []
   },
   "source": [
    "#### Prediction du modele MLP"
   ]
  },
  {
   "cell_type": "code",
   "execution_count": 17,
   "metadata": {
    "execution": {
     "iopub.execute_input": "2021-04-19T12:25:53.573007Z",
     "iopub.status.busy": "2021-04-19T12:25:53.572179Z",
     "iopub.status.idle": "2021-04-19T12:26:01.272683Z",
     "shell.execute_reply": "2021-04-19T12:26:01.273196Z"
    },
    "papermill": {
     "duration": 7.758904,
     "end_time": "2021-04-19T12:26:01.273395",
     "exception": false,
     "start_time": "2021-04-19T12:25:53.514491",
     "status": "completed"
    },
    "tags": []
   },
   "outputs": [
    {
     "name": "stdout",
     "output_type": "stream",
     "text": [
      "[0 0 0 ... 7 3 1]\n"
     ]
    }
   ],
   "source": [
    "import tensorflow as tf\n",
    "#img_tensor= tf.convert_to_tensor(img_test)\n",
    "model_audio.eval()\n",
    "y_mlp_pred = []\n",
    "audio_test_scaled = scaler_audio.transform(audio_test)\n",
    "inputs=torch.from_numpy(audio_test_scaled).float()\n",
    "with torch.no_grad():  ### ici pas besoin de calculer les gradients\n",
    "    inputs = Variable(inputs.cuda())\n",
    "    outputs = model_audio(inputs)\n",
    "    _,pred = outputs.max(1)\n",
    "    y_mlp_pred.append(pred)\n",
    "\n",
    "y_mlp_pred=pred.cpu().numpy()\n",
    "print(y_mlp_pred)"
   ]
  },
  {
   "cell_type": "markdown",
   "metadata": {
    "papermill": {
     "duration": 0.049049,
     "end_time": "2021-04-19T12:26:01.371904",
     "exception": false,
     "start_time": "2021-04-19T12:26:01.322855",
     "status": "completed"
    },
    "tags": []
   },
   "source": [
    "## PARTIE2 : MODELISATION POUR IMAGE\n"
   ]
  },
  {
   "cell_type": "markdown",
   "metadata": {
    "papermill": {
     "duration": 0.048768,
     "end_time": "2021-04-19T12:26:01.470675",
     "exception": false,
     "start_time": "2021-04-19T12:26:01.421907",
     "status": "completed"
    },
    "tags": []
   },
   "source": [
    "### Visualisation d'une image"
   ]
  },
  {
   "cell_type": "code",
   "execution_count": 18,
   "metadata": {
    "execution": {
     "iopub.execute_input": "2021-04-19T12:26:01.577031Z",
     "iopub.status.busy": "2021-04-19T12:26:01.576345Z",
     "iopub.status.idle": "2021-04-19T12:26:01.801536Z",
     "shell.execute_reply": "2021-04-19T12:26:01.802215Z"
    },
    "papermill": {
     "duration": 0.282318,
     "end_time": "2021-04-19T12:26:01.802441",
     "exception": false,
     "start_time": "2021-04-19T12:26:01.520123",
     "status": "completed"
    },
    "tags": []
   },
   "outputs": [
    {
     "name": "stdout",
     "output_type": "stream",
     "text": [
      "RESTAURANT\n"
     ]
    },
    {
     "data": {
      "image/png": "[encoded data removed]",
      "text/plain": [
       "<Figure size 432x288 with 1 Axes>"
      ]
     },
     "metadata": {
      "needs_background": "light"
     },
     "output_type": "display_data"
    }
   ],
   "source": [
    "\n",
    "from PIL import Image\n",
    "\n",
    "# visu image\n",
    "idx = 5\n",
    "\n",
    "img = Image.open(os.path.join(datadir, img_list.iloc[idx]))\n",
    "plt.imshow(np.asarray(img))\n",
    "print(class_list[labels[idx]])"
   ]
  },
  {
   "cell_type": "markdown",
   "metadata": {
    "papermill": {
     "duration": 0.054646,
     "end_time": "2021-04-19T12:26:01.912158",
     "exception": false,
     "start_time": "2021-04-19T12:26:01.857512",
     "status": "completed"
    },
    "tags": []
   },
   "source": [
    "#### Diviser aléatoirement les données en ensemble d'apprentissage et ensemble de test"
   ]
  },
  {
   "cell_type": "code",
   "execution_count": 19,
   "metadata": {
    "execution": {
     "iopub.execute_input": "2021-04-19T12:26:02.029189Z",
     "iopub.status.busy": "2021-04-19T12:26:02.028363Z",
     "iopub.status.idle": "2021-04-19T12:26:02.032766Z",
     "shell.execute_reply": "2021-04-19T12:26:02.032123Z"
    },
    "papermill": {
     "duration": 0.065902,
     "end_time": "2021-04-19T12:26:02.032946",
     "exception": false,
     "start_time": "2021-04-19T12:26:01.967044",
     "status": "completed"
    },
    "tags": []
   },
   "outputs": [],
   "source": [
    "from sklearn.model_selection import train_test_split\n",
    "Xn, Xv, yn, yv = train_test_split(img_list, labels,\n",
    "                                                    random_state=42,\n",
    "                                                    test_size=0.1)"
   ]
  },
  {
   "cell_type": "markdown",
   "metadata": {
    "papermill": {
     "duration": 0.053573,
     "end_time": "2021-04-19T12:26:02.140014",
     "exception": false,
     "start_time": "2021-04-19T12:26:02.086441",
     "status": "completed"
    },
    "tags": []
   },
   "source": [
    "#### Créer les datasets et les dataloaders pour image"
   ]
  },
  {
   "cell_type": "code",
   "execution_count": 20,
   "metadata": {
    "execution": {
     "iopub.execute_input": "2021-04-19T12:26:02.266743Z",
     "iopub.status.busy": "2021-04-19T12:26:02.259520Z",
     "iopub.status.idle": "2021-04-19T12:26:02.270671Z",
     "shell.execute_reply": "2021-04-19T12:26:02.270093Z"
    },
    "papermill": {
     "duration": 0.075384,
     "end_time": "2021-04-19T12:26:02.270813",
     "exception": false,
     "start_time": "2021-04-19T12:26:02.195429",
     "status": "completed"
    },
    "tags": []
   },
   "outputs": [],
   "source": [
    "from PIL import Image\n",
    "from torch.utils.data import Dataset, DataLoader\n",
    "\n",
    "class ImageDataset(Dataset):\n",
    "    def __init__(self, root_dir, files, labels=None, img_transform=None, audio_transform=None):\n",
    "        self.root_dir = root_dir\n",
    "        self.files = files\n",
    "        self.labels = labels\n",
    "        self.img_transform = img_transform\n",
    "        self.audio_transform = audio_transform\n",
    "\n",
    "    def __len__(self):\n",
    "        return len(self.files)\n",
    "\n",
    "    def __getitem__(self, idx):\n",
    "        img = Image.open(os.path.join(self.root_dir, self.files.iloc[idx]))\n",
    "        if self.img_transform is not None:\n",
    "            img = self.img_transform(img)\n",
    "        if self.labels is not None:\n",
    "            return img, int(self.labels[idx])\n",
    "        else:\n",
    "            return img\n",
    "\n",
    "import torchvision\n",
    "\n",
    "img_list_transform = torchvision.transforms.Compose([\n",
    "    torchvision.transforms.Resize((224,224)),\n",
    "    torchvision.transforms.ToTensor(),\n",
    "    torchvision.transforms.Normalize([0.485, 0.456, 0.406], [0.229, 0.224, 0.225])\n",
    "])\n",
    "\n",
    "audio_transform = None\n",
    "\n",
    "img_dataset = ImageDataset(root_dir=datadir,\n",
    "                               files=Xn,\n",
    "                                 labels=yn,\n",
    "                              img_transform=img_list_transform,\n",
    "                                 audio_transform=audio_transform)\n",
    "\n",
    "img_evaluate_dataset = ImageDataset(root_dir=datadir,\n",
    "                               files=Xv,\n",
    "                                 labels=yv,\n",
    "                              img_transform=img_list_transform,\n",
    "                                 audio_transform=audio_transform)\n",
    "\n",
    "img_test_dataset = ImageDataset(root_dir=datadir,\n",
    "                               files=img_test_list,\n",
    "                                 labels=None,\n",
    "                              img_transform=img_list_transform,\n",
    "                                 audio_transform=audio_transform)\n",
    "## Taille du batch\n",
    "nsample = 100\n",
    "\n",
    "# img_dataset = ImageAudioDataset(root_dir=datadir,\n",
    "#                                files=img_list[:10*nsample],\n",
    "#                                  audio=audio[:10*nsample,:],\n",
    "#                                  labels=labels[:10*nsample],\n",
    "#                               img_transform=img_list_transform,\n",
    "#                                  audio_transform=audio_transform)\n",
    "\n",
    "# Shuffle = false pour echantillonner les données dans l'ordre\n",
    "img_loader = DataLoader(img_dataset, batch_size=nsample, shuffle=False, num_workers=4, pin_memory=True)\n",
    "img_evaluate_loader = DataLoader(img_evaluate_dataset, batch_size=nsample, shuffle=False, num_workers=4, pin_memory=True)\n",
    "img_test_loader = DataLoader(img_test_dataset, batch_size=nsample, shuffle=False, num_workers=4, pin_memory=True)"
   ]
  },
  {
   "cell_type": "markdown",
   "metadata": {
    "papermill": {
     "duration": 0.055057,
     "end_time": "2021-04-19T12:26:02.379791",
     "exception": false,
     "start_time": "2021-04-19T12:26:02.324734",
     "status": "completed"
    },
    "tags": []
   },
   "source": [
    "### Modele 1 : resnext50_32x4d"
   ]
  },
  {
   "cell_type": "code",
   "execution_count": 21,
   "metadata": {
    "collapsed": true,
    "execution": {
     "iopub.execute_input": "2021-04-19T12:26:02.501575Z",
     "iopub.status.busy": "2021-04-19T12:26:02.500842Z",
     "iopub.status.idle": "2021-04-19T12:26:04.874072Z",
     "shell.execute_reply": "2021-04-19T12:26:04.874653Z"
    },
    "jupyter": {
     "outputs_hidden": true
    },
    "papermill": {
     "duration": 2.439487,
     "end_time": "2021-04-19T12:26:04.874838",
     "exception": false,
     "start_time": "2021-04-19T12:26:02.435351",
     "status": "completed"
    },
    "tags": []
   },
   "outputs": [
    {
     "name": "stderr",
     "output_type": "stream",
     "text": [
      "Downloading: \"https://download.pytorch.org/models/resnext50_32x4d-7cdf4587.pth\" to /root/.cache/torch/hub/checkpoints/resnext50_32x4d-7cdf4587.pth\n"
     ]
    },
    {
     "data": {
      "application/vnd.jupyter.widget-view+json": {
       "model_id": "36abed9a0fde4f3daaea7ef6577610c1",
       "version_major": 2,
       "version_minor": 0
      },
      "text/plain": [
       "  0%|          | 0.00/95.8M [00:00<?, ?B/s]"
      ]
     },
     "metadata": {},
     "output_type": "display_data"
    },
    {
     "data": {
      "text/plain": [
       "ResNet(\n",
       "  (conv1): Conv2d(3, 64, kernel_size=(7, 7), stride=(2, 2), padding=(3, 3), bias=False)\n",
       "  (bn1): BatchNorm2d(64, eps=1e-05, momentum=0.1, affine=True, track_running_stats=True)\n",
       "  (relu): ReLU(inplace=True)\n",
       "  (maxpool): MaxPool2d(kernel_size=3, stride=2, padding=1, dilation=1, ceil_mode=False)\n",
       "  (layer1): Sequential(\n",
       "    (0): Bottleneck(\n",
       "      (conv1): Conv2d(64, 128, kernel_size=(1, 1), stride=(1, 1), bias=False)\n",
       "      (bn1): BatchNorm2d(128, eps=1e-05, momentum=0.1, affine=True, track_running_stats=True)\n",
       "      (conv2): Conv2d(128, 128, kernel_size=(3, 3), stride=(1, 1), padding=(1, 1), groups=32, bias=False)\n",
       "      (bn2): BatchNorm2d(128, eps=1e-05, momentum=0.1, affine=True, track_running_stats=True)\n",
       "      (conv3): Conv2d(128, 256, kernel_size=(1, 1), stride=(1, 1), bias=False)\n",
       "      (bn3): BatchNorm2d(256, eps=1e-05, momentum=0.1, affine=True, track_running_stats=True)\n",
       "      (relu): ReLU(inplace=True)\n",
       "      (downsample): Sequential(\n",
       "        (0): Conv2d(64, 256, kernel_size=(1, 1), stride=(1, 1), bias=False)\n",
       "        (1): BatchNorm2d(256, eps=1e-05, momentum=0.1, affine=True, track_running_stats=True)\n",
       "      )\n",
       "    )\n",
       "    (1): Bottleneck(\n",
       "      (conv1): Conv2d(256, 128, kernel_size=(1, 1), stride=(1, 1), bias=False)\n",
       "      (bn1): BatchNorm2d(128, eps=1e-05, momentum=0.1, affine=True, track_running_stats=True)\n",
       "      (conv2): Conv2d(128, 128, kernel_size=(3, 3), stride=(1, 1), padding=(1, 1), groups=32, bias=False)\n",
       "      (bn2): BatchNorm2d(128, eps=1e-05, momentum=0.1, affine=True, track_running_stats=True)\n",
       "      (conv3): Conv2d(128, 256, kernel_size=(1, 1), stride=(1, 1), bias=False)\n",
       "      (bn3): BatchNorm2d(256, eps=1e-05, momentum=0.1, affine=True, track_running_stats=True)\n",
       "      (relu): ReLU(inplace=True)\n",
       "    )\n",
       "    (2): Bottleneck(\n",
       "      (conv1): Conv2d(256, 128, kernel_size=(1, 1), stride=(1, 1), bias=False)\n",
       "      (bn1): BatchNorm2d(128, eps=1e-05, momentum=0.1, affine=True, track_running_stats=True)\n",
       "      (conv2): Conv2d(128, 128, kernel_size=(3, 3), stride=(1, 1), padding=(1, 1), groups=32, bias=False)\n",
       "      (bn2): BatchNorm2d(128, eps=1e-05, momentum=0.1, affine=True, track_running_stats=True)\n",
       "      (conv3): Conv2d(128, 256, kernel_size=(1, 1), stride=(1, 1), bias=False)\n",
       "      (bn3): BatchNorm2d(256, eps=1e-05, momentum=0.1, affine=True, track_running_stats=True)\n",
       "      (relu): ReLU(inplace=True)\n",
       "    )\n",
       "  )\n",
       "  (layer2): Sequential(\n",
       "    (0): Bottleneck(\n",
       "      (conv1): Conv2d(256, 256, kernel_size=(1, 1), stride=(1, 1), bias=False)\n",
       "      (bn1): BatchNorm2d(256, eps=1e-05, momentum=0.1, affine=True, track_running_stats=True)\n",
       "      (conv2): Conv2d(256, 256, kernel_size=(3, 3), stride=(2, 2), padding=(1, 1), groups=32, bias=False)\n",
       "      (bn2): BatchNorm2d(256, eps=1e-05, momentum=0.1, affine=True, track_running_stats=True)\n",
       "      (conv3): Conv2d(256, 512, kernel_size=(1, 1), stride=(1, 1), bias=False)\n",
       "      (bn3): BatchNorm2d(512, eps=1e-05, momentum=0.1, affine=True, track_running_stats=True)\n",
       "      (relu): ReLU(inplace=True)\n",
       "      (downsample): Sequential(\n",
       "        (0): Conv2d(256, 512, kernel_size=(1, 1), stride=(2, 2), bias=False)\n",
       "        (1): BatchNorm2d(512, eps=1e-05, momentum=0.1, affine=True, track_running_stats=True)\n",
       "      )\n",
       "    )\n",
       "    (1): Bottleneck(\n",
       "      (conv1): Conv2d(512, 256, kernel_size=(1, 1), stride=(1, 1), bias=False)\n",
       "      (bn1): BatchNorm2d(256, eps=1e-05, momentum=0.1, affine=True, track_running_stats=True)\n",
       "      (conv2): Conv2d(256, 256, kernel_size=(3, 3), stride=(1, 1), padding=(1, 1), groups=32, bias=False)\n",
       "      (bn2): BatchNorm2d(256, eps=1e-05, momentum=0.1, affine=True, track_running_stats=True)\n",
       "      (conv3): Conv2d(256, 512, kernel_size=(1, 1), stride=(1, 1), bias=False)\n",
       "      (bn3): BatchNorm2d(512, eps=1e-05, momentum=0.1, affine=True, track_running_stats=True)\n",
       "      (relu): ReLU(inplace=True)\n",
       "    )\n",
       "    (2): Bottleneck(\n",
       "      (conv1): Conv2d(512, 256, kernel_size=(1, 1), stride=(1, 1), bias=False)\n",
       "      (bn1): BatchNorm2d(256, eps=1e-05, momentum=0.1, affine=True, track_running_stats=True)\n",
       "      (conv2): Conv2d(256, 256, kernel_size=(3, 3), stride=(1, 1), padding=(1, 1), groups=32, bias=False)\n",
       "      (bn2): BatchNorm2d(256, eps=1e-05, momentum=0.1, affine=True, track_running_stats=True)\n",
       "      (conv3): Conv2d(256, 512, kernel_size=(1, 1), stride=(1, 1), bias=False)\n",
       "      (bn3): BatchNorm2d(512, eps=1e-05, momentum=0.1, affine=True, track_running_stats=True)\n",
       "      (relu): ReLU(inplace=True)\n",
       "    )\n",
       "    (3): Bottleneck(\n",
       "      (conv1): Conv2d(512, 256, kernel_size=(1, 1), stride=(1, 1), bias=False)\n",
       "      (bn1): BatchNorm2d(256, eps=1e-05, momentum=0.1, affine=True, track_running_stats=True)\n",
       "      (conv2): Conv2d(256, 256, kernel_size=(3, 3), stride=(1, 1), padding=(1, 1), groups=32, bias=False)\n",
       "      (bn2): BatchNorm2d(256, eps=1e-05, momentum=0.1, affine=True, track_running_stats=True)\n",
       "      (conv3): Conv2d(256, 512, kernel_size=(1, 1), stride=(1, 1), bias=False)\n",
       "      (bn3): BatchNorm2d(512, eps=1e-05, momentum=0.1, affine=True, track_running_stats=True)\n",
       "      (relu): ReLU(inplace=True)\n",
       "    )\n",
       "  )\n",
       "  (layer3): Sequential(\n",
       "    (0): Bottleneck(\n",
       "      (conv1): Conv2d(512, 512, kernel_size=(1, 1), stride=(1, 1), bias=False)\n",
       "      (bn1): BatchNorm2d(512, eps=1e-05, momentum=0.1, affine=True, track_running_stats=True)\n",
       "      (conv2): Conv2d(512, 512, kernel_size=(3, 3), stride=(2, 2), padding=(1, 1), groups=32, bias=False)\n",
       "      (bn2): BatchNorm2d(512, eps=1e-05, momentum=0.1, affine=True, track_running_stats=True)\n",
       "      (conv3): Conv2d(512, 1024, kernel_size=(1, 1), stride=(1, 1), bias=False)\n",
       "      (bn3): BatchNorm2d(1024, eps=1e-05, momentum=0.1, affine=True, track_running_stats=True)\n",
       "      (relu): ReLU(inplace=True)\n",
       "      (downsample): Sequential(\n",
       "        (0): Conv2d(512, 1024, kernel_size=(1, 1), stride=(2, 2), bias=False)\n",
       "        (1): BatchNorm2d(1024, eps=1e-05, momentum=0.1, affine=True, track_running_stats=True)\n",
       "      )\n",
       "    )\n",
       "    (1): Bottleneck(\n",
       "      (conv1): Conv2d(1024, 512, kernel_size=(1, 1), stride=(1, 1), bias=False)\n",
       "      (bn1): BatchNorm2d(512, eps=1e-05, momentum=0.1, affine=True, track_running_stats=True)\n",
       "      (conv2): Conv2d(512, 512, kernel_size=(3, 3), stride=(1, 1), padding=(1, 1), groups=32, bias=False)\n",
       "      (bn2): BatchNorm2d(512, eps=1e-05, momentum=0.1, affine=True, track_running_stats=True)\n",
       "      (conv3): Conv2d(512, 1024, kernel_size=(1, 1), stride=(1, 1), bias=False)\n",
       "      (bn3): BatchNorm2d(1024, eps=1e-05, momentum=0.1, affine=True, track_running_stats=True)\n",
       "      (relu): ReLU(inplace=True)\n",
       "    )\n",
       "    (2): Bottleneck(\n",
       "      (conv1): Conv2d(1024, 512, kernel_size=(1, 1), stride=(1, 1), bias=False)\n",
       "      (bn1): BatchNorm2d(512, eps=1e-05, momentum=0.1, affine=True, track_running_stats=True)\n",
       "      (conv2): Conv2d(512, 512, kernel_size=(3, 3), stride=(1, 1), padding=(1, 1), groups=32, bias=False)\n",
       "      (bn2): BatchNorm2d(512, eps=1e-05, momentum=0.1, affine=True, track_running_stats=True)\n",
       "      (conv3): Conv2d(512, 1024, kernel_size=(1, 1), stride=(1, 1), bias=False)\n",
       "      (bn3): BatchNorm2d(1024, eps=1e-05, momentum=0.1, affine=True, track_running_stats=True)\n",
       "      (relu): ReLU(inplace=True)\n",
       "    )\n",
       "    (3): Bottleneck(\n",
       "      (conv1): Conv2d(1024, 512, kernel_size=(1, 1), stride=(1, 1), bias=False)\n",
       "      (bn1): BatchNorm2d(512, eps=1e-05, momentum=0.1, affine=True, track_running_stats=True)\n",
       "      (conv2): Conv2d(512, 512, kernel_size=(3, 3), stride=(1, 1), padding=(1, 1), groups=32, bias=False)\n",
       "      (bn2): BatchNorm2d(512, eps=1e-05, momentum=0.1, affine=True, track_running_stats=True)\n",
       "      (conv3): Conv2d(512, 1024, kernel_size=(1, 1), stride=(1, 1), bias=False)\n",
       "      (bn3): BatchNorm2d(1024, eps=1e-05, momentum=0.1, affine=True, track_running_stats=True)\n",
       "      (relu): ReLU(inplace=True)\n",
       "    )\n",
       "    (4): Bottleneck(\n",
       "      (conv1): Conv2d(1024, 512, kernel_size=(1, 1), stride=(1, 1), bias=False)\n",
       "      (bn1): BatchNorm2d(512, eps=1e-05, momentum=0.1, affine=True, track_running_stats=True)\n",
       "      (conv2): Conv2d(512, 512, kernel_size=(3, 3), stride=(1, 1), padding=(1, 1), groups=32, bias=False)\n",
       "      (bn2): BatchNorm2d(512, eps=1e-05, momentum=0.1, affine=True, track_running_stats=True)\n",
       "      (conv3): Conv2d(512, 1024, kernel_size=(1, 1), stride=(1, 1), bias=False)\n",
       "      (bn3): BatchNorm2d(1024, eps=1e-05, momentum=0.1, affine=True, track_running_stats=True)\n",
       "      (relu): ReLU(inplace=True)\n",
       "    )\n",
       "    (5): Bottleneck(\n",
       "      (conv1): Conv2d(1024, 512, kernel_size=(1, 1), stride=(1, 1), bias=False)\n",
       "      (bn1): BatchNorm2d(512, eps=1e-05, momentum=0.1, affine=True, track_running_stats=True)\n",
       "      (conv2): Conv2d(512, 512, kernel_size=(3, 3), stride=(1, 1), padding=(1, 1), groups=32, bias=False)\n",
       "      (bn2): BatchNorm2d(512, eps=1e-05, momentum=0.1, affine=True, track_running_stats=True)\n",
       "      (conv3): Conv2d(512, 1024, kernel_size=(1, 1), stride=(1, 1), bias=False)\n",
       "      (bn3): BatchNorm2d(1024, eps=1e-05, momentum=0.1, affine=True, track_running_stats=True)\n",
       "      (relu): ReLU(inplace=True)\n",
       "    )\n",
       "  )\n",
       "  (layer4): Sequential(\n",
       "    (0): Bottleneck(\n",
       "      (conv1): Conv2d(1024, 1024, kernel_size=(1, 1), stride=(1, 1), bias=False)\n",
       "      (bn1): BatchNorm2d(1024, eps=1e-05, momentum=0.1, affine=True, track_running_stats=True)\n",
       "      (conv2): Conv2d(1024, 1024, kernel_size=(3, 3), stride=(2, 2), padding=(1, 1), groups=32, bias=False)\n",
       "      (bn2): BatchNorm2d(1024, eps=1e-05, momentum=0.1, affine=True, track_running_stats=True)\n",
       "      (conv3): Conv2d(1024, 2048, kernel_size=(1, 1), stride=(1, 1), bias=False)\n",
       "      (bn3): BatchNorm2d(2048, eps=1e-05, momentum=0.1, affine=True, track_running_stats=True)\n",
       "      (relu): ReLU(inplace=True)\n",
       "      (downsample): Sequential(\n",
       "        (0): Conv2d(1024, 2048, kernel_size=(1, 1), stride=(2, 2), bias=False)\n",
       "        (1): BatchNorm2d(2048, eps=1e-05, momentum=0.1, affine=True, track_running_stats=True)\n",
       "      )\n",
       "    )\n",
       "    (1): Bottleneck(\n",
       "      (conv1): Conv2d(2048, 1024, kernel_size=(1, 1), stride=(1, 1), bias=False)\n",
       "      (bn1): BatchNorm2d(1024, eps=1e-05, momentum=0.1, affine=True, track_running_stats=True)\n",
       "      (conv2): Conv2d(1024, 1024, kernel_size=(3, 3), stride=(1, 1), padding=(1, 1), groups=32, bias=False)\n",
       "      (bn2): BatchNorm2d(1024, eps=1e-05, momentum=0.1, affine=True, track_running_stats=True)\n",
       "      (conv3): Conv2d(1024, 2048, kernel_size=(1, 1), stride=(1, 1), bias=False)\n",
       "      (bn3): BatchNorm2d(2048, eps=1e-05, momentum=0.1, affine=True, track_running_stats=True)\n",
       "      (relu): ReLU(inplace=True)\n",
       "    )\n",
       "    (2): Bottleneck(\n",
       "      (conv1): Conv2d(2048, 1024, kernel_size=(1, 1), stride=(1, 1), bias=False)\n",
       "      (bn1): BatchNorm2d(1024, eps=1e-05, momentum=0.1, affine=True, track_running_stats=True)\n",
       "      (conv2): Conv2d(1024, 1024, kernel_size=(3, 3), stride=(1, 1), padding=(1, 1), groups=32, bias=False)\n",
       "      (bn2): BatchNorm2d(1024, eps=1e-05, momentum=0.1, affine=True, track_running_stats=True)\n",
       "      (conv3): Conv2d(1024, 2048, kernel_size=(1, 1), stride=(1, 1), bias=False)\n",
       "      (bn3): BatchNorm2d(2048, eps=1e-05, momentum=0.1, affine=True, track_running_stats=True)\n",
       "      (relu): ReLU(inplace=True)\n",
       "    )\n",
       "  )\n",
       "  (avgpool): AdaptiveAvgPool2d(output_size=(1, 1))\n",
       "  (fc): Sequential(\n",
       "    (0): Linear(in_features=2048, out_features=512, bias=True)\n",
       "    (1): ReLU()\n",
       "    (2): Dropout(p=0.3, inplace=False)\n",
       "    (3): Linear(in_features=512, out_features=9, bias=True)\n",
       "    (4): LogSoftmax(dim=1)\n",
       "  )\n",
       ")"
      ]
     },
     "execution_count": 21,
     "metadata": {},
     "output_type": "execute_result"
    }
   ],
   "source": [
    "import torchvision.models\n",
    "\n",
    "resnext = torchvision.models.resnext50_32x4d(pretrained=True)\n",
    "\n",
    "if device.type == 'cuda':\n",
    "    resnext = resnext.cuda()\n",
    "\n",
    "model1 = resnext\n",
    "\n",
    "for param in model1.parameters():\n",
    "    param.requires_grad = False\n",
    "\n",
    "model1.fc = nn.Sequential(nn.Linear(2048, 512),\n",
    "                                nn.ReLU(),\n",
    "                                nn.Dropout(0.3),\n",
    "                                nn.Linear(512, 9),\n",
    "                                nn.LogSoftmax(dim=1))\n",
    "criterion1 = nn.NLLLoss()\n",
    "optimizer1 = optim.Adam(model1.fc.parameters(), lr=0.002)\n",
    "scheduler1 = optim.lr_scheduler.StepLR(optimizer1, step_size=10, gamma=0.2)\n",
    "model1.to(device)"
   ]
  },
  {
   "cell_type": "markdown",
   "metadata": {
    "papermill": {
     "duration": 0.054957,
     "end_time": "2021-04-19T12:26:04.985377",
     "exception": false,
     "start_time": "2021-04-19T12:26:04.930420",
     "status": "completed"
    },
    "tags": []
   },
   "source": [
    "### Modele 2 : resnet152"
   ]
  },
  {
   "cell_type": "code",
   "execution_count": 22,
   "metadata": {
    "collapsed": true,
    "execution": {
     "iopub.execute_input": "2021-04-19T12:26:05.105494Z",
     "iopub.status.busy": "2021-04-19T12:26:05.104406Z",
     "iopub.status.idle": "2021-04-19T12:26:10.703440Z",
     "shell.execute_reply": "2021-04-19T12:26:10.703997Z"
    },
    "jupyter": {
     "outputs_hidden": true
    },
    "papermill": {
     "duration": 5.663196,
     "end_time": "2021-04-19T12:26:10.704253",
     "exception": false,
     "start_time": "2021-04-19T12:26:05.041057",
     "status": "completed"
    },
    "tags": []
   },
   "outputs": [
    {
     "name": "stderr",
     "output_type": "stream",
     "text": [
      "Downloading: \"https://download.pytorch.org/models/resnet152-b121ed2d.pth\" to /root/.cache/torch/hub/checkpoints/resnet152-b121ed2d.pth\n"
     ]
    },
    {
     "data": {
      "application/vnd.jupyter.widget-view+json": {
       "model_id": "8679e0611a2548bfbaa8821310826e32",
       "version_major": 2,
       "version_minor": 0
      },
      "text/plain": [
       "  0%|          | 0.00/230M [00:00<?, ?B/s]"
      ]
     },
     "metadata": {},
     "output_type": "display_data"
    },
    {
     "data": {
      "text/plain": [
       "ResNet(\n",
       "  (conv1): Conv2d(3, 64, kernel_size=(7, 7), stride=(2, 2), padding=(3, 3), bias=False)\n",
       "  (bn1): BatchNorm2d(64, eps=1e-05, momentum=0.1, affine=True, track_running_stats=True)\n",
       "  (relu): ReLU(inplace=True)\n",
       "  (maxpool): MaxPool2d(kernel_size=3, stride=2, padding=1, dilation=1, ceil_mode=False)\n",
       "  (layer1): Sequential(\n",
       "    (0): Bottleneck(\n",
       "      (conv1): Conv2d(64, 64, kernel_size=(1, 1), stride=(1, 1), bias=False)\n",
       "      (bn1): BatchNorm2d(64, eps=1e-05, momentum=0.1, affine=True, track_running_stats=True)\n",
       "      (conv2): Conv2d(64, 64, kernel_size=(3, 3), stride=(1, 1), padding=(1, 1), bias=False)\n",
       "      (bn2): BatchNorm2d(64, eps=1e-05, momentum=0.1, affine=True, track_running_stats=True)\n",
       "      (conv3): Conv2d(64, 256, kernel_size=(1, 1), stride=(1, 1), bias=False)\n",
       "      (bn3): BatchNorm2d(256, eps=1e-05, momentum=0.1, affine=True, track_running_stats=True)\n",
       "      (relu): ReLU(inplace=True)\n",
       "      (downsample): Sequential(\n",
       "        (0): Conv2d(64, 256, kernel_size=(1, 1), stride=(1, 1), bias=False)\n",
       "        (1): BatchNorm2d(256, eps=1e-05, momentum=0.1, affine=True, track_running_stats=True)\n",
       "      )\n",
       "    )\n",
       "    (1): Bottleneck(\n",
       "      (conv1): Conv2d(256, 64, kernel_size=(1, 1), stride=(1, 1), bias=False)\n",
       "      (bn1): BatchNorm2d(64, eps=1e-05, momentum=0.1, affine=True, track_running_stats=True)\n",
       "      (conv2): Conv2d(64, 64, kernel_size=(3, 3), stride=(1, 1), padding=(1, 1), bias=False)\n",
       "      (bn2): BatchNorm2d(64, eps=1e-05, momentum=0.1, affine=True, track_running_stats=True)\n",
       "      (conv3): Conv2d(64, 256, kernel_size=(1, 1), stride=(1, 1), bias=False)\n",
       "      (bn3): BatchNorm2d(256, eps=1e-05, momentum=0.1, affine=True, track_running_stats=True)\n",
       "      (relu): ReLU(inplace=True)\n",
       "    )\n",
       "    (2): Bottleneck(\n",
       "      (conv1): Conv2d(256, 64, kernel_size=(1, 1), stride=(1, 1), bias=False)\n",
       "      (bn1): BatchNorm2d(64, eps=1e-05, momentum=0.1, affine=True, track_running_stats=True)\n",
       "      (conv2): Conv2d(64, 64, kernel_size=(3, 3), stride=(1, 1), padding=(1, 1), bias=False)\n",
       "      (bn2): BatchNorm2d(64, eps=1e-05, momentum=0.1, affine=True, track_running_stats=True)\n",
       "      (conv3): Conv2d(64, 256, kernel_size=(1, 1), stride=(1, 1), bias=False)\n",
       "      (bn3): BatchNorm2d(256, eps=1e-05, momentum=0.1, affine=True, track_running_stats=True)\n",
       "      (relu): ReLU(inplace=True)\n",
       "    )\n",
       "  )\n",
       "  (layer2): Sequential(\n",
       "    (0): Bottleneck(\n",
       "      (conv1): Conv2d(256, 128, kernel_size=(1, 1), stride=(1, 1), bias=False)\n",
       "      (bn1): BatchNorm2d(128, eps=1e-05, momentum=0.1, affine=True, track_running_stats=True)\n",
       "      (conv2): Conv2d(128, 128, kernel_size=(3, 3), stride=(2, 2), padding=(1, 1), bias=False)\n",
       "      (bn2): BatchNorm2d(128, eps=1e-05, momentum=0.1, affine=True, track_running_stats=True)\n",
       "      (conv3): Conv2d(128, 512, kernel_size=(1, 1), stride=(1, 1), bias=False)\n",
       "      (bn3): BatchNorm2d(512, eps=1e-05, momentum=0.1, affine=True, track_running_stats=True)\n",
       "      (relu): ReLU(inplace=True)\n",
       "      (downsample): Sequential(\n",
       "        (0): Conv2d(256, 512, kernel_size=(1, 1), stride=(2, 2), bias=False)\n",
       "        (1): BatchNorm2d(512, eps=1e-05, momentum=0.1, affine=True, track_running_stats=True)\n",
       "      )\n",
       "    )\n",
       "    (1): Bottleneck(\n",
       "      (conv1): Conv2d(512, 128, kernel_size=(1, 1), stride=(1, 1), bias=False)\n",
       "      (bn1): BatchNorm2d(128, eps=1e-05, momentum=0.1, affine=True, track_running_stats=True)\n",
       "      (conv2): Conv2d(128, 128, kernel_size=(3, 3), stride=(1, 1), padding=(1, 1), bias=False)\n",
       "      (bn2): BatchNorm2d(128, eps=1e-05, momentum=0.1, affine=True, track_running_stats=True)\n",
       "      (conv3): Conv2d(128, 512, kernel_size=(1, 1), stride=(1, 1), bias=False)\n",
       "      (bn3): BatchNorm2d(512, eps=1e-05, momentum=0.1, affine=True, track_running_stats=True)\n",
       "      (relu): ReLU(inplace=True)\n",
       "    )\n",
       "    (2): Bottleneck(\n",
       "      (conv1): Conv2d(512, 128, kernel_size=(1, 1), stride=(1, 1), bias=False)\n",
       "      (bn1): BatchNorm2d(128, eps=1e-05, momentum=0.1, affine=True, track_running_stats=True)\n",
       "      (conv2): Conv2d(128, 128, kernel_size=(3, 3), stride=(1, 1), padding=(1, 1), bias=False)\n",
       "      (bn2): BatchNorm2d(128, eps=1e-05, momentum=0.1, affine=True, track_running_stats=True)\n",
       "      (conv3): Conv2d(128, 512, kernel_size=(1, 1), stride=(1, 1), bias=False)\n",
       "      (bn3): BatchNorm2d(512, eps=1e-05, momentum=0.1, affine=True, track_running_stats=True)\n",
       "      (relu): ReLU(inplace=True)\n",
       "    )\n",
       "    (3): Bottleneck(\n",
       "      (conv1): Conv2d(512, 128, kernel_size=(1, 1), stride=(1, 1), bias=False)\n",
       "      (bn1): BatchNorm2d(128, eps=1e-05, momentum=0.1, affine=True, track_running_stats=True)\n",
       "      (conv2): Conv2d(128, 128, kernel_size=(3, 3), stride=(1, 1), padding=(1, 1), bias=False)\n",
       "      (bn2): BatchNorm2d(128, eps=1e-05, momentum=0.1, affine=True, track_running_stats=True)\n",
       "      (conv3): Conv2d(128, 512, kernel_size=(1, 1), stride=(1, 1), bias=False)\n",
       "      (bn3): BatchNorm2d(512, eps=1e-05, momentum=0.1, affine=True, track_running_stats=True)\n",
       "      (relu): ReLU(inplace=True)\n",
       "    )\n",
       "    (4): Bottleneck(\n",
       "      (conv1): Conv2d(512, 128, kernel_size=(1, 1), stride=(1, 1), bias=False)\n",
       "      (bn1): BatchNorm2d(128, eps=1e-05, momentum=0.1, affine=True, track_running_stats=True)\n",
       "      (conv2): Conv2d(128, 128, kernel_size=(3, 3), stride=(1, 1), padding=(1, 1), bias=False)\n",
       "      (bn2): BatchNorm2d(128, eps=1e-05, momentum=0.1, affine=True, track_running_stats=True)\n",
       "      (conv3): Conv2d(128, 512, kernel_size=(1, 1), stride=(1, 1), bias=False)\n",
       "      (bn3): BatchNorm2d(512, eps=1e-05, momentum=0.1, affine=True, track_running_stats=True)\n",
       "      (relu): ReLU(inplace=True)\n",
       "    )\n",
       "    (5): Bottleneck(\n",
       "      (conv1): Conv2d(512, 128, kernel_size=(1, 1), stride=(1, 1), bias=False)\n",
       "      (bn1): BatchNorm2d(128, eps=1e-05, momentum=0.1, affine=True, track_running_stats=True)\n",
       "      (conv2): Conv2d(128, 128, kernel_size=(3, 3), stride=(1, 1), padding=(1, 1), bias=False)\n",
       "      (bn2): BatchNorm2d(128, eps=1e-05, momentum=0.1, affine=True, track_running_stats=True)\n",
       "      (conv3): Conv2d(128, 512, kernel_size=(1, 1), stride=(1, 1), bias=False)\n",
       "      (bn3): BatchNorm2d(512, eps=1e-05, momentum=0.1, affine=True, track_running_stats=True)\n",
       "      (relu): ReLU(inplace=True)\n",
       "    )\n",
       "    (6): Bottleneck(\n",
       "      (conv1): Conv2d(512, 128, kernel_size=(1, 1), stride=(1, 1), bias=False)\n",
       "      (bn1): BatchNorm2d(128, eps=1e-05, momentum=0.1, affine=True, track_running_stats=True)\n",
       "      (conv2): Conv2d(128, 128, kernel_size=(3, 3), stride=(1, 1), padding=(1, 1), bias=False)\n",
       "      (bn2): BatchNorm2d(128, eps=1e-05, momentum=0.1, affine=True, track_running_stats=True)\n",
       "      (conv3): Conv2d(128, 512, kernel_size=(1, 1), stride=(1, 1), bias=False)\n",
       "      (bn3): BatchNorm2d(512, eps=1e-05, momentum=0.1, affine=True, track_running_stats=True)\n",
       "      (relu): ReLU(inplace=True)\n",
       "    )\n",
       "    (7): Bottleneck(\n",
       "      (conv1): Conv2d(512, 128, kernel_size=(1, 1), stride=(1, 1), bias=False)\n",
       "      (bn1): BatchNorm2d(128, eps=1e-05, momentum=0.1, affine=True, track_running_stats=True)\n",
       "      (conv2): Conv2d(128, 128, kernel_size=(3, 3), stride=(1, 1), padding=(1, 1), bias=False)\n",
       "      (bn2): BatchNorm2d(128, eps=1e-05, momentum=0.1, affine=True, track_running_stats=True)\n",
       "      (conv3): Conv2d(128, 512, kernel_size=(1, 1), stride=(1, 1), bias=False)\n",
       "      (bn3): BatchNorm2d(512, eps=1e-05, momentum=0.1, affine=True, track_running_stats=True)\n",
       "      (relu): ReLU(inplace=True)\n",
       "    )\n",
       "  )\n",
       "  (layer3): Sequential(\n",
       "    (0): Bottleneck(\n",
       "      (conv1): Conv2d(512, 256, kernel_size=(1, 1), stride=(1, 1), bias=False)\n",
       "      (bn1): BatchNorm2d(256, eps=1e-05, momentum=0.1, affine=True, track_running_stats=True)\n",
       "      (conv2): Conv2d(256, 256, kernel_size=(3, 3), stride=(2, 2), padding=(1, 1), bias=False)\n",
       "      (bn2): BatchNorm2d(256, eps=1e-05, momentum=0.1, affine=True, track_running_stats=True)\n",
       "      (conv3): Conv2d(256, 1024, kernel_size=(1, 1), stride=(1, 1), bias=False)\n",
       "      (bn3): BatchNorm2d(1024, eps=1e-05, momentum=0.1, affine=True, track_running_stats=True)\n",
       "      (relu): ReLU(inplace=True)\n",
       "      (downsample): Sequential(\n",
       "        (0): Conv2d(512, 1024, kernel_size=(1, 1), stride=(2, 2), bias=False)\n",
       "        (1): BatchNorm2d(1024, eps=1e-05, momentum=0.1, affine=True, track_running_stats=True)\n",
       "      )\n",
       "    )\n",
       "    (1): Bottleneck(\n",
       "      (conv1): Conv2d(1024, 256, kernel_size=(1, 1), stride=(1, 1), bias=False)\n",
       "      (bn1): BatchNorm2d(256, eps=1e-05, momentum=0.1, affine=True, track_running_stats=True)\n",
       "      (conv2): Conv2d(256, 256, kernel_size=(3, 3), stride=(1, 1), padding=(1, 1), bias=False)\n",
       "      (bn2): BatchNorm2d(256, eps=1e-05, momentum=0.1, affine=True, track_running_stats=True)\n",
       "      (conv3): Conv2d(256, 1024, kernel_size=(1, 1), stride=(1, 1), bias=False)\n",
       "      (bn3): BatchNorm2d(1024, eps=1e-05, momentum=0.1, affine=True, track_running_stats=True)\n",
       "      (relu): ReLU(inplace=True)\n",
       "    )\n",
       "    (2): Bottleneck(\n",
       "      (conv1): Conv2d(1024, 256, kernel_size=(1, 1), stride=(1, 1), bias=False)\n",
       "      (bn1): BatchNorm2d(256, eps=1e-05, momentum=0.1, affine=True, track_running_stats=True)\n",
       "      (conv2): Conv2d(256, 256, kernel_size=(3, 3), stride=(1, 1), padding=(1, 1), bias=False)\n",
       "      (bn2): BatchNorm2d(256, eps=1e-05, momentum=0.1, affine=True, track_running_stats=True)\n",
       "      (conv3): Conv2d(256, 1024, kernel_size=(1, 1), stride=(1, 1), bias=False)\n",
       "      (bn3): BatchNorm2d(1024, eps=1e-05, momentum=0.1, affine=True, track_running_stats=True)\n",
       "      (relu): ReLU(inplace=True)\n",
       "    )\n",
       "    (3): Bottleneck(\n",
       "      (conv1): Conv2d(1024, 256, kernel_size=(1, 1), stride=(1, 1), bias=False)\n",
       "      (bn1): BatchNorm2d(256, eps=1e-05, momentum=0.1, affine=True, track_running_stats=True)\n",
       "      (conv2): Conv2d(256, 256, kernel_size=(3, 3), stride=(1, 1), padding=(1, 1), bias=False)\n",
       "      (bn2): BatchNorm2d(256, eps=1e-05, momentum=0.1, affine=True, track_running_stats=True)\n",
       "      (conv3): Conv2d(256, 1024, kernel_size=(1, 1), stride=(1, 1), bias=False)\n",
       "      (bn3): BatchNorm2d(1024, eps=1e-05, momentum=0.1, affine=True, track_running_stats=True)\n",
       "      (relu): ReLU(inplace=True)\n",
       "    )\n",
       "    (4): Bottleneck(\n",
       "      (conv1): Conv2d(1024, 256, kernel_size=(1, 1), stride=(1, 1), bias=False)\n",
       "      (bn1): BatchNorm2d(256, eps=1e-05, momentum=0.1, affine=True, track_running_stats=True)\n",
       "      (conv2): Conv2d(256, 256, kernel_size=(3, 3), stride=(1, 1), padding=(1, 1), bias=False)\n",
       "      (bn2): BatchNorm2d(256, eps=1e-05, momentum=0.1, affine=True, track_running_stats=True)\n",
       "      (conv3): Conv2d(256, 1024, kernel_size=(1, 1), stride=(1, 1), bias=False)\n",
       "      (bn3): BatchNorm2d(1024, eps=1e-05, momentum=0.1, affine=True, track_running_stats=True)\n",
       "      (relu): ReLU(inplace=True)\n",
       "    )\n",
       "    (5): Bottleneck(\n",
       "      (conv1): Conv2d(1024, 256, kernel_size=(1, 1), stride=(1, 1), bias=False)\n",
       "      (bn1): BatchNorm2d(256, eps=1e-05, momentum=0.1, affine=True, track_running_stats=True)\n",
       "      (conv2): Conv2d(256, 256, kernel_size=(3, 3), stride=(1, 1), padding=(1, 1), bias=False)\n",
       "      (bn2): BatchNorm2d(256, eps=1e-05, momentum=0.1, affine=True, track_running_stats=True)\n",
       "      (conv3): Conv2d(256, 1024, kernel_size=(1, 1), stride=(1, 1), bias=False)\n",
       "      (bn3): BatchNorm2d(1024, eps=1e-05, momentum=0.1, affine=True, track_running_stats=True)\n",
       "      (relu): ReLU(inplace=True)\n",
       "    )\n",
       "    (6): Bottleneck(\n",
       "      (conv1): Conv2d(1024, 256, kernel_size=(1, 1), stride=(1, 1), bias=False)\n",
       "      (bn1): BatchNorm2d(256, eps=1e-05, momentum=0.1, affine=True, track_running_stats=True)\n",
       "      (conv2): Conv2d(256, 256, kernel_size=(3, 3), stride=(1, 1), padding=(1, 1), bias=False)\n",
       "      (bn2): BatchNorm2d(256, eps=1e-05, momentum=0.1, affine=True, track_running_stats=True)\n",
       "      (conv3): Conv2d(256, 1024, kernel_size=(1, 1), stride=(1, 1), bias=False)\n",
       "      (bn3): BatchNorm2d(1024, eps=1e-05, momentum=0.1, affine=True, track_running_stats=True)\n",
       "      (relu): ReLU(inplace=True)\n",
       "    )\n",
       "    (7): Bottleneck(\n",
       "      (conv1): Conv2d(1024, 256, kernel_size=(1, 1), stride=(1, 1), bias=False)\n",
       "      (bn1): BatchNorm2d(256, eps=1e-05, momentum=0.1, affine=True, track_running_stats=True)\n",
       "      (conv2): Conv2d(256, 256, kernel_size=(3, 3), stride=(1, 1), padding=(1, 1), bias=False)\n",
       "      (bn2): BatchNorm2d(256, eps=1e-05, momentum=0.1, affine=True, track_running_stats=True)\n",
       "      (conv3): Conv2d(256, 1024, kernel_size=(1, 1), stride=(1, 1), bias=False)\n",
       "      (bn3): BatchNorm2d(1024, eps=1e-05, momentum=0.1, affine=True, track_running_stats=True)\n",
       "      (relu): ReLU(inplace=True)\n",
       "    )\n",
       "    (8): Bottleneck(\n",
       "      (conv1): Conv2d(1024, 256, kernel_size=(1, 1), stride=(1, 1), bias=False)\n",
       "      (bn1): BatchNorm2d(256, eps=1e-05, momentum=0.1, affine=True, track_running_stats=True)\n",
       "      (conv2): Conv2d(256, 256, kernel_size=(3, 3), stride=(1, 1), padding=(1, 1), bias=False)\n",
       "      (bn2): BatchNorm2d(256, eps=1e-05, momentum=0.1, affine=True, track_running_stats=True)\n",
       "      (conv3): Conv2d(256, 1024, kernel_size=(1, 1), stride=(1, 1), bias=False)\n",
       "      (bn3): BatchNorm2d(1024, eps=1e-05, momentum=0.1, affine=True, track_running_stats=True)\n",
       "      (relu): ReLU(inplace=True)\n",
       "    )\n",
       "    (9): Bottleneck(\n",
       "      (conv1): Conv2d(1024, 256, kernel_size=(1, 1), stride=(1, 1), bias=False)\n",
       "      (bn1): BatchNorm2d(256, eps=1e-05, momentum=0.1, affine=True, track_running_stats=True)\n",
       "      (conv2): Conv2d(256, 256, kernel_size=(3, 3), stride=(1, 1), padding=(1, 1), bias=False)\n",
       "      (bn2): BatchNorm2d(256, eps=1e-05, momentum=0.1, affine=True, track_running_stats=True)\n",
       "      (conv3): Conv2d(256, 1024, kernel_size=(1, 1), stride=(1, 1), bias=False)\n",
       "      (bn3): BatchNorm2d(1024, eps=1e-05, momentum=0.1, affine=True, track_running_stats=True)\n",
       "      (relu): ReLU(inplace=True)\n",
       "    )\n",
       "    (10): Bottleneck(\n",
       "      (conv1): Conv2d(1024, 256, kernel_size=(1, 1), stride=(1, 1), bias=False)\n",
       "      (bn1): BatchNorm2d(256, eps=1e-05, momentum=0.1, affine=True, track_running_stats=True)\n",
       "      (conv2): Conv2d(256, 256, kernel_size=(3, 3), stride=(1, 1), padding=(1, 1), bias=False)\n",
       "      (bn2): BatchNorm2d(256, eps=1e-05, momentum=0.1, affine=True, track_running_stats=True)\n",
       "      (conv3): Conv2d(256, 1024, kernel_size=(1, 1), stride=(1, 1), bias=False)\n",
       "      (bn3): BatchNorm2d(1024, eps=1e-05, momentum=0.1, affine=True, track_running_stats=True)\n",
       "      (relu): ReLU(inplace=True)\n",
       "    )\n",
       "    (11): Bottleneck(\n",
       "      (conv1): Conv2d(1024, 256, kernel_size=(1, 1), stride=(1, 1), bias=False)\n",
       "      (bn1): BatchNorm2d(256, eps=1e-05, momentum=0.1, affine=True, track_running_stats=True)\n",
       "      (conv2): Conv2d(256, 256, kernel_size=(3, 3), stride=(1, 1), padding=(1, 1), bias=False)\n",
       "      (bn2): BatchNorm2d(256, eps=1e-05, momentum=0.1, affine=True, track_running_stats=True)\n",
       "      (conv3): Conv2d(256, 1024, kernel_size=(1, 1), stride=(1, 1), bias=False)\n",
       "      (bn3): BatchNorm2d(1024, eps=1e-05, momentum=0.1, affine=True, track_running_stats=True)\n",
       "      (relu): ReLU(inplace=True)\n",
       "    )\n",
       "    (12): Bottleneck(\n",
       "      (conv1): Conv2d(1024, 256, kernel_size=(1, 1), stride=(1, 1), bias=False)\n",
       "      (bn1): BatchNorm2d(256, eps=1e-05, momentum=0.1, affine=True, track_running_stats=True)\n",
       "      (conv2): Conv2d(256, 256, kernel_size=(3, 3), stride=(1, 1), padding=(1, 1), bias=False)\n",
       "      (bn2): BatchNorm2d(256, eps=1e-05, momentum=0.1, affine=True, track_running_stats=True)\n",
       "      (conv3): Conv2d(256, 1024, kernel_size=(1, 1), stride=(1, 1), bias=False)\n",
       "      (bn3): BatchNorm2d(1024, eps=1e-05, momentum=0.1, affine=True, track_running_stats=True)\n",
       "      (relu): ReLU(inplace=True)\n",
       "    )\n",
       "    (13): Bottleneck(\n",
       "      (conv1): Conv2d(1024, 256, kernel_size=(1, 1), stride=(1, 1), bias=False)\n",
       "      (bn1): BatchNorm2d(256, eps=1e-05, momentum=0.1, affine=True, track_running_stats=True)\n",
       "      (conv2): Conv2d(256, 256, kernel_size=(3, 3), stride=(1, 1), padding=(1, 1), bias=False)\n",
       "      (bn2): BatchNorm2d(256, eps=1e-05, momentum=0.1, affine=True, track_running_stats=True)\n",
       "      (conv3): Conv2d(256, 1024, kernel_size=(1, 1), stride=(1, 1), bias=False)\n",
       "      (bn3): BatchNorm2d(1024, eps=1e-05, momentum=0.1, affine=True, track_running_stats=True)\n",
       "      (relu): ReLU(inplace=True)\n",
       "    )\n",
       "    (14): Bottleneck(\n",
       "      (conv1): Conv2d(1024, 256, kernel_size=(1, 1), stride=(1, 1), bias=False)\n",
       "      (bn1): BatchNorm2d(256, eps=1e-05, momentum=0.1, affine=True, track_running_stats=True)\n",
       "      (conv2): Conv2d(256, 256, kernel_size=(3, 3), stride=(1, 1), padding=(1, 1), bias=False)\n",
       "      (bn2): BatchNorm2d(256, eps=1e-05, momentum=0.1, affine=True, track_running_stats=True)\n",
       "      (conv3): Conv2d(256, 1024, kernel_size=(1, 1), stride=(1, 1), bias=False)\n",
       "      (bn3): BatchNorm2d(1024, eps=1e-05, momentum=0.1, affine=True, track_running_stats=True)\n",
       "      (relu): ReLU(inplace=True)\n",
       "    )\n",
       "    (15): Bottleneck(\n",
       "      (conv1): Conv2d(1024, 256, kernel_size=(1, 1), stride=(1, 1), bias=False)\n",
       "      (bn1): BatchNorm2d(256, eps=1e-05, momentum=0.1, affine=True, track_running_stats=True)\n",
       "      (conv2): Conv2d(256, 256, kernel_size=(3, 3), stride=(1, 1), padding=(1, 1), bias=False)\n",
       "      (bn2): BatchNorm2d(256, eps=1e-05, momentum=0.1, affine=True, track_running_stats=True)\n",
       "      (conv3): Conv2d(256, 1024, kernel_size=(1, 1), stride=(1, 1), bias=False)\n",
       "      (bn3): BatchNorm2d(1024, eps=1e-05, momentum=0.1, affine=True, track_running_stats=True)\n",
       "      (relu): ReLU(inplace=True)\n",
       "    )\n",
       "    (16): Bottleneck(\n",
       "      (conv1): Conv2d(1024, 256, kernel_size=(1, 1), stride=(1, 1), bias=False)\n",
       "      (bn1): BatchNorm2d(256, eps=1e-05, momentum=0.1, affine=True, track_running_stats=True)\n",
       "      (conv2): Conv2d(256, 256, kernel_size=(3, 3), stride=(1, 1), padding=(1, 1), bias=False)\n",
       "      (bn2): BatchNorm2d(256, eps=1e-05, momentum=0.1, affine=True, track_running_stats=True)\n",
       "      (conv3): Conv2d(256, 1024, kernel_size=(1, 1), stride=(1, 1), bias=False)\n",
       "      (bn3): BatchNorm2d(1024, eps=1e-05, momentum=0.1, affine=True, track_running_stats=True)\n",
       "      (relu): ReLU(inplace=True)\n",
       "    )\n",
       "    (17): Bottleneck(\n",
       "      (conv1): Conv2d(1024, 256, kernel_size=(1, 1), stride=(1, 1), bias=False)\n",
       "      (bn1): BatchNorm2d(256, eps=1e-05, momentum=0.1, affine=True, track_running_stats=True)\n",
       "      (conv2): Conv2d(256, 256, kernel_size=(3, 3), stride=(1, 1), padding=(1, 1), bias=False)\n",
       "      (bn2): BatchNorm2d(256, eps=1e-05, momentum=0.1, affine=True, track_running_stats=True)\n",
       "      (conv3): Conv2d(256, 1024, kernel_size=(1, 1), stride=(1, 1), bias=False)\n",
       "      (bn3): BatchNorm2d(1024, eps=1e-05, momentum=0.1, affine=True, track_running_stats=True)\n",
       "      (relu): ReLU(inplace=True)\n",
       "    )\n",
       "    (18): Bottleneck(\n",
       "      (conv1): Conv2d(1024, 256, kernel_size=(1, 1), stride=(1, 1), bias=False)\n",
       "      (bn1): BatchNorm2d(256, eps=1e-05, momentum=0.1, affine=True, track_running_stats=True)\n",
       "      (conv2): Conv2d(256, 256, kernel_size=(3, 3), stride=(1, 1), padding=(1, 1), bias=False)\n",
       "      (bn2): BatchNorm2d(256, eps=1e-05, momentum=0.1, affine=True, track_running_stats=True)\n",
       "      (conv3): Conv2d(256, 1024, kernel_size=(1, 1), stride=(1, 1), bias=False)\n",
       "      (bn3): BatchNorm2d(1024, eps=1e-05, momentum=0.1, affine=True, track_running_stats=True)\n",
       "      (relu): ReLU(inplace=True)\n",
       "    )\n",
       "    (19): Bottleneck(\n",
       "      (conv1): Conv2d(1024, 256, kernel_size=(1, 1), stride=(1, 1), bias=False)\n",
       "      (bn1): BatchNorm2d(256, eps=1e-05, momentum=0.1, affine=True, track_running_stats=True)\n",
       "      (conv2): Conv2d(256, 256, kernel_size=(3, 3), stride=(1, 1), padding=(1, 1), bias=False)\n",
       "      (bn2): BatchNorm2d(256, eps=1e-05, momentum=0.1, affine=True, track_running_stats=True)\n",
       "      (conv3): Conv2d(256, 1024, kernel_size=(1, 1), stride=(1, 1), bias=False)\n",
       "      (bn3): BatchNorm2d(1024, eps=1e-05, momentum=0.1, affine=True, track_running_stats=True)\n",
       "      (relu): ReLU(inplace=True)\n",
       "    )\n",
       "    (20): Bottleneck(\n",
       "      (conv1): Conv2d(1024, 256, kernel_size=(1, 1), stride=(1, 1), bias=False)\n",
       "      (bn1): BatchNorm2d(256, eps=1e-05, momentum=0.1, affine=True, track_running_stats=True)\n",
       "      (conv2): Conv2d(256, 256, kernel_size=(3, 3), stride=(1, 1), padding=(1, 1), bias=False)\n",
       "      (bn2): BatchNorm2d(256, eps=1e-05, momentum=0.1, affine=True, track_running_stats=True)\n",
       "      (conv3): Conv2d(256, 1024, kernel_size=(1, 1), stride=(1, 1), bias=False)\n",
       "      (bn3): BatchNorm2d(1024, eps=1e-05, momentum=0.1, affine=True, track_running_stats=True)\n",
       "      (relu): ReLU(inplace=True)\n",
       "    )\n",
       "    (21): Bottleneck(\n",
       "      (conv1): Conv2d(1024, 256, kernel_size=(1, 1), stride=(1, 1), bias=False)\n",
       "      (bn1): BatchNorm2d(256, eps=1e-05, momentum=0.1, affine=True, track_running_stats=True)\n",
       "      (conv2): Conv2d(256, 256, kernel_size=(3, 3), stride=(1, 1), padding=(1, 1), bias=False)\n",
       "      (bn2): BatchNorm2d(256, eps=1e-05, momentum=0.1, affine=True, track_running_stats=True)\n",
       "      (conv3): Conv2d(256, 1024, kernel_size=(1, 1), stride=(1, 1), bias=False)\n",
       "      (bn3): BatchNorm2d(1024, eps=1e-05, momentum=0.1, affine=True, track_running_stats=True)\n",
       "      (relu): ReLU(inplace=True)\n",
       "    )\n",
       "    (22): Bottleneck(\n",
       "      (conv1): Conv2d(1024, 256, kernel_size=(1, 1), stride=(1, 1), bias=False)\n",
       "      (bn1): BatchNorm2d(256, eps=1e-05, momentum=0.1, affine=True, track_running_stats=True)\n",
       "      (conv2): Conv2d(256, 256, kernel_size=(3, 3), stride=(1, 1), padding=(1, 1), bias=False)\n",
       "      (bn2): BatchNorm2d(256, eps=1e-05, momentum=0.1, affine=True, track_running_stats=True)\n",
       "      (conv3): Conv2d(256, 1024, kernel_size=(1, 1), stride=(1, 1), bias=False)\n",
       "      (bn3): BatchNorm2d(1024, eps=1e-05, momentum=0.1, affine=True, track_running_stats=True)\n",
       "      (relu): ReLU(inplace=True)\n",
       "    )\n",
       "    (23): Bottleneck(\n",
       "      (conv1): Conv2d(1024, 256, kernel_size=(1, 1), stride=(1, 1), bias=False)\n",
       "      (bn1): BatchNorm2d(256, eps=1e-05, momentum=0.1, affine=True, track_running_stats=True)\n",
       "      (conv2): Conv2d(256, 256, kernel_size=(3, 3), stride=(1, 1), padding=(1, 1), bias=False)\n",
       "      (bn2): BatchNorm2d(256, eps=1e-05, momentum=0.1, affine=True, track_running_stats=True)\n",
       "      (conv3): Conv2d(256, 1024, kernel_size=(1, 1), stride=(1, 1), bias=False)\n",
       "      (bn3): BatchNorm2d(1024, eps=1e-05, momentum=0.1, affine=True, track_running_stats=True)\n",
       "      (relu): ReLU(inplace=True)\n",
       "    )\n",
       "    (24): Bottleneck(\n",
       "      (conv1): Conv2d(1024, 256, kernel_size=(1, 1), stride=(1, 1), bias=False)\n",
       "      (bn1): BatchNorm2d(256, eps=1e-05, momentum=0.1, affine=True, track_running_stats=True)\n",
       "      (conv2): Conv2d(256, 256, kernel_size=(3, 3), stride=(1, 1), padding=(1, 1), bias=False)\n",
       "      (bn2): BatchNorm2d(256, eps=1e-05, momentum=0.1, affine=True, track_running_stats=True)\n",
       "      (conv3): Conv2d(256, 1024, kernel_size=(1, 1), stride=(1, 1), bias=False)\n",
       "      (bn3): BatchNorm2d(1024, eps=1e-05, momentum=0.1, affine=True, track_running_stats=True)\n",
       "      (relu): ReLU(inplace=True)\n",
       "    )\n",
       "    (25): Bottleneck(\n",
       "      (conv1): Conv2d(1024, 256, kernel_size=(1, 1), stride=(1, 1), bias=False)\n",
       "      (bn1): BatchNorm2d(256, eps=1e-05, momentum=0.1, affine=True, track_running_stats=True)\n",
       "      (conv2): Conv2d(256, 256, kernel_size=(3, 3), stride=(1, 1), padding=(1, 1), bias=False)\n",
       "      (bn2): BatchNorm2d(256, eps=1e-05, momentum=0.1, affine=True, track_running_stats=True)\n",
       "      (conv3): Conv2d(256, 1024, kernel_size=(1, 1), stride=(1, 1), bias=False)\n",
       "      (bn3): BatchNorm2d(1024, eps=1e-05, momentum=0.1, affine=True, track_running_stats=True)\n",
       "      (relu): ReLU(inplace=True)\n",
       "    )\n",
       "    (26): Bottleneck(\n",
       "      (conv1): Conv2d(1024, 256, kernel_size=(1, 1), stride=(1, 1), bias=False)\n",
       "      (bn1): BatchNorm2d(256, eps=1e-05, momentum=0.1, affine=True, track_running_stats=True)\n",
       "      (conv2): Conv2d(256, 256, kernel_size=(3, 3), stride=(1, 1), padding=(1, 1), bias=False)\n",
       "      (bn2): BatchNorm2d(256, eps=1e-05, momentum=0.1, affine=True, track_running_stats=True)\n",
       "      (conv3): Conv2d(256, 1024, kernel_size=(1, 1), stride=(1, 1), bias=False)\n",
       "      (bn3): BatchNorm2d(1024, eps=1e-05, momentum=0.1, affine=True, track_running_stats=True)\n",
       "      (relu): ReLU(inplace=True)\n",
       "    )\n",
       "    (27): Bottleneck(\n",
       "      (conv1): Conv2d(1024, 256, kernel_size=(1, 1), stride=(1, 1), bias=False)\n",
       "      (bn1): BatchNorm2d(256, eps=1e-05, momentum=0.1, affine=True, track_running_stats=True)\n",
       "      (conv2): Conv2d(256, 256, kernel_size=(3, 3), stride=(1, 1), padding=(1, 1), bias=False)\n",
       "      (bn2): BatchNorm2d(256, eps=1e-05, momentum=0.1, affine=True, track_running_stats=True)\n",
       "      (conv3): Conv2d(256, 1024, kernel_size=(1, 1), stride=(1, 1), bias=False)\n",
       "      (bn3): BatchNorm2d(1024, eps=1e-05, momentum=0.1, affine=True, track_running_stats=True)\n",
       "      (relu): ReLU(inplace=True)\n",
       "    )\n",
       "    (28): Bottleneck(\n",
       "      (conv1): Conv2d(1024, 256, kernel_size=(1, 1), stride=(1, 1), bias=False)\n",
       "      (bn1): BatchNorm2d(256, eps=1e-05, momentum=0.1, affine=True, track_running_stats=True)\n",
       "      (conv2): Conv2d(256, 256, kernel_size=(3, 3), stride=(1, 1), padding=(1, 1), bias=False)\n",
       "      (bn2): BatchNorm2d(256, eps=1e-05, momentum=0.1, affine=True, track_running_stats=True)\n",
       "      (conv3): Conv2d(256, 1024, kernel_size=(1, 1), stride=(1, 1), bias=False)\n",
       "      (bn3): BatchNorm2d(1024, eps=1e-05, momentum=0.1, affine=True, track_running_stats=True)\n",
       "      (relu): ReLU(inplace=True)\n",
       "    )\n",
       "    (29): Bottleneck(\n",
       "      (conv1): Conv2d(1024, 256, kernel_size=(1, 1), stride=(1, 1), bias=False)\n",
       "      (bn1): BatchNorm2d(256, eps=1e-05, momentum=0.1, affine=True, track_running_stats=True)\n",
       "      (conv2): Conv2d(256, 256, kernel_size=(3, 3), stride=(1, 1), padding=(1, 1), bias=False)\n",
       "      (bn2): BatchNorm2d(256, eps=1e-05, momentum=0.1, affine=True, track_running_stats=True)\n",
       "      (conv3): Conv2d(256, 1024, kernel_size=(1, 1), stride=(1, 1), bias=False)\n",
       "      (bn3): BatchNorm2d(1024, eps=1e-05, momentum=0.1, affine=True, track_running_stats=True)\n",
       "      (relu): ReLU(inplace=True)\n",
       "    )\n",
       "    (30): Bottleneck(\n",
       "      (conv1): Conv2d(1024, 256, kernel_size=(1, 1), stride=(1, 1), bias=False)\n",
       "      (bn1): BatchNorm2d(256, eps=1e-05, momentum=0.1, affine=True, track_running_stats=True)\n",
       "      (conv2): Conv2d(256, 256, kernel_size=(3, 3), stride=(1, 1), padding=(1, 1), bias=False)\n",
       "      (bn2): BatchNorm2d(256, eps=1e-05, momentum=0.1, affine=True, track_running_stats=True)\n",
       "      (conv3): Conv2d(256, 1024, kernel_size=(1, 1), stride=(1, 1), bias=False)\n",
       "      (bn3): BatchNorm2d(1024, eps=1e-05, momentum=0.1, affine=True, track_running_stats=True)\n",
       "      (relu): ReLU(inplace=True)\n",
       "    )\n",
       "    (31): Bottleneck(\n",
       "      (conv1): Conv2d(1024, 256, kernel_size=(1, 1), stride=(1, 1), bias=False)\n",
       "      (bn1): BatchNorm2d(256, eps=1e-05, momentum=0.1, affine=True, track_running_stats=True)\n",
       "      (conv2): Conv2d(256, 256, kernel_size=(3, 3), stride=(1, 1), padding=(1, 1), bias=False)\n",
       "      (bn2): BatchNorm2d(256, eps=1e-05, momentum=0.1, affine=True, track_running_stats=True)\n",
       "      (conv3): Conv2d(256, 1024, kernel_size=(1, 1), stride=(1, 1), bias=False)\n",
       "      (bn3): BatchNorm2d(1024, eps=1e-05, momentum=0.1, affine=True, track_running_stats=True)\n",
       "      (relu): ReLU(inplace=True)\n",
       "    )\n",
       "    (32): Bottleneck(\n",
       "      (conv1): Conv2d(1024, 256, kernel_size=(1, 1), stride=(1, 1), bias=False)\n",
       "      (bn1): BatchNorm2d(256, eps=1e-05, momentum=0.1, affine=True, track_running_stats=True)\n",
       "      (conv2): Conv2d(256, 256, kernel_size=(3, 3), stride=(1, 1), padding=(1, 1), bias=False)\n",
       "      (bn2): BatchNorm2d(256, eps=1e-05, momentum=0.1, affine=True, track_running_stats=True)\n",
       "      (conv3): Conv2d(256, 1024, kernel_size=(1, 1), stride=(1, 1), bias=False)\n",
       "      (bn3): BatchNorm2d(1024, eps=1e-05, momentum=0.1, affine=True, track_running_stats=True)\n",
       "      (relu): ReLU(inplace=True)\n",
       "    )\n",
       "    (33): Bottleneck(\n",
       "      (conv1): Conv2d(1024, 256, kernel_size=(1, 1), stride=(1, 1), bias=False)\n",
       "      (bn1): BatchNorm2d(256, eps=1e-05, momentum=0.1, affine=True, track_running_stats=True)\n",
       "      (conv2): Conv2d(256, 256, kernel_size=(3, 3), stride=(1, 1), padding=(1, 1), bias=False)\n",
       "      (bn2): BatchNorm2d(256, eps=1e-05, momentum=0.1, affine=True, track_running_stats=True)\n",
       "      (conv3): Conv2d(256, 1024, kernel_size=(1, 1), stride=(1, 1), bias=False)\n",
       "      (bn3): BatchNorm2d(1024, eps=1e-05, momentum=0.1, affine=True, track_running_stats=True)\n",
       "      (relu): ReLU(inplace=True)\n",
       "    )\n",
       "    (34): Bottleneck(\n",
       "      (conv1): Conv2d(1024, 256, kernel_size=(1, 1), stride=(1, 1), bias=False)\n",
       "      (bn1): BatchNorm2d(256, eps=1e-05, momentum=0.1, affine=True, track_running_stats=True)\n",
       "      (conv2): Conv2d(256, 256, kernel_size=(3, 3), stride=(1, 1), padding=(1, 1), bias=False)\n",
       "      (bn2): BatchNorm2d(256, eps=1e-05, momentum=0.1, affine=True, track_running_stats=True)\n",
       "      (conv3): Conv2d(256, 1024, kernel_size=(1, 1), stride=(1, 1), bias=False)\n",
       "      (bn3): BatchNorm2d(1024, eps=1e-05, momentum=0.1, affine=True, track_running_stats=True)\n",
       "      (relu): ReLU(inplace=True)\n",
       "    )\n",
       "    (35): Bottleneck(\n",
       "      (conv1): Conv2d(1024, 256, kernel_size=(1, 1), stride=(1, 1), bias=False)\n",
       "      (bn1): BatchNorm2d(256, eps=1e-05, momentum=0.1, affine=True, track_running_stats=True)\n",
       "      (conv2): Conv2d(256, 256, kernel_size=(3, 3), stride=(1, 1), padding=(1, 1), bias=False)\n",
       "      (bn2): BatchNorm2d(256, eps=1e-05, momentum=0.1, affine=True, track_running_stats=True)\n",
       "      (conv3): Conv2d(256, 1024, kernel_size=(1, 1), stride=(1, 1), bias=False)\n",
       "      (bn3): BatchNorm2d(1024, eps=1e-05, momentum=0.1, affine=True, track_running_stats=True)\n",
       "      (relu): ReLU(inplace=True)\n",
       "    )\n",
       "  )\n",
       "  (layer4): Sequential(\n",
       "    (0): Bottleneck(\n",
       "      (conv1): Conv2d(1024, 512, kernel_size=(1, 1), stride=(1, 1), bias=False)\n",
       "      (bn1): BatchNorm2d(512, eps=1e-05, momentum=0.1, affine=True, track_running_stats=True)\n",
       "      (conv2): Conv2d(512, 512, kernel_size=(3, 3), stride=(2, 2), padding=(1, 1), bias=False)\n",
       "      (bn2): BatchNorm2d(512, eps=1e-05, momentum=0.1, affine=True, track_running_stats=True)\n",
       "      (conv3): Conv2d(512, 2048, kernel_size=(1, 1), stride=(1, 1), bias=False)\n",
       "      (bn3): BatchNorm2d(2048, eps=1e-05, momentum=0.1, affine=True, track_running_stats=True)\n",
       "      (relu): ReLU(inplace=True)\n",
       "      (downsample): Sequential(\n",
       "        (0): Conv2d(1024, 2048, kernel_size=(1, 1), stride=(2, 2), bias=False)\n",
       "        (1): BatchNorm2d(2048, eps=1e-05, momentum=0.1, affine=True, track_running_stats=True)\n",
       "      )\n",
       "    )\n",
       "    (1): Bottleneck(\n",
       "      (conv1): Conv2d(2048, 512, kernel_size=(1, 1), stride=(1, 1), bias=False)\n",
       "      (bn1): BatchNorm2d(512, eps=1e-05, momentum=0.1, affine=True, track_running_stats=True)\n",
       "      (conv2): Conv2d(512, 512, kernel_size=(3, 3), stride=(1, 1), padding=(1, 1), bias=False)\n",
       "      (bn2): BatchNorm2d(512, eps=1e-05, momentum=0.1, affine=True, track_running_stats=True)\n",
       "      (conv3): Conv2d(512, 2048, kernel_size=(1, 1), stride=(1, 1), bias=False)\n",
       "      (bn3): BatchNorm2d(2048, eps=1e-05, momentum=0.1, affine=True, track_running_stats=True)\n",
       "      (relu): ReLU(inplace=True)\n",
       "    )\n",
       "    (2): Bottleneck(\n",
       "      (conv1): Conv2d(2048, 512, kernel_size=(1, 1), stride=(1, 1), bias=False)\n",
       "      (bn1): BatchNorm2d(512, eps=1e-05, momentum=0.1, affine=True, track_running_stats=True)\n",
       "      (conv2): Conv2d(512, 512, kernel_size=(3, 3), stride=(1, 1), padding=(1, 1), bias=False)\n",
       "      (bn2): BatchNorm2d(512, eps=1e-05, momentum=0.1, affine=True, track_running_stats=True)\n",
       "      (conv3): Conv2d(512, 2048, kernel_size=(1, 1), stride=(1, 1), bias=False)\n",
       "      (bn3): BatchNorm2d(2048, eps=1e-05, momentum=0.1, affine=True, track_running_stats=True)\n",
       "      (relu): ReLU(inplace=True)\n",
       "    )\n",
       "  )\n",
       "  (avgpool): AdaptiveAvgPool2d(output_size=(1, 1))\n",
       "  (fc): Sequential(\n",
       "    (0): Linear(in_features=2048, out_features=512, bias=True)\n",
       "    (1): ReLU()\n",
       "    (2): Dropout(p=0.3, inplace=False)\n",
       "    (3): Linear(in_features=512, out_features=9, bias=True)\n",
       "    (4): LogSoftmax(dim=1)\n",
       "  )\n",
       ")"
      ]
     },
     "execution_count": 22,
     "metadata": {},
     "output_type": "execute_result"
    }
   ],
   "source": [
    "resnet = torchvision.models.resnet152(pretrained=True)\n",
    "\n",
    "if device.type == 'cuda':\n",
    "    resnet = resnet.cuda()\n",
    "\n",
    "model2 = resnet\n",
    "\n",
    "for param in model2.parameters():\n",
    "    param.requires_grad = False\n",
    "\n",
    "model2.fc = nn.Sequential(nn.Linear(2048, 512),\n",
    "                                nn.ReLU(),\n",
    "                                nn.Dropout(0.3),\n",
    "                                nn.Linear(512, 9),\n",
    "                                nn.LogSoftmax(dim=1))\n",
    "criterion2 = nn.NLLLoss()\n",
    "optimizer2 = optim.Adam(model2.fc.parameters(), lr=0.002)\n",
    "scheduler2 = optim.lr_scheduler.StepLR(optimizer2, step_size=10, gamma=0.2)\n",
    "model2.to(device)"
   ]
  },
  {
   "cell_type": "markdown",
   "metadata": {
    "papermill": {
     "duration": 0.05787,
     "end_time": "2021-04-19T12:26:10.820026",
     "exception": false,
     "start_time": "2021-04-19T12:26:10.762156",
     "status": "completed"
    },
    "tags": []
   },
   "source": [
    "### Modele3 : VGG19"
   ]
  },
  {
   "cell_type": "code",
   "execution_count": 23,
   "metadata": {
    "collapsed": true,
    "execution": {
     "iopub.execute_input": "2021-04-19T12:26:10.941803Z",
     "iopub.status.busy": "2021-04-19T12:26:10.940812Z",
     "iopub.status.idle": "2021-04-19T12:26:20.817344Z",
     "shell.execute_reply": "2021-04-19T12:26:20.817903Z"
    },
    "jupyter": {
     "outputs_hidden": true
    },
    "papermill": {
     "duration": 9.941698,
     "end_time": "2021-04-19T12:26:20.818128",
     "exception": false,
     "start_time": "2021-04-19T12:26:10.876430",
     "status": "completed"
    },
    "tags": []
   },
   "outputs": [
    {
     "name": "stderr",
     "output_type": "stream",
     "text": [
      "Downloading: \"https://download.pytorch.org/models/vgg19_bn-c79401a0.pth\" to /root/.cache/torch/hub/checkpoints/vgg19_bn-c79401a0.pth\n"
     ]
    },
    {
     "data": {
      "application/vnd.jupyter.widget-view+json": {
       "model_id": "d97984abc95b43e892a687499e05cb93",
       "version_major": 2,
       "version_minor": 0
      },
      "text/plain": [
       "  0%|          | 0.00/548M [00:00<?, ?B/s]"
      ]
     },
     "metadata": {},
     "output_type": "display_data"
    },
    {
     "data": {
      "text/plain": [
       "VGG(\n",
       "  (features): Sequential(\n",
       "    (0): Conv2d(3, 64, kernel_size=(3, 3), stride=(1, 1), padding=(1, 1))\n",
       "    (1): BatchNorm2d(64, eps=1e-05, momentum=0.1, affine=True, track_running_stats=True)\n",
       "    (2): ReLU(inplace=True)\n",
       "    (3): Conv2d(64, 64, kernel_size=(3, 3), stride=(1, 1), padding=(1, 1))\n",
       "    (4): BatchNorm2d(64, eps=1e-05, momentum=0.1, affine=True, track_running_stats=True)\n",
       "    (5): ReLU(inplace=True)\n",
       "    (6): MaxPool2d(kernel_size=2, stride=2, padding=0, dilation=1, ceil_mode=False)\n",
       "    (7): Conv2d(64, 128, kernel_size=(3, 3), stride=(1, 1), padding=(1, 1))\n",
       "    (8): BatchNorm2d(128, eps=1e-05, momentum=0.1, affine=True, track_running_stats=True)\n",
       "    (9): ReLU(inplace=True)\n",
       "    (10): Conv2d(128, 128, kernel_size=(3, 3), stride=(1, 1), padding=(1, 1))\n",
       "    (11): BatchNorm2d(128, eps=1e-05, momentum=0.1, affine=True, track_running_stats=True)\n",
       "    (12): ReLU(inplace=True)\n",
       "    (13): MaxPool2d(kernel_size=2, stride=2, padding=0, dilation=1, ceil_mode=False)\n",
       "    (14): Conv2d(128, 256, kernel_size=(3, 3), stride=(1, 1), padding=(1, 1))\n",
       "    (15): BatchNorm2d(256, eps=1e-05, momentum=0.1, affine=True, track_running_stats=True)\n",
       "    (16): ReLU(inplace=True)\n",
       "    (17): Conv2d(256, 256, kernel_size=(3, 3), stride=(1, 1), padding=(1, 1))\n",
       "    (18): BatchNorm2d(256, eps=1e-05, momentum=0.1, affine=True, track_running_stats=True)\n",
       "    (19): ReLU(inplace=True)\n",
       "    (20): Conv2d(256, 256, kernel_size=(3, 3), stride=(1, 1), padding=(1, 1))\n",
       "    (21): BatchNorm2d(256, eps=1e-05, momentum=0.1, affine=True, track_running_stats=True)\n",
       "    (22): ReLU(inplace=True)\n",
       "    (23): Conv2d(256, 256, kernel_size=(3, 3), stride=(1, 1), padding=(1, 1))\n",
       "    (24): BatchNorm2d(256, eps=1e-05, momentum=0.1, affine=True, track_running_stats=True)\n",
       "    (25): ReLU(inplace=True)\n",
       "    (26): MaxPool2d(kernel_size=2, stride=2, padding=0, dilation=1, ceil_mode=False)\n",
       "    (27): Conv2d(256, 512, kernel_size=(3, 3), stride=(1, 1), padding=(1, 1))\n",
       "    (28): BatchNorm2d(512, eps=1e-05, momentum=0.1, affine=True, track_running_stats=True)\n",
       "    (29): ReLU(inplace=True)\n",
       "    (30): Conv2d(512, 512, kernel_size=(3, 3), stride=(1, 1), padding=(1, 1))\n",
       "    (31): BatchNorm2d(512, eps=1e-05, momentum=0.1, affine=True, track_running_stats=True)\n",
       "    (32): ReLU(inplace=True)\n",
       "    (33): Conv2d(512, 512, kernel_size=(3, 3), stride=(1, 1), padding=(1, 1))\n",
       "    (34): BatchNorm2d(512, eps=1e-05, momentum=0.1, affine=True, track_running_stats=True)\n",
       "    (35): ReLU(inplace=True)\n",
       "    (36): Conv2d(512, 512, kernel_size=(3, 3), stride=(1, 1), padding=(1, 1))\n",
       "    (37): BatchNorm2d(512, eps=1e-05, momentum=0.1, affine=True, track_running_stats=True)\n",
       "    (38): ReLU(inplace=True)\n",
       "    (39): MaxPool2d(kernel_size=2, stride=2, padding=0, dilation=1, ceil_mode=False)\n",
       "    (40): Conv2d(512, 512, kernel_size=(3, 3), stride=(1, 1), padding=(1, 1))\n",
       "    (41): BatchNorm2d(512, eps=1e-05, momentum=0.1, affine=True, track_running_stats=True)\n",
       "    (42): ReLU(inplace=True)\n",
       "    (43): Conv2d(512, 512, kernel_size=(3, 3), stride=(1, 1), padding=(1, 1))\n",
       "    (44): BatchNorm2d(512, eps=1e-05, momentum=0.1, affine=True, track_running_stats=True)\n",
       "    (45): ReLU(inplace=True)\n",
       "    (46): Conv2d(512, 512, kernel_size=(3, 3), stride=(1, 1), padding=(1, 1))\n",
       "    (47): BatchNorm2d(512, eps=1e-05, momentum=0.1, affine=True, track_running_stats=True)\n",
       "    (48): ReLU(inplace=True)\n",
       "    (49): Conv2d(512, 512, kernel_size=(3, 3), stride=(1, 1), padding=(1, 1))\n",
       "    (50): BatchNorm2d(512, eps=1e-05, momentum=0.1, affine=True, track_running_stats=True)\n",
       "    (51): ReLU(inplace=True)\n",
       "    (52): MaxPool2d(kernel_size=2, stride=2, padding=0, dilation=1, ceil_mode=False)\n",
       "  )\n",
       "  (avgpool): AdaptiveAvgPool2d(output_size=(7, 7))\n",
       "  (classifier): Sequential(\n",
       "    (0): Linear(in_features=25088, out_features=4096, bias=True)\n",
       "    (1): ReLU(inplace=True)\n",
       "    (2): Dropout(p=0.5, inplace=False)\n",
       "    (3): Linear(in_features=4096, out_features=4096, bias=True)\n",
       "    (4): ReLU(inplace=True)\n",
       "    (5): Dropout(p=0.5, inplace=False)\n",
       "    (6): Linear(in_features=4096, out_features=1000, bias=True)\n",
       "    (7): Sequential(\n",
       "      (0): Linear(in_features=1000, out_features=512, bias=True)\n",
       "      (1): ReLU()\n",
       "      (2): Dropout(p=0.3, inplace=False)\n",
       "      (3): Linear(in_features=512, out_features=9, bias=True)\n",
       "      (4): LogSoftmax(dim=1)\n",
       "    )\n",
       "  )\n",
       ")"
      ]
     },
     "execution_count": 23,
     "metadata": {},
     "output_type": "execute_result"
    }
   ],
   "source": [
    "vgg = torchvision.models.vgg19_bn(pretrained=True)\n",
    "\n",
    "if device.type == 'cuda':\n",
    "    vgg = vgg.cuda()\n",
    "\n",
    "model3 = vgg\n",
    "\n",
    "for param in model3.parameters():\n",
    "    param.requires_grad = False\n",
    "\n",
    "model3.classifier._modules['7'] = nn.Sequential(nn.Linear(1000, 512),\n",
    "                                nn.ReLU(),\n",
    "                                nn.Dropout(0.3),\n",
    "                                nn.Linear(512, 9),\n",
    "                                nn.LogSoftmax(dim=1))\n",
    "criterion3 = nn.NLLLoss()\n",
    "optimizer3 = optim.Adam(model3.classifier.parameters(), lr=0.002)\n",
    "scheduler3 = optim.lr_scheduler.StepLR(optimizer3, step_size=10, gamma=0.2)\n",
    "model3.to(device)"
   ]
  },
  {
   "cell_type": "markdown",
   "metadata": {
    "papermill": {
     "duration": 0.059214,
     "end_time": "2021-04-19T12:26:20.936341",
     "exception": false,
     "start_time": "2021-04-19T12:26:20.877127",
     "status": "completed"
    },
    "tags": []
   },
   "source": [
    "#### entraîner les modèle1, 2 et 3"
   ]
  },
  {
   "cell_type": "code",
   "execution_count": 24,
   "metadata": {
    "execution": {
     "iopub.execute_input": "2021-04-19T12:26:21.062715Z",
     "iopub.status.busy": "2021-04-19T12:26:21.061584Z",
     "iopub.status.idle": "2021-04-19T13:06:10.037834Z",
     "shell.execute_reply": "2021-04-19T13:06:10.037168Z"
    },
    "papermill": {
     "duration": 2389.041592,
     "end_time": "2021-04-19T13:06:10.038002",
     "exception": false,
     "start_time": "2021-04-19T12:26:20.996410",
     "status": "completed"
    },
    "tags": []
   },
   "outputs": [
    {
     "name": "stdout",
     "output_type": "stream",
     "text": [
      "------------------------------------------------------------------------------------------\n"
     ]
    },
    {
     "name": "stderr",
     "output_type": "stream",
     "text": [
      "/opt/conda/lib/python3.7/site-packages/torch/optim/lr_scheduler.py:136: UserWarning: Detected call of `lr_scheduler.step()` before `optimizer.step()`. In PyTorch 1.1.0 and later, you should call them in the opposite order: `optimizer.step()` before `lr_scheduler.step()`.  Failure to do this will result in PyTorch skipping the first value of the learning rate schedule. See more details at https://pytorch.org/docs/stable/optim.html#how-to-adjust-learning-rate\n",
      "  \"https://pytorch.org/docs/stable/optim.html#how-to-adjust-learning-rate\", UserWarning)\n"
     ]
    },
    {
     "name": "stdout",
     "output_type": "stream",
     "text": [
      "| start of epoch   0 | time: 90.86s | train_loss 0.002286\n",
      "----------\n",
      "| end of epoch   0 | time: 100.87s | test_loss 0.0006 | accuracy 97.97248077392578%(1353/1381)\n",
      "----------\n",
      "| start of epoch   1 | time: 71.73s | train_loss 0.000695\n",
      "----------\n",
      "| end of epoch   1 | time: 80.63s | test_loss 0.0006 | accuracy 97.7552490234375%(1350/1381)\n",
      "----------\n",
      "| start of epoch   2 | time: 71.51s | train_loss 0.000499\n",
      "----------\n",
      "| end of epoch   2 | time: 79.97s | test_loss 0.0004 | accuracy 98.76900482177734%(1364/1381)\n",
      "----------\n",
      "| start of epoch   3 | time: 71.30s | train_loss 0.000416\n",
      "----------\n",
      "| end of epoch   3 | time: 80.95s | test_loss 0.0004 | accuracy 98.47936248779297%(1360/1381)\n",
      "----------\n",
      "| start of epoch   4 | time: 68.93s | train_loss 0.000263\n",
      "----------\n",
      "| end of epoch   4 | time: 77.41s | test_loss 0.0003 | accuracy 98.69659423828125%(1363/1381)\n",
      "----------\n",
      "| start of epoch   5 | time: 69.13s | train_loss 0.000436\n",
      "----------\n",
      "| end of epoch   5 | time: 77.63s | test_loss 0.0004 | accuracy 98.84142303466797%(1365/1381)\n",
      "----------\n",
      "| start of epoch   6 | time: 69.37s | train_loss 0.000213\n",
      "----------\n",
      "| end of epoch   6 | time: 78.65s | test_loss 0.0005 | accuracy 98.33454132080078%(1358/1381)\n",
      "----------\n",
      "| start of epoch   7 | time: 69.13s | train_loss 0.000271\n",
      "----------\n",
      "| end of epoch   7 | time: 77.72s | test_loss 0.0003 | accuracy 99.05865478515625%(1368/1381)\n",
      "----------\n",
      "| start of epoch   8 | time: 70.32s | train_loss 0.000211\n",
      "----------\n",
      "| end of epoch   8 | time: 78.75s | test_loss 0.0004 | accuracy 98.69659423828125%(1363/1381)\n",
      "----------\n",
      "| start of epoch   9 | time: 71.04s | train_loss 0.000102\n",
      "----------\n",
      "| end of epoch   9 | time: 79.35s | test_loss 0.0002 | accuracy 99.27588653564453%(1371/1381)\n",
      "----------\n",
      "| start of epoch  10 | time: 70.16s | train_loss 0.000042\n",
      "----------\n",
      "| end of epoch  10 | time: 78.55s | test_loss 0.0002 | accuracy 99.42070770263672%(1373/1381)\n",
      "----------\n",
      "| start of epoch  11 | time: 69.09s | train_loss 0.000028\n",
      "----------\n",
      "| end of epoch  11 | time: 78.10s | test_loss 0.0002 | accuracy 99.34829711914062%(1372/1381)\n",
      "----------\n",
      "| start of epoch  12 | time: 70.02s | train_loss 0.000031\n",
      "----------\n",
      "| end of epoch  12 | time: 78.79s | test_loss 0.0002 | accuracy 99.34829711914062%(1372/1381)\n",
      "----------\n",
      "| start of epoch  13 | time: 71.35s | train_loss 0.000025\n",
      "----------\n",
      "| end of epoch  13 | time: 81.13s | test_loss 0.0002 | accuracy 99.42070770263672%(1373/1381)\n",
      "----------\n",
      "| start of epoch  14 | time: 72.40s | train_loss 0.000019\n",
      "----------\n",
      "| end of epoch  14 | time: 80.93s | test_loss 0.0002 | accuracy 99.49311828613281%(1374/1381)\n",
      "----------\n",
      "| start of epoch  15 | time: 69.50s | train_loss 0.000019\n",
      "----------\n",
      "| end of epoch  15 | time: 78.68s | test_loss 0.0002 | accuracy 99.42070770263672%(1373/1381)\n",
      "----------\n",
      "| start of epoch  16 | time: 68.59s | train_loss 0.000015\n",
      "----------\n",
      "| end of epoch  16 | time: 77.12s | test_loss 0.0002 | accuracy 99.49311828613281%(1374/1381)\n",
      "----------\n",
      "| start of epoch  17 | time: 69.67s | train_loss 0.000018\n",
      "----------\n",
      "| end of epoch  17 | time: 78.21s | test_loss 0.0002 | accuracy 99.27588653564453%(1371/1381)\n",
      "----------\n",
      "| start of epoch  18 | time: 69.67s | train_loss 0.000013\n",
      "----------\n",
      "| end of epoch  18 | time: 79.04s | test_loss 0.0002 | accuracy 99.49311828613281%(1374/1381)\n",
      "----------\n",
      "| start of epoch  19 | time: 69.29s | train_loss 0.000011\n",
      "----------\n",
      "| end of epoch  19 | time: 77.86s | test_loss 0.0002 | accuracy 99.49311828613281%(1374/1381)\n",
      "----------\n",
      "| start of epoch  20 | time: 69.42s | train_loss 0.000012\n",
      "----------\n",
      "| end of epoch  20 | time: 77.87s | test_loss 0.0002 | accuracy 99.49311828613281%(1374/1381)\n",
      "----------\n",
      "| start of epoch  21 | time: 68.65s | train_loss 0.000010\n",
      "----------\n",
      "| end of epoch  21 | time: 77.79s | test_loss 0.0002 | accuracy 99.42070770263672%(1373/1381)\n",
      "----------\n",
      "| start of epoch  22 | time: 70.62s | train_loss 0.000010\n",
      "----------\n",
      "| end of epoch  22 | time: 78.77s | test_loss 0.0002 | accuracy 99.42070770263672%(1373/1381)\n",
      "----------\n",
      "| start of epoch  23 | time: 68.71s | train_loss 0.000010\n",
      "----------\n",
      "| end of epoch  23 | time: 77.04s | test_loss 0.0002 | accuracy 99.42070770263672%(1373/1381)\n",
      "----------\n",
      "| start of epoch  24 | time: 69.81s | train_loss 0.000009\n",
      "----------\n",
      "| end of epoch  24 | time: 78.99s | test_loss 0.0002 | accuracy 99.49311828613281%(1374/1381)\n",
      "----------\n",
      "| start of epoch  25 | time: 70.22s | train_loss 0.000008\n",
      "----------\n",
      "| end of epoch  25 | time: 79.04s | test_loss 0.0002 | accuracy 99.49311828613281%(1374/1381)\n",
      "----------\n",
      "| start of epoch  26 | time: 71.03s | train_loss 0.000008\n",
      "----------\n",
      "| end of epoch  26 | time: 79.59s | test_loss 0.0002 | accuracy 99.5655288696289%(1375/1381)\n",
      "----------\n",
      "| start of epoch  27 | time: 70.81s | train_loss 0.000010\n",
      "----------\n",
      "| end of epoch  27 | time: 79.87s | test_loss 0.0002 | accuracy 99.42070770263672%(1373/1381)\n",
      "----------\n",
      "| start of epoch  28 | time: 71.25s | train_loss 0.000009\n",
      "----------\n",
      "| end of epoch  28 | time: 79.98s | test_loss 0.0002 | accuracy 99.42070770263672%(1373/1381)\n",
      "----------\n",
      "| start of epoch  29 | time: 70.81s | train_loss 0.000007\n",
      "----------\n",
      "| end of epoch  29 | time: 79.47s | test_loss 0.0002 | accuracy 99.49311828613281%(1374/1381)\n",
      "----------\n"
     ]
    },
    {
     "data": {
      "image/png": "[encoded data removed]",
      "text/plain": [
       "<Figure size 432x288 with 1 Axes>"
      ]
     },
     "metadata": {
      "needs_background": "light"
     },
     "output_type": "display_data"
    }
   ],
   "source": [
    "epochs=30\n",
    "\n",
    "train_loss1 = []\n",
    "valid_loss1 = []\n",
    "train_loss1,valid_loss1=train_epoches(model1,img_loader,img_evaluate_loader,epochs,scheduler1,optimizer1,criterion1)\n",
    "plot_loss(train_loss1, valid_loss1, \"Loss of model 1 (resnext50_32x4d)\")\n",
    "plt.show()\n"
   ]
  },
  {
   "cell_type": "code",
   "execution_count": 25,
   "metadata": {
    "execution": {
     "iopub.execute_input": "2021-04-19T13:06:10.209914Z",
     "iopub.status.busy": "2021-04-19T13:06:10.207588Z",
     "iopub.status.idle": "2021-04-19T13:47:43.418202Z",
     "shell.execute_reply": "2021-04-19T13:47:43.417713Z"
    },
    "papermill": {
     "duration": 2493.299017,
     "end_time": "2021-04-19T13:47:43.418346",
     "exception": false,
     "start_time": "2021-04-19T13:06:10.119329",
     "status": "completed"
    },
    "tags": []
   },
   "outputs": [
    {
     "name": "stdout",
     "output_type": "stream",
     "text": [
      "------------------------------------------------------------------------------------------\n",
      "| start of epoch   0 | time: 74.63s | train_loss 0.002413\n",
      "----------\n",
      "| end of epoch   0 | time: 83.58s | test_loss 0.0009 | accuracy 96.81390380859375%(1337/1381)\n",
      "----------\n",
      "| start of epoch   1 | time: 74.47s | train_loss 0.000616\n",
      "----------\n",
      "| end of epoch   1 | time: 83.82s | test_loss 0.0009 | accuracy 96.81390380859375%(1337/1381)\n",
      "----------\n",
      "| start of epoch   2 | time: 75.19s | train_loss 0.000492\n",
      "----------\n",
      "| end of epoch   2 | time: 84.51s | test_loss 0.0004 | accuracy 98.55177307128906%(1361/1381)\n",
      "----------\n",
      "| start of epoch   3 | time: 73.31s | train_loss 0.000371\n",
      "----------\n",
      "| end of epoch   3 | time: 82.60s | test_loss 0.0003 | accuracy 98.98624420166016%(1367/1381)\n",
      "----------\n",
      "| start of epoch   4 | time: 74.11s | train_loss 0.000392\n",
      "----------\n",
      "| end of epoch   4 | time: 83.43s | test_loss 0.0005 | accuracy 98.47936248779297%(1360/1381)\n",
      "----------\n",
      "| start of epoch   5 | time: 73.14s | train_loss 0.000306\n",
      "----------\n",
      "| end of epoch   5 | time: 81.91s | test_loss 0.0004 | accuracy 98.62418365478516%(1362/1381)\n",
      "----------\n",
      "| start of epoch   6 | time: 74.07s | train_loss 0.000333\n",
      "----------\n",
      "| end of epoch   6 | time: 83.30s | test_loss 0.0004 | accuracy 98.84142303466797%(1365/1381)\n",
      "----------\n",
      "| start of epoch   7 | time: 72.46s | train_loss 0.000292\n",
      "----------\n",
      "| end of epoch   7 | time: 81.60s | test_loss 0.0005 | accuracy 98.62418365478516%(1362/1381)\n",
      "----------\n",
      "| start of epoch   8 | time: 74.86s | train_loss 0.000251\n",
      "----------\n",
      "| end of epoch   8 | time: 84.18s | test_loss 0.0004 | accuracy 98.69659423828125%(1363/1381)\n",
      "----------\n",
      "| start of epoch   9 | time: 74.58s | train_loss 0.000090\n",
      "----------\n",
      "| end of epoch   9 | time: 84.34s | test_loss 0.0002 | accuracy 99.20347595214844%(1370/1381)\n",
      "----------\n",
      "| start of epoch  10 | time: 73.05s | train_loss 0.000053\n",
      "----------\n",
      "| end of epoch  10 | time: 82.53s | test_loss 0.0002 | accuracy 99.27588653564453%(1371/1381)\n",
      "----------\n",
      "| start of epoch  11 | time: 74.45s | train_loss 0.000048\n",
      "----------\n",
      "| end of epoch  11 | time: 84.57s | test_loss 0.0002 | accuracy 99.27588653564453%(1371/1381)\n",
      "----------\n",
      "| start of epoch  12 | time: 75.84s | train_loss 0.000033\n",
      "----------\n",
      "| end of epoch  12 | time: 85.27s | test_loss 0.0002 | accuracy 99.27588653564453%(1371/1381)\n",
      "----------\n",
      "| start of epoch  13 | time: 75.06s | train_loss 0.000025\n",
      "----------\n",
      "| end of epoch  13 | time: 84.35s | test_loss 0.0002 | accuracy 99.42070770263672%(1373/1381)\n",
      "----------\n",
      "| start of epoch  14 | time: 74.27s | train_loss 0.000022\n",
      "----------\n",
      "| end of epoch  14 | time: 83.72s | test_loss 0.0002 | accuracy 99.34829711914062%(1372/1381)\n",
      "----------\n",
      "| start of epoch  15 | time: 72.93s | train_loss 0.000019\n",
      "----------\n",
      "| end of epoch  15 | time: 82.78s | test_loss 0.0002 | accuracy 99.42070770263672%(1373/1381)\n",
      "----------\n",
      "| start of epoch  16 | time: 74.27s | train_loss 0.000020\n",
      "----------\n",
      "| end of epoch  16 | time: 84.42s | test_loss 0.0002 | accuracy 99.34829711914062%(1372/1381)\n",
      "----------\n",
      "| start of epoch  17 | time: 73.42s | train_loss 0.000022\n",
      "----------\n",
      "| end of epoch  17 | time: 82.38s | test_loss 0.0002 | accuracy 99.27588653564453%(1371/1381)\n",
      "----------\n",
      "| start of epoch  18 | time: 72.62s | train_loss 0.000019\n",
      "----------\n",
      "| end of epoch  18 | time: 82.16s | test_loss 0.0002 | accuracy 99.34829711914062%(1372/1381)\n",
      "----------\n",
      "| start of epoch  19 | time: 72.88s | train_loss 0.000018\n",
      "----------\n",
      "| end of epoch  19 | time: 81.75s | test_loss 0.0002 | accuracy 99.27588653564453%(1371/1381)\n",
      "----------\n",
      "| start of epoch  20 | time: 73.02s | train_loss 0.000014\n",
      "----------\n",
      "| end of epoch  20 | time: 82.24s | test_loss 0.0002 | accuracy 99.34829711914062%(1372/1381)\n",
      "----------\n",
      "| start of epoch  21 | time: 72.64s | train_loss 0.000017\n",
      "----------\n",
      "| end of epoch  21 | time: 81.83s | test_loss 0.0002 | accuracy 99.42070770263672%(1373/1381)\n",
      "----------\n",
      "| start of epoch  22 | time: 72.68s | train_loss 0.000012\n",
      "----------\n",
      "| end of epoch  22 | time: 81.88s | test_loss 0.0002 | accuracy 99.34829711914062%(1372/1381)\n",
      "----------\n",
      "| start of epoch  23 | time: 73.01s | train_loss 0.000013\n",
      "----------\n",
      "| end of epoch  23 | time: 82.37s | test_loss 0.0002 | accuracy 99.34829711914062%(1372/1381)\n",
      "----------\n",
      "| start of epoch  24 | time: 74.09s | train_loss 0.000012\n",
      "----------\n",
      "| end of epoch  24 | time: 83.38s | test_loss 0.0002 | accuracy 99.34829711914062%(1372/1381)\n",
      "----------\n",
      "| start of epoch  25 | time: 73.58s | train_loss 0.000016\n",
      "----------\n",
      "| end of epoch  25 | time: 82.63s | test_loss 0.0002 | accuracy 99.34829711914062%(1372/1381)\n",
      "----------\n",
      "| start of epoch  26 | time: 73.50s | train_loss 0.000013\n",
      "----------\n",
      "| end of epoch  26 | time: 82.86s | test_loss 0.0002 | accuracy 99.34829711914062%(1372/1381)\n",
      "----------\n",
      "| start of epoch  27 | time: 73.52s | train_loss 0.000010\n",
      "----------\n",
      "| end of epoch  27 | time: 82.41s | test_loss 0.0002 | accuracy 99.34829711914062%(1372/1381)\n",
      "----------\n",
      "| start of epoch  28 | time: 73.75s | train_loss 0.000013\n",
      "----------\n",
      "| end of epoch  28 | time: 83.12s | test_loss 0.0002 | accuracy 99.34829711914062%(1372/1381)\n",
      "----------\n",
      "| start of epoch  29 | time: 74.05s | train_loss 0.000010\n",
      "----------\n",
      "| end of epoch  29 | time: 83.02s | test_loss 0.0002 | accuracy 99.34829711914062%(1372/1381)\n",
      "----------\n"
     ]
    },
    {
     "data": {
      "image/png": "[encoded data removed]",
      "text/plain": [
       "<Figure size 432x288 with 1 Axes>"
      ]
     },
     "metadata": {
      "needs_background": "light"
     },
     "output_type": "display_data"
    }
   ],
   "source": [
    "train_loss2 = []\n",
    "valid_loss2 = []\n",
    "train_loss2,valid_loss2=train_epoches(model2,img_loader,img_evaluate_loader,epochs,scheduler2,optimizer2,criterion2)\n",
    "plot_loss(train_loss2, valid_loss2, \"Loss of model 2 (resnet152)\")\n",
    "plt.show()\n"
   ]
  },
  {
   "cell_type": "code",
   "execution_count": 26,
   "metadata": {
    "execution": {
     "iopub.execute_input": "2021-04-19T13:47:43.624361Z",
     "iopub.status.busy": "2021-04-19T13:47:43.623412Z",
     "iopub.status.idle": "2021-04-19T14:29:06.938829Z",
     "shell.execute_reply": "2021-04-19T14:29:06.938210Z"
    },
    "papermill": {
     "duration": 2483.420049,
     "end_time": "2021-04-19T14:29:06.939056",
     "exception": false,
     "start_time": "2021-04-19T13:47:43.519007",
     "status": "completed"
    },
    "tags": []
   },
   "outputs": [
    {
     "name": "stdout",
     "output_type": "stream",
     "text": [
      "------------------------------------------------------------------------------------------\n",
      "| start of epoch   0 | time: 72.10s | train_loss 0.002767\n",
      "----------\n",
      "| end of epoch   0 | time: 81.19s | test_loss 0.0009 | accuracy 97.10354614257812%(1341/1381)\n",
      "----------\n",
      "| start of epoch   1 | time: 72.00s | train_loss 0.001433\n",
      "----------\n",
      "| end of epoch   1 | time: 81.10s | test_loss 0.0008 | accuracy 97.97248077392578%(1353/1381)\n",
      "----------\n",
      "| start of epoch   2 | time: 71.63s | train_loss 0.001221\n",
      "----------\n",
      "| end of epoch   2 | time: 80.56s | test_loss 0.0011 | accuracy 96.95872497558594%(1339/1381)\n",
      "----------\n",
      "| start of epoch   3 | time: 71.21s | train_loss 0.001344\n",
      "----------\n",
      "| end of epoch   3 | time: 80.99s | test_loss 0.0007 | accuracy 97.8276596069336%(1351/1381)\n",
      "----------\n",
      "| start of epoch   4 | time: 71.61s | train_loss 0.001188\n",
      "----------\n",
      "| end of epoch   4 | time: 80.53s | test_loss 0.0007 | accuracy 98.33454132080078%(1358/1381)\n",
      "----------\n",
      "| start of epoch   5 | time: 71.90s | train_loss 0.001178\n",
      "----------\n",
      "| end of epoch   5 | time: 81.71s | test_loss 0.0008 | accuracy 98.0448989868164%(1354/1381)\n",
      "----------\n",
      "| start of epoch   6 | time: 70.91s | train_loss 0.001206\n",
      "----------\n",
      "| end of epoch   6 | time: 79.97s | test_loss 0.0010 | accuracy 97.97248077392578%(1353/1381)\n",
      "----------\n",
      "| start of epoch   7 | time: 70.91s | train_loss 0.001118\n",
      "----------\n",
      "| end of epoch   7 | time: 80.44s | test_loss 0.0006 | accuracy 98.40695190429688%(1359/1381)\n",
      "----------\n",
      "| start of epoch   8 | time: 71.66s | train_loss 0.000901\n",
      "----------\n",
      "| end of epoch   8 | time: 80.68s | test_loss 0.0008 | accuracy 97.97248077392578%(1353/1381)\n",
      "----------\n",
      "| start of epoch   9 | time: 71.90s | train_loss 0.000607\n",
      "----------\n",
      "| end of epoch   9 | time: 81.00s | test_loss 0.0004 | accuracy 98.62418365478516%(1362/1381)\n",
      "----------\n",
      "| start of epoch  10 | time: 72.26s | train_loss 0.000379\n",
      "----------\n",
      "| end of epoch  10 | time: 81.29s | test_loss 0.0003 | accuracy 98.84142303466797%(1365/1381)\n",
      "----------\n",
      "| start of epoch  11 | time: 74.36s | train_loss 0.000321\n",
      "----------\n",
      "| end of epoch  11 | time: 84.35s | test_loss 0.0003 | accuracy 99.20347595214844%(1370/1381)\n",
      "----------\n",
      "| start of epoch  12 | time: 73.68s | train_loss 0.000272\n",
      "----------\n",
      "| end of epoch  12 | time: 83.48s | test_loss 0.0003 | accuracy 99.05865478515625%(1368/1381)\n",
      "----------\n",
      "| start of epoch  13 | time: 74.34s | train_loss 0.000214\n",
      "----------\n",
      "| end of epoch  13 | time: 83.87s | test_loss 0.0003 | accuracy 99.05865478515625%(1368/1381)\n",
      "----------\n",
      "| start of epoch  14 | time: 75.77s | train_loss 0.000238\n",
      "----------\n",
      "| end of epoch  14 | time: 85.83s | test_loss 0.0003 | accuracy 98.91383361816406%(1366/1381)\n",
      "----------\n",
      "| start of epoch  15 | time: 75.15s | train_loss 0.000212\n",
      "----------\n",
      "| end of epoch  15 | time: 84.59s | test_loss 0.0003 | accuracy 99.05865478515625%(1368/1381)\n",
      "----------\n",
      "| start of epoch  16 | time: 75.04s | train_loss 0.000199\n",
      "----------\n",
      "| end of epoch  16 | time: 84.12s | test_loss 0.0003 | accuracy 99.27588653564453%(1371/1381)\n",
      "----------\n",
      "| start of epoch  17 | time: 75.96s | train_loss 0.000183\n",
      "----------\n",
      "| end of epoch  17 | time: 85.40s | test_loss 0.0003 | accuracy 99.13106536865234%(1369/1381)\n",
      "----------\n",
      "| start of epoch  18 | time: 74.64s | train_loss 0.000157\n",
      "----------\n",
      "| end of epoch  18 | time: 84.64s | test_loss 0.0004 | accuracy 98.91383361816406%(1366/1381)\n",
      "----------\n",
      "| start of epoch  19 | time: 74.83s | train_loss 0.000210\n",
      "----------\n",
      "| end of epoch  19 | time: 84.02s | test_loss 0.0003 | accuracy 98.98624420166016%(1367/1381)\n",
      "----------\n",
      "| start of epoch  20 | time: 73.76s | train_loss 0.000154\n",
      "----------\n",
      "| end of epoch  20 | time: 83.41s | test_loss 0.0003 | accuracy 99.05865478515625%(1368/1381)\n",
      "----------\n",
      "| start of epoch  21 | time: 73.07s | train_loss 0.000118\n",
      "----------\n",
      "| end of epoch  21 | time: 82.19s | test_loss 0.0003 | accuracy 98.98624420166016%(1367/1381)\n",
      "----------\n",
      "| start of epoch  22 | time: 74.20s | train_loss 0.000138\n",
      "----------\n",
      "| end of epoch  22 | time: 84.57s | test_loss 0.0003 | accuracy 99.05865478515625%(1368/1381)\n",
      "----------\n",
      "| start of epoch  23 | time: 75.10s | train_loss 0.000163\n",
      "----------\n",
      "| end of epoch  23 | time: 84.45s | test_loss 0.0003 | accuracy 99.13106536865234%(1369/1381)\n",
      "----------\n",
      "| start of epoch  24 | time: 72.94s | train_loss 0.000122\n",
      "----------\n",
      "| end of epoch  24 | time: 82.53s | test_loss 0.0003 | accuracy 98.98624420166016%(1367/1381)\n",
      "----------\n",
      "| start of epoch  25 | time: 74.21s | train_loss 0.000132\n",
      "----------\n",
      "| end of epoch  25 | time: 83.71s | test_loss 0.0003 | accuracy 98.98624420166016%(1367/1381)\n",
      "----------\n",
      "| start of epoch  26 | time: 74.83s | train_loss 0.000135\n",
      "----------\n",
      "| end of epoch  26 | time: 84.91s | test_loss 0.0003 | accuracy 99.05865478515625%(1368/1381)\n",
      "----------\n",
      "| start of epoch  27 | time: 73.24s | train_loss 0.000120\n",
      "----------\n",
      "| end of epoch  27 | time: 82.60s | test_loss 0.0003 | accuracy 98.98624420166016%(1367/1381)\n",
      "----------\n",
      "| start of epoch  28 | time: 73.05s | train_loss 0.000113\n",
      "----------\n",
      "| end of epoch  28 | time: 82.28s | test_loss 0.0003 | accuracy 99.05865478515625%(1368/1381)\n",
      "----------\n",
      "| start of epoch  29 | time: 72.72s | train_loss 0.000119\n",
      "----------\n",
      "| end of epoch  29 | time: 82.68s | test_loss 0.0003 | accuracy 99.13106536865234%(1369/1381)\n",
      "----------\n"
     ]
    },
    {
     "data": {
      "image/png": "[encoded data removed]",
      "text/plain": [
       "<Figure size 432x288 with 1 Axes>"
      ]
     },
     "metadata": {
      "needs_background": "light"
     },
     "output_type": "display_data"
    }
   ],
   "source": [
    "train_loss3 = []\n",
    "valid_loss3 = []\n",
    "train_loss3,valid_loss3=train_epoches(model3,img_loader,img_evaluate_loader,epochs,scheduler3,optimizer3,criterion3)\n",
    "plot_loss(train_loss3, valid_loss3, \"Loss of model 3 (vgg19)\")\n",
    "plt.show()"
   ]
  },
  {
   "cell_type": "markdown",
   "metadata": {
    "papermill": {
     "duration": 0.121726,
     "end_time": "2021-04-19T14:29:07.184889",
     "exception": false,
     "start_time": "2021-04-19T14:29:07.063163",
     "status": "completed"
    },
    "tags": []
   },
   "source": [
    "### Prediction du modele1, 2 et 3"
   ]
  },
  {
   "cell_type": "code",
   "execution_count": 27,
   "metadata": {
    "execution": {
     "iopub.execute_input": "2021-04-19T14:29:07.445157Z",
     "iopub.status.busy": "2021-04-19T14:29:07.442968Z",
     "iopub.status.idle": "2021-04-19T14:29:42.525308Z",
     "shell.execute_reply": "2021-04-19T14:29:42.524064Z"
    },
    "papermill": {
     "duration": 35.219849,
     "end_time": "2021-04-19T14:29:42.525473",
     "exception": false,
     "start_time": "2021-04-19T14:29:07.305624",
     "status": "completed"
    },
    "tags": []
   },
   "outputs": [],
   "source": [
    "import tensorflow as tf\n",
    "#img_tensor= tf.convert_to_tensor(img_test)\n",
    "model1.eval()\n",
    "model2.eval()\n",
    "model3.eval()\n",
    "\n",
    "y_cnn_pred1 = []\n",
    "y_cnn_pred2 = []\n",
    "y_cnn_pred3 = []\n",
    "for inputs in img_test_loader:\n",
    "    with torch.no_grad():  ### ici pas besoin de calculer les gradients\n",
    "        inputs = inputs.to(device)\n",
    "        outputs1 = model1.forward(inputs)\n",
    "        _,pred = outputs1.max(1)\n",
    "        y_cnn_pred1 = np.hstack((y_cnn_pred1,pred.cpu().numpy()))\n",
    "        \n",
    "        outputs2 = model2.forward(inputs)\n",
    "        _,pred = outputs2.max(1)\n",
    "        y_cnn_pred2 = np.hstack((y_cnn_pred2,pred.cpu().numpy()))\n",
    "        \n",
    "        outputs3 = model3.forward(inputs)\n",
    "        _,pred = outputs3.max(1)\n",
    "        y_cnn_pred3 = np.hstack((y_cnn_pred3,pred.cpu().numpy()))\n",
    "        \n",
    "y_cnn_pred1=y_cnn_pred1.astype(np.int16)\n",
    "y_cnn_pred2=y_cnn_pred2.astype(np.int16)\n",
    "y_cnn_pred3=y_cnn_pred3.astype(np.int16)"
   ]
  },
  {
   "cell_type": "markdown",
   "metadata": {
    "papermill": {
     "duration": 0.156771,
     "end_time": "2021-04-19T14:29:42.805863",
     "exception": false,
     "start_time": "2021-04-19T14:29:42.649092",
     "status": "completed"
    },
    "tags": []
   },
   "source": [
    "## PARTIE 3 : VOTING"
   ]
  },
  {
   "cell_type": "markdown",
   "metadata": {
    "papermill": {
     "duration": 0.123605,
     "end_time": "2021-04-19T14:29:43.053496",
     "exception": false,
     "start_time": "2021-04-19T14:29:42.929891",
     "status": "completed"
    },
    "tags": []
   },
   "source": [
    "Selon les résultats soumis séparément, on a: \n",
    "Modele(resnext50_32x4d) = Modele(resnet152) > Modele(MLP) > Modele(SVM) > Modele(VGG19)"
   ]
  },
  {
   "cell_type": "code",
   "execution_count": 28,
   "metadata": {
    "execution": {
     "iopub.execute_input": "2021-04-19T14:29:43.307669Z",
     "iopub.status.busy": "2021-04-19T14:29:43.306650Z",
     "iopub.status.idle": "2021-04-19T14:29:43.331812Z",
     "shell.execute_reply": "2021-04-19T14:29:43.331260Z"
    },
    "papermill": {
     "duration": 0.155507,
     "end_time": "2021-04-19T14:29:43.331958",
     "exception": false,
     "start_time": "2021-04-19T14:29:43.176451",
     "status": "completed"
    },
    "tags": []
   },
   "outputs": [],
   "source": [
    "y_pred_total = np.vstack((y_cnn_pred1,y_cnn_pred2,y_mlp_pred,y_svm_pred,y_cnn_pred3)).T.astype(np.int16)\n",
    "y_pred = np.zeros(img_test_list.shape[0])\n",
    "for i in range(img_test_list.shape[0]):\n",
    "    y_pred[i] = np.argmax(np.bincount(y_pred_total[i]))\n",
    "y_pred = y_pred.astype(np.int16)"
   ]
  },
  {
   "cell_type": "markdown",
   "metadata": {
    "papermill": {
     "duration": 0.123204,
     "end_time": "2021-04-19T14:29:43.578098",
     "exception": false,
     "start_time": "2021-04-19T14:29:43.454894",
     "status": "completed"
    },
    "tags": []
   },
   "source": [
    "## PARTIE 4 : CRÉATION ET SAUVEGARDE DU FICHER DE SOUMISSION"
   ]
  },
  {
   "cell_type": "code",
   "execution_count": 29,
   "metadata": {
    "execution": {
     "iopub.execute_input": "2021-04-19T14:29:43.834264Z",
     "iopub.status.busy": "2021-04-19T14:29:43.833606Z",
     "iopub.status.idle": "2021-04-19T14:29:43.979905Z",
     "shell.execute_reply": "2021-04-19T14:29:43.979313Z"
    },
    "papermill": {
     "duration": 0.279473,
     "end_time": "2021-04-19T14:29:43.980077",
     "exception": false,
     "start_time": "2021-04-19T14:29:43.700604",
     "status": "completed"
    },
    "tags": []
   },
   "outputs": [],
   "source": [
    "#====================================================================\n",
    "# Création du ficher de soumission\n",
    "\n",
    "submission = pd.DataFrame({'CLASS':y_pred})\n",
    "submission=submission.reset_index()\n",
    "submission = submission.rename(columns={'index': 'Id'})\n",
    "\n",
    "#======================================================================\n",
    "# Sauvegarde du fichier\n",
    "submission.to_csv('submission.csv', index=False)"
   ]
  }
 ],
 "metadata": {
  "kernelspec": {
   "display_name": "Python 3",
   "language": "python",
   "name": "python3"
  },
  "language_info": {
   "codemirror_mode": {
    "name": "ipython",
    "version": 3
   },
   "file_extension": ".py",
   "mimetype": "text/x-python",
   "name": "python",
   "nbconvert_exporter": "python",
   "pygments_lexer": "ipython3",
   "version": "3.7.9"
  },
  "papermill": {
   "default_parameters": {},
   "duration": 7494.663277,
   "end_time": "2021-04-19T14:29:46.424711",
   "environment_variables": {},
   "exception": null,
   "input_path": "__notebook__.ipynb",
   "output_path": "__notebook__.ipynb",
   "parameters": {},
   "start_time": "2021-04-19T12:24:51.761434",
   "version": "2.2.2"
  },
  "widgets": {
   "application/vnd.jupyter.widget-state+json": {
    "state": {
     "051df8c1b39e4010a75bba1e5d213093": {
      "model_module": "@jupyter-widgets/base",
      "model_module_version": "1.2.0",
      "model_name": "LayoutModel",
      "state": {
       "_model_module": "@jupyter-widgets/base",
       "_model_module_version": "1.2.0",
       "_model_name": "LayoutModel",
       "_view_count": null,
       "_view_module": "@jupyter-widgets/base",
       "_view_module_version": "1.2.0",
       "_view_name": "LayoutView",
       "align_content": null,
       "align_items": null,
       "align_self": null,
       "border": null,
       "bottom": null,
       "display": null,
       "flex": null,
       "flex_flow": null,
       "grid_area": null,
       "grid_auto_columns": null,
       "grid_auto_flow": null,
       "grid_auto_rows": null,
       "grid_column": null,
       "grid_gap": null,
       "grid_row": null,
       "grid_template_areas": null,
       "grid_template_columns": null,
       "grid_template_rows": null,
       "height": null,
       "justify_content": null,
       "justify_items": null,
       "left": null,
       "margin": null,
       "max_height": null,
       "max_width": null,
       "min_height": null,
       "min_width": null,
       "object_fit": null,
       "object_position": null,
       "order": null,
       "overflow": null,
       "overflow_x": null,
       "overflow_y": null,
       "padding": null,
       "right": null,
       "top": null,
       "visibility": null,
       "width": null
      }
     },
     "0d6f2afe091542df848df7dcfd469eb5": {
      "model_module": "@jupyter-widgets/controls",
      "model_module_version": "1.5.0",
      "model_name": "ProgressStyleModel",
      "state": {
       "_model_module": "@jupyter-widgets/controls",
       "_model_module_version": "1.5.0",
       "_model_name": "ProgressStyleModel",
       "_view_count": null,
       "_view_module": "@jupyter-widgets/base",
       "_view_module_version": "1.2.0",
       "_view_name": "StyleView",
       "bar_color": null,
       "description_width": ""
      }
     },
     "0f3bb832026748b8bbbd69c5519c76a7": {
      "model_module": "@jupyter-widgets/base",
      "model_module_version": "1.2.0",
      "model_name": "LayoutModel",
      "state": {
       "_model_module": "@jupyter-widgets/base",
       "_model_module_version": "1.2.0",
       "_model_name": "LayoutModel",
       "_view_count": null,
       "_view_module": "@jupyter-widgets/base",
       "_view_module_version": "1.2.0",
       "_view_name": "LayoutView",
       "align_content": null,
       "align_items": null,
       "align_self": null,
       "border": null,
       "bottom": null,
       "display": null,
       "flex": null,
       "flex_flow": null,
       "grid_area": null,
       "grid_auto_columns": null,
       "grid_auto_flow": null,
       "grid_auto_rows": null,
       "grid_column": null,
       "grid_gap": null,
       "grid_row": null,
       "grid_template_areas": null,
       "grid_template_columns": null,
       "grid_template_rows": null,
       "height": null,
       "justify_content": null,
       "justify_items": null,
       "left": null,
       "margin": null,
       "max_height": null,
       "max_width": null,
       "min_height": null,
       "min_width": null,
       "object_fit": null,
       "object_position": null,
       "order": null,
       "overflow": null,
       "overflow_x": null,
       "overflow_y": null,
       "padding": null,
       "right": null,
       "top": null,
       "visibility": null,
       "width": null
      }
     },
     "12f22c154b8b4b46b4e644b835f8cd81": {
      "model_module": "@jupyter-widgets/controls",
      "model_module_version": "1.5.0",
      "model_name": "DescriptionStyleModel",
      "state": {
       "_model_module": "@jupyter-widgets/controls",
       "_model_module_version": "1.5.0",
       "_model_name": "DescriptionStyleModel",
       "_view_count": null,
       "_view_module": "@jupyter-widgets/base",
       "_view_module_version": "1.2.0",
       "_view_name": "StyleView",
       "description_width": ""
      }
     },
     "16355390248646419800d939fec109e0": {
      "model_module": "@jupyter-widgets/base",
      "model_module_version": "1.2.0",
      "model_name": "LayoutModel",
      "state": {
       "_model_module": "@jupyter-widgets/base",
       "_model_module_version": "1.2.0",
       "_model_name": "LayoutModel",
       "_view_count": null,
       "_view_module": "@jupyter-widgets/base",
       "_view_module_version": "1.2.0",
       "_view_name": "LayoutView",
       "align_content": null,
       "align_items": null,
       "align_self": null,
       "border": null,
       "bottom": null,
       "display": null,
       "flex": null,
       "flex_flow": null,
       "grid_area": null,
       "grid_auto_columns": null,
       "grid_auto_flow": null,
       "grid_auto_rows": null,
       "grid_column": null,
       "grid_gap": null,
       "grid_row": null,
       "grid_template_areas": null,
       "grid_template_columns": null,
       "grid_template_rows": null,
       "height": null,
       "justify_content": null,
       "justify_items": null,
       "left": null,
       "margin": null,
       "max_height": null,
       "max_width": null,
       "min_height": null,
       "min_width": null,
       "object_fit": null,
       "object_position": null,
       "order": null,
       "overflow": null,
       "overflow_x": null,
       "overflow_y": null,
       "padding": null,
       "right": null,
       "top": null,
       "visibility": null,
       "width": null
      }
     },
     "220000ef23f24c028f99d6bbde15f0e1": {
      "model_module": "@jupyter-widgets/controls",
      "model_module_version": "1.5.0",
      "model_name": "HTMLModel",
      "state": {
       "_dom_classes": [],
       "_model_module": "@jupyter-widgets/controls",
       "_model_module_version": "1.5.0",
       "_model_name": "HTMLModel",
       "_view_count": null,
       "_view_module": "@jupyter-widgets/controls",
       "_view_module_version": "1.5.0",
       "_view_name": "HTMLView",
       "description": "",
       "description_tooltip": null,
       "layout": "IPY_MODEL_c98f1ab4a6c744049ca0a42384bf60dc",
       "placeholder": "​",
       "style": "IPY_MODEL_6a205c6e63ae42f58f213a9e88cee305",
       "value": "100%"
      }
     },
     "25255efd14714c38957f6dd27baa776d": {
      "model_module": "@jupyter-widgets/base",
      "model_module_version": "1.2.0",
      "model_name": "LayoutModel",
      "state": {
       "_model_module": "@jupyter-widgets/base",
       "_model_module_version": "1.2.0",
       "_model_name": "LayoutModel",
       "_view_count": null,
       "_view_module": "@jupyter-widgets/base",
       "_view_module_version": "1.2.0",
       "_view_name": "LayoutView",
       "align_content": null,
       "align_items": null,
       "align_self": null,
       "border": null,
       "bottom": null,
       "display": null,
       "flex": null,
       "flex_flow": null,
       "grid_area": null,
       "grid_auto_columns": null,
       "grid_auto_flow": null,
       "grid_auto_rows": null,
       "grid_column": null,
       "grid_gap": null,
       "grid_row": null,
       "grid_template_areas": null,
       "grid_template_columns": null,
       "grid_template_rows": null,
       "height": null,
       "justify_content": null,
       "justify_items": null,
       "left": null,
       "margin": null,
       "max_height": null,
       "max_width": null,
       "min_height": null,
       "min_width": null,
       "object_fit": null,
       "object_position": null,
       "order": null,
       "overflow": null,
       "overflow_x": null,
       "overflow_y": null,
       "padding": null,
       "right": null,
       "top": null,
       "visibility": null,
       "width": null
      }
     },
     "25eb3936bd434708a86bd80eee8aa897": {
      "model_module": "@jupyter-widgets/controls",
      "model_module_version": "1.5.0",
      "model_name": "DescriptionStyleModel",
      "state": {
       "_model_module": "@jupyter-widgets/controls",
       "_model_module_version": "1.5.0",
       "_model_name": "DescriptionStyleModel",
       "_view_count": null,
       "_view_module": "@jupyter-widgets/base",
       "_view_module_version": "1.2.0",
       "_view_name": "StyleView",
       "description_width": ""
      }
     },
     "302918c4c1cd48d49eafdfb931bcc48c": {
      "model_module": "@jupyter-widgets/controls",
      "model_module_version": "1.5.0",
      "model_name": "HTMLModel",
      "state": {
       "_dom_classes": [],
       "_model_module": "@jupyter-widgets/controls",
       "_model_module_version": "1.5.0",
       "_model_name": "HTMLModel",
       "_view_count": null,
       "_view_module": "@jupyter-widgets/controls",
       "_view_module_version": "1.5.0",
       "_view_name": "HTMLView",
       "description": "",
       "description_tooltip": null,
       "layout": "IPY_MODEL_fab34430f92445f29842aeda93dd2763",
       "placeholder": "​",
       "style": "IPY_MODEL_bf543b5a9c2e4e93adb116024d14704b",
       "value": " 230M/230M [00:03&lt;00:00, 73.2MB/s]"
      }
     },
     "36abed9a0fde4f3daaea7ef6577610c1": {
      "model_module": "@jupyter-widgets/controls",
      "model_module_version": "1.5.0",
      "model_name": "HBoxModel",
      "state": {
       "_dom_classes": [],
       "_model_module": "@jupyter-widgets/controls",
       "_model_module_version": "1.5.0",
       "_model_name": "HBoxModel",
       "_view_count": null,
       "_view_module": "@jupyter-widgets/controls",
       "_view_module_version": "1.5.0",
       "_view_name": "HBoxView",
       "box_style": "",
       "children": [
        "IPY_MODEL_b9d35181b6df49ffa8b34f9b0d642a2e",
        "IPY_MODEL_d670327b59b6475bb418f27104cc9121",
        "IPY_MODEL_4c75ec87daef439f936cd98a0ef38858"
       ],
       "layout": "IPY_MODEL_a87b16a974ef4bdf861663d87aaebf4e"
      }
     },
     "3db778592b7b4d8ea5357f9c315f0405": {
      "model_module": "@jupyter-widgets/controls",
      "model_module_version": "1.5.0",
      "model_name": "DescriptionStyleModel",
      "state": {
       "_model_module": "@jupyter-widgets/controls",
       "_model_module_version": "1.5.0",
       "_model_name": "DescriptionStyleModel",
       "_view_count": null,
       "_view_module": "@jupyter-widgets/base",
       "_view_module_version": "1.2.0",
       "_view_name": "StyleView",
       "description_width": ""
      }
     },
     "4c75ec87daef439f936cd98a0ef38858": {
      "model_module": "@jupyter-widgets/controls",
      "model_module_version": "1.5.0",
      "model_name": "HTMLModel",
      "state": {
       "_dom_classes": [],
       "_model_module": "@jupyter-widgets/controls",
       "_model_module_version": "1.5.0",
       "_model_name": "HTMLModel",
       "_view_count": null,
       "_view_module": "@jupyter-widgets/controls",
       "_view_module_version": "1.5.0",
       "_view_name": "HTMLView",
       "description": "",
       "description_tooltip": null,
       "layout": "IPY_MODEL_7e0a72c9476e46abb1faa842c6995642",
       "placeholder": "​",
       "style": "IPY_MODEL_3db778592b7b4d8ea5357f9c315f0405",
       "value": " 95.8M/95.8M [00:01&lt;00:00, 74.4MB/s]"
      }
     },
     "4dfb21566b1b4ab9b3f2ac77d1ee88cd": {
      "model_module": "@jupyter-widgets/controls",
      "model_module_version": "1.5.0",
      "model_name": "ProgressStyleModel",
      "state": {
       "_model_module": "@jupyter-widgets/controls",
       "_model_module_version": "1.5.0",
       "_model_name": "ProgressStyleModel",
       "_view_count": null,
       "_view_module": "@jupyter-widgets/base",
       "_view_module_version": "1.2.0",
       "_view_name": "StyleView",
       "bar_color": null,
       "description_width": ""
      }
     },
     "6a205c6e63ae42f58f213a9e88cee305": {
      "model_module": "@jupyter-widgets/controls",
      "model_module_version": "1.5.0",
      "model_name": "DescriptionStyleModel",
      "state": {
       "_model_module": "@jupyter-widgets/controls",
       "_model_module_version": "1.5.0",
       "_model_name": "DescriptionStyleModel",
       "_view_count": null,
       "_view_module": "@jupyter-widgets/base",
       "_view_module_version": "1.2.0",
       "_view_name": "StyleView",
       "description_width": ""
      }
     },
     "7e0a72c9476e46abb1faa842c6995642": {
      "model_module": "@jupyter-widgets/base",
      "model_module_version": "1.2.0",
      "model_name": "LayoutModel",
      "state": {
       "_model_module": "@jupyter-widgets/base",
       "_model_module_version": "1.2.0",
       "_model_name": "LayoutModel",
       "_view_count": null,
       "_view_module": "@jupyter-widgets/base",
       "_view_module_version": "1.2.0",
       "_view_name": "LayoutView",
       "align_content": null,
       "align_items": null,
       "align_self": null,
       "border": null,
       "bottom": null,
       "display": null,
       "flex": null,
       "flex_flow": null,
       "grid_area": null,
       "grid_auto_columns": null,
       "grid_auto_flow": null,
       "grid_auto_rows": null,
       "grid_column": null,
       "grid_gap": null,
       "grid_row": null,
       "grid_template_areas": null,
       "grid_template_columns": null,
       "grid_template_rows": null,
       "height": null,
       "justify_content": null,
       "justify_items": null,
       "left": null,
       "margin": null,
       "max_height": null,
       "max_width": null,
       "min_height": null,
       "min_width": null,
       "object_fit": null,
       "object_position": null,
       "order": null,
       "overflow": null,
       "overflow_x": null,
       "overflow_y": null,
       "padding": null,
       "right": null,
       "top": null,
       "visibility": null,
       "width": null
      }
     },
     "8679e0611a2548bfbaa8821310826e32": {
      "model_module": "@jupyter-widgets/controls",
      "model_module_version": "1.5.0",
      "model_name": "HBoxModel",
      "state": {
       "_dom_classes": [],
       "_model_module": "@jupyter-widgets/controls",
       "_model_module_version": "1.5.0",
       "_model_name": "HBoxModel",
       "_view_count": null,
       "_view_module": "@jupyter-widgets/controls",
       "_view_module_version": "1.5.0",
       "_view_name": "HBoxView",
       "box_style": "",
       "children": [
        "IPY_MODEL_a7c36573b0f94d60968100c33f84530b",
        "IPY_MODEL_9b3cd6426b884b0691964b64bea1c79e",
        "IPY_MODEL_302918c4c1cd48d49eafdfb931bcc48c"
       ],
       "layout": "IPY_MODEL_25255efd14714c38957f6dd27baa776d"
      }
     },
     "98e34e67ce2447b283d1541bed1e0954": {
      "model_module": "@jupyter-widgets/base",
      "model_module_version": "1.2.0",
      "model_name": "LayoutModel",
      "state": {
       "_model_module": "@jupyter-widgets/base",
       "_model_module_version": "1.2.0",
       "_model_name": "LayoutModel",
       "_view_count": null,
       "_view_module": "@jupyter-widgets/base",
       "_view_module_version": "1.2.0",
       "_view_name": "LayoutView",
       "align_content": null,
       "align_items": null,
       "align_self": null,
       "border": null,
       "bottom": null,
       "display": null,
       "flex": null,
       "flex_flow": null,
       "grid_area": null,
       "grid_auto_columns": null,
       "grid_auto_flow": null,
       "grid_auto_rows": null,
       "grid_column": null,
       "grid_gap": null,
       "grid_row": null,
       "grid_template_areas": null,
       "grid_template_columns": null,
       "grid_template_rows": null,
       "height": null,
       "justify_content": null,
       "justify_items": null,
       "left": null,
       "margin": null,
       "max_height": null,
       "max_width": null,
       "min_height": null,
       "min_width": null,
       "object_fit": null,
       "object_position": null,
       "order": null,
       "overflow": null,
       "overflow_x": null,
       "overflow_y": null,
       "padding": null,
       "right": null,
       "top": null,
       "visibility": null,
       "width": null
      }
     },
     "9b3cd6426b884b0691964b64bea1c79e": {
      "model_module": "@jupyter-widgets/controls",
      "model_module_version": "1.5.0",
      "model_name": "FloatProgressModel",
      "state": {
       "_dom_classes": [],
       "_model_module": "@jupyter-widgets/controls",
       "_model_module_version": "1.5.0",
       "_model_name": "FloatProgressModel",
       "_view_count": null,
       "_view_module": "@jupyter-widgets/controls",
       "_view_module_version": "1.5.0",
       "_view_name": "ProgressView",
       "bar_style": "success",
       "description": "",
       "description_tooltip": null,
       "layout": "IPY_MODEL_a0ce027e4f904d7fad23b0fb7d1c2b94",
       "max": 241530880.0,
       "min": 0.0,
       "orientation": "horizontal",
       "style": "IPY_MODEL_ce865059aef943f3a157b31fc1a004f4",
       "value": 241530880.0
      }
     },
     "9d315b0644a0463b8d006e11d03b1400": {
      "model_module": "@jupyter-widgets/controls",
      "model_module_version": "1.5.0",
      "model_name": "DescriptionStyleModel",
      "state": {
       "_model_module": "@jupyter-widgets/controls",
       "_model_module_version": "1.5.0",
       "_model_name": "DescriptionStyleModel",
       "_view_count": null,
       "_view_module": "@jupyter-widgets/base",
       "_view_module_version": "1.2.0",
       "_view_name": "StyleView",
       "description_width": ""
      }
     },
     "a0ce027e4f904d7fad23b0fb7d1c2b94": {
      "model_module": "@jupyter-widgets/base",
      "model_module_version": "1.2.0",
      "model_name": "LayoutModel",
      "state": {
       "_model_module": "@jupyter-widgets/base",
       "_model_module_version": "1.2.0",
       "_model_name": "LayoutModel",
       "_view_count": null,
       "_view_module": "@jupyter-widgets/base",
       "_view_module_version": "1.2.0",
       "_view_name": "LayoutView",
       "align_content": null,
       "align_items": null,
       "align_self": null,
       "border": null,
       "bottom": null,
       "display": null,
       "flex": null,
       "flex_flow": null,
       "grid_area": null,
       "grid_auto_columns": null,
       "grid_auto_flow": null,
       "grid_auto_rows": null,
       "grid_column": null,
       "grid_gap": null,
       "grid_row": null,
       "grid_template_areas": null,
       "grid_template_columns": null,
       "grid_template_rows": null,
       "height": null,
       "justify_content": null,
       "justify_items": null,
       "left": null,
       "margin": null,
       "max_height": null,
       "max_width": null,
       "min_height": null,
       "min_width": null,
       "object_fit": null,
       "object_position": null,
       "order": null,
       "overflow": null,
       "overflow_x": null,
       "overflow_y": null,
       "padding": null,
       "right": null,
       "top": null,
       "visibility": null,
       "width": null
      }
     },
     "a5f610c302214817a66303b84b045d19": {
      "model_module": "@jupyter-widgets/controls",
      "model_module_version": "1.5.0",
      "model_name": "FloatProgressModel",
      "state": {
       "_dom_classes": [],
       "_model_module": "@jupyter-widgets/controls",
       "_model_module_version": "1.5.0",
       "_model_name": "FloatProgressModel",
       "_view_count": null,
       "_view_module": "@jupyter-widgets/controls",
       "_view_module_version": "1.5.0",
       "_view_name": "ProgressView",
       "bar_style": "success",
       "description": "",
       "description_tooltip": null,
       "layout": "IPY_MODEL_98e34e67ce2447b283d1541bed1e0954",
       "max": 574769405.0,
       "min": 0.0,
       "orientation": "horizontal",
       "style": "IPY_MODEL_0d6f2afe091542df848df7dcfd469eb5",
       "value": 574769405.0
      }
     },
     "a7c36573b0f94d60968100c33f84530b": {
      "model_module": "@jupyter-widgets/controls",
      "model_module_version": "1.5.0",
      "model_name": "HTMLModel",
      "state": {
       "_dom_classes": [],
       "_model_module": "@jupyter-widgets/controls",
       "_model_module_version": "1.5.0",
       "_model_name": "HTMLModel",
       "_view_count": null,
       "_view_module": "@jupyter-widgets/controls",
       "_view_module_version": "1.5.0",
       "_view_name": "HTMLView",
       "description": "",
       "description_tooltip": null,
       "layout": "IPY_MODEL_e5b2ebfdfde94bb1b3997854fedcae27",
       "placeholder": "​",
       "style": "IPY_MODEL_12f22c154b8b4b46b4e644b835f8cd81",
       "value": "100%"
      }
     },
     "a87b16a974ef4bdf861663d87aaebf4e": {
      "model_module": "@jupyter-widgets/base",
      "model_module_version": "1.2.0",
      "model_name": "LayoutModel",
      "state": {
       "_model_module": "@jupyter-widgets/base",
       "_model_module_version": "1.2.0",
       "_model_name": "LayoutModel",
       "_view_count": null,
       "_view_module": "@jupyter-widgets/base",
       "_view_module_version": "1.2.0",
       "_view_name": "LayoutView",
       "align_content": null,
       "align_items": null,
       "align_self": null,
       "border": null,
       "bottom": null,
       "display": null,
       "flex": null,
       "flex_flow": null,
       "grid_area": null,
       "grid_auto_columns": null,
       "grid_auto_flow": null,
       "grid_auto_rows": null,
       "grid_column": null,
       "grid_gap": null,
       "grid_row": null,
       "grid_template_areas": null,
       "grid_template_columns": null,
       "grid_template_rows": null,
       "height": null,
       "justify_content": null,
       "justify_items": null,
       "left": null,
       "margin": null,
       "max_height": null,
       "max_width": null,
       "min_height": null,
       "min_width": null,
       "object_fit": null,
       "object_position": null,
       "order": null,
       "overflow": null,
       "overflow_x": null,
       "overflow_y": null,
       "padding": null,
       "right": null,
       "top": null,
       "visibility": null,
       "width": null
      }
     },
     "b9d35181b6df49ffa8b34f9b0d642a2e": {
      "model_module": "@jupyter-widgets/controls",
      "model_module_version": "1.5.0",
      "model_name": "HTMLModel",
      "state": {
       "_dom_classes": [],
       "_model_module": "@jupyter-widgets/controls",
       "_model_module_version": "1.5.0",
       "_model_name": "HTMLModel",
       "_view_count": null,
       "_view_module": "@jupyter-widgets/controls",
       "_view_module_version": "1.5.0",
       "_view_name": "HTMLView",
       "description": "",
       "description_tooltip": null,
       "layout": "IPY_MODEL_16355390248646419800d939fec109e0",
       "placeholder": "​",
       "style": "IPY_MODEL_25eb3936bd434708a86bd80eee8aa897",
       "value": "100%"
      }
     },
     "bf543b5a9c2e4e93adb116024d14704b": {
      "model_module": "@jupyter-widgets/controls",
      "model_module_version": "1.5.0",
      "model_name": "DescriptionStyleModel",
      "state": {
       "_model_module": "@jupyter-widgets/controls",
       "_model_module_version": "1.5.0",
       "_model_name": "DescriptionStyleModel",
       "_view_count": null,
       "_view_module": "@jupyter-widgets/base",
       "_view_module_version": "1.2.0",
       "_view_name": "StyleView",
       "description_width": ""
      }
     },
     "c98f1ab4a6c744049ca0a42384bf60dc": {
      "model_module": "@jupyter-widgets/base",
      "model_module_version": "1.2.0",
      "model_name": "LayoutModel",
      "state": {
       "_model_module": "@jupyter-widgets/base",
       "_model_module_version": "1.2.0",
       "_model_name": "LayoutModel",
       "_view_count": null,
       "_view_module": "@jupyter-widgets/base",
       "_view_module_version": "1.2.0",
       "_view_name": "LayoutView",
       "align_content": null,
       "align_items": null,
       "align_self": null,
       "border": null,
       "bottom": null,
       "display": null,
       "flex": null,
       "flex_flow": null,
       "grid_area": null,
       "grid_auto_columns": null,
       "grid_auto_flow": null,
       "grid_auto_rows": null,
       "grid_column": null,
       "grid_gap": null,
       "grid_row": null,
       "grid_template_areas": null,
       "grid_template_columns": null,
       "grid_template_rows": null,
       "height": null,
       "justify_content": null,
       "justify_items": null,
       "left": null,
       "margin": null,
       "max_height": null,
       "max_width": null,
       "min_height": null,
       "min_width": null,
       "object_fit": null,
       "object_position": null,
       "order": null,
       "overflow": null,
       "overflow_x": null,
       "overflow_y": null,
       "padding": null,
       "right": null,
       "top": null,
       "visibility": null,
       "width": null
      }
     },
     "cbf1c00bef1f40aa9a48e8e219a8dcda": {
      "model_module": "@jupyter-widgets/controls",
      "model_module_version": "1.5.0",
      "model_name": "HTMLModel",
      "state": {
       "_dom_classes": [],
       "_model_module": "@jupyter-widgets/controls",
       "_model_module_version": "1.5.0",
       "_model_name": "HTMLModel",
       "_view_count": null,
       "_view_module": "@jupyter-widgets/controls",
       "_view_module_version": "1.5.0",
       "_view_name": "HTMLView",
       "description": "",
       "description_tooltip": null,
       "layout": "IPY_MODEL_0f3bb832026748b8bbbd69c5519c76a7",
       "placeholder": "​",
       "style": "IPY_MODEL_9d315b0644a0463b8d006e11d03b1400",
       "value": " 548M/548M [00:07&lt;00:00, 70.5MB/s]"
      }
     },
     "ce865059aef943f3a157b31fc1a004f4": {
      "model_module": "@jupyter-widgets/controls",
      "model_module_version": "1.5.0",
      "model_name": "ProgressStyleModel",
      "state": {
       "_model_module": "@jupyter-widgets/controls",
       "_model_module_version": "1.5.0",
       "_model_name": "ProgressStyleModel",
       "_view_count": null,
       "_view_module": "@jupyter-widgets/base",
       "_view_module_version": "1.2.0",
       "_view_name": "StyleView",
       "bar_color": null,
       "description_width": ""
      }
     },
     "d670327b59b6475bb418f27104cc9121": {
      "model_module": "@jupyter-widgets/controls",
      "model_module_version": "1.5.0",
      "model_name": "FloatProgressModel",
      "state": {
       "_dom_classes": [],
       "_model_module": "@jupyter-widgets/controls",
       "_model_module_version": "1.5.0",
       "_model_name": "FloatProgressModel",
       "_view_count": null,
       "_view_module": "@jupyter-widgets/controls",
       "_view_module_version": "1.5.0",
       "_view_name": "ProgressView",
       "bar_style": "success",
       "description": "",
       "description_tooltip": null,
       "layout": "IPY_MODEL_051df8c1b39e4010a75bba1e5d213093",
       "max": 100441675.0,
       "min": 0.0,
       "orientation": "horizontal",
       "style": "IPY_MODEL_4dfb21566b1b4ab9b3f2ac77d1ee88cd",
       "value": 100441675.0
      }
     },
     "d7907f823482496696c933e39ce021d0": {
      "model_module": "@jupyter-widgets/base",
      "model_module_version": "1.2.0",
      "model_name": "LayoutModel",
      "state": {
       "_model_module": "@jupyter-widgets/base",
       "_model_module_version": "1.2.0",
       "_model_name": "LayoutModel",
       "_view_count": null,
       "_view_module": "@jupyter-widgets/base",
       "_view_module_version": "1.2.0",
       "_view_name": "LayoutView",
       "align_content": null,
       "align_items": null,
       "align_self": null,
       "border": null,
       "bottom": null,
       "display": null,
       "flex": null,
       "flex_flow": null,
       "grid_area": null,
       "grid_auto_columns": null,
       "grid_auto_flow": null,
       "grid_auto_rows": null,
       "grid_column": null,
       "grid_gap": null,
       "grid_row": null,
       "grid_template_areas": null,
       "grid_template_columns": null,
       "grid_template_rows": null,
       "height": null,
       "justify_content": null,
       "justify_items": null,
       "left": null,
       "margin": null,
       "max_height": null,
       "max_width": null,
       "min_height": null,
       "min_width": null,
       "object_fit": null,
       "object_position": null,
       "order": null,
       "overflow": null,
       "overflow_x": null,
       "overflow_y": null,
       "padding": null,
       "right": null,
       "top": null,
       "visibility": null,
       "width": null
      }
     },
     "d97984abc95b43e892a687499e05cb93": {
      "model_module": "@jupyter-widgets/controls",
      "model_module_version": "1.5.0",
      "model_name": "HBoxModel",
      "state": {
       "_dom_classes": [],
       "_model_module": "@jupyter-widgets/controls",
       "_model_module_version": "1.5.0",
       "_model_name": "HBoxModel",
       "_view_count": null,
       "_view_module": "@jupyter-widgets/controls",
       "_view_module_version": "1.5.0",
       "_view_name": "HBoxView",
       "box_style": "",
       "children": [
        "IPY_MODEL_220000ef23f24c028f99d6bbde15f0e1",
        "IPY_MODEL_a5f610c302214817a66303b84b045d19",
        "IPY_MODEL_cbf1c00bef1f40aa9a48e8e219a8dcda"
       ],
       "layout": "IPY_MODEL_d7907f823482496696c933e39ce021d0"
      }
     },
     "e5b2ebfdfde94bb1b3997854fedcae27": {
      "model_module": "@jupyter-widgets/base",
      "model_module_version": "1.2.0",
      "model_name": "LayoutModel",
      "state": {
       "_model_module": "@jupyter-widgets/base",
       "_model_module_version": "1.2.0",
       "_model_name": "LayoutModel",
       "_view_count": null,
       "_view_module": "@jupyter-widgets/base",
       "_view_module_version": "1.2.0",
       "_view_name": "LayoutView",
       "align_content": null,
       "align_items": null,
       "align_self": null,
       "border": null,
       "bottom": null,
       "display": null,
       "flex": null,
       "flex_flow": null,
       "grid_area": null,
       "grid_auto_columns": null,
       "grid_auto_flow": null,
       "grid_auto_rows": null,
       "grid_column": null,
       "grid_gap": null,
       "grid_row": null,
       "grid_template_areas": null,
       "grid_template_columns": null,
       "grid_template_rows": null,
       "height": null,
       "justify_content": null,
       "justify_items": null,
       "left": null,
       "margin": null,
       "max_height": null,
       "max_width": null,
       "min_height": null,
       "min_width": null,
       "object_fit": null,
       "object_position": null,
       "order": null,
       "overflow": null,
       "overflow_x": null,
       "overflow_y": null,
       "padding": null,
       "right": null,
       "top": null,
       "visibility": null,
       "width": null
      }
     },
     "fab34430f92445f29842aeda93dd2763": {
      "model_module": "@jupyter-widgets/base",
      "model_module_version": "1.2.0",
      "model_name": "LayoutModel",
      "state": {
       "_model_module": "@jupyter-widgets/base",
       "_model_module_version": "1.2.0",
       "_model_name": "LayoutModel",
       "_view_count": null,
       "_view_module": "@jupyter-widgets/base",
       "_view_module_version": "1.2.0",
       "_view_name": "LayoutView",
       "align_content": null,
       "align_items": null,
       "align_self": null,
       "border": null,
       "bottom": null,
       "display": null,
       "flex": null,
       "flex_flow": null,
       "grid_area": null,
       "grid_auto_columns": null,
       "grid_auto_flow": null,
       "grid_auto_rows": null,
       "grid_column": null,
       "grid_gap": null,
       "grid_row": null,
       "grid_template_areas": null,
       "grid_template_columns": null,
       "grid_template_rows": null,
       "height": null,
       "justify_content": null,
       "justify_items": null,
       "left": null,
       "margin": null,
       "max_height": null,
       "max_width": null,
       "min_height": null,
       "min_width": null,
       "object_fit": null,
       "object_position": null,
       "order": null,
       "overflow": null,
       "overflow_x": null,
       "overflow_y": null,
       "padding": null,
       "right": null,
       "top": null,
       "visibility": null,
       "width": null
      }
     }
    },
    "version_major": 2,
    "version_minor": 0
   }
  }
 },
 "nbformat": 4,
 "nbformat_minor": 4
}
