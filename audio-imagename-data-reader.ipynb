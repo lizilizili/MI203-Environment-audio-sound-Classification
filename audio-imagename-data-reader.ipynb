{
 "cells": [
  {
   "cell_type": "code",
   "execution_count": 1,
   "metadata": {
    "_cell_guid": "b1076dfc-b9ad-4769-8c92-a6c4dae69d19",
    "_uuid": "8f2839f25d086af736a60e9eeb907d3b93b6e0e5"
   },
   "outputs": [],
   "source": [
    "# This Python 3 environment comes with many helpful analytics libraries installed\n",
    "# It is defined by the kaggle/python Docker image: https://github.com/kaggle/docker-python\n",
    "# For example, here's several helpful packages to load\n",
    "\n",
    "import numpy as np # linear algebra\n",
    "import pandas as pd # data processing, CSV file I/O (e.g. pd.read_csv)\n",
    "\n",
    "# Input data files are available in the read-only \"../input/\" directory\n",
    "# For example, running this (by clicking run or pressing Shift+Enter) will list all files under the input directory\n",
    "\n",
    "#datadir = '/kaggle/input/multimodal-classification-2021-mi203'\n",
    "\n",
    "#import os\n",
    "'''\n",
    "for dirname, _, filenames in os.walk(datadir):\n",
    "    for filename in filenames:\n",
    "        print(os.path.join(dirname, filename))\n",
    "'''\n",
    "# You can write up to 20GB to the current directory (/kaggle/working/) that gets preserved as output when you create a version using \"Save & Run All\" \n",
    "# You can also write temporary files to /kaggle/temp/, but they won't be saved outside of the current session\n",
    "\n",
    "\n",
    "traindata = pd.read_csv('multimodal-classification-2021-mi203/data/data_train.csv', delimiter=',', nrows = None)\n",
    "data = np.array(traindata)\n",
    "\n",
    "y_train = data[:,-1].astype('int32')\n",
    "\n",
    "audio_train = data[:, 1:-1]\n",
    "\n",
    "trainimg_list = traindata['IMAGE']\n",
    "\n",
    "testdata = pd.read_csv('multimodal-classification-2021-mi203/data/data_test_novt.csv', delimiter=',', nrows = None)\n",
    "data = np.array(testdata)\n",
    "\n",
    "audio_test = np.array(data[:, 1:], dtype='float64')\n",
    "\n",
    "testimg_list = testdata['IMAGE']\n",
    "\n"
   ]
  },
  {
   "cell_type": "code",
   "execution_count": 2,
   "metadata": {},
   "outputs": [
    {
     "data": {
      "text/html": [
       "<div>\n",
       "<style scoped>\n",
       "    .dataframe tbody tr th:only-of-type {\n",
       "        vertical-align: middle;\n",
       "    }\n",
       "\n",
       "    .dataframe tbody tr th {\n",
       "        vertical-align: top;\n",
       "    }\n",
       "\n",
       "    .dataframe thead th {\n",
       "        text-align: right;\n",
       "    }\n",
       "</style>\n",
       "<table border=\"1\" class=\"dataframe\">\n",
       "  <thead>\n",
       "    <tr style=\"text-align: right;\">\n",
       "      <th></th>\n",
       "      <th>IMAGE</th>\n",
       "      <th>mfcc_1</th>\n",
       "      <th>mfcc_2</th>\n",
       "      <th>mfcc_3</th>\n",
       "      <th>mfcc_4</th>\n",
       "      <th>mfcc_5</th>\n",
       "      <th>mfcc_6</th>\n",
       "      <th>mfcc_7</th>\n",
       "      <th>mfcc_8</th>\n",
       "      <th>mfcc_9</th>\n",
       "      <th>...</th>\n",
       "      <th>mfcc_96</th>\n",
       "      <th>mfcc_97</th>\n",
       "      <th>mfcc_98</th>\n",
       "      <th>mfcc_99</th>\n",
       "      <th>mfcc_100</th>\n",
       "      <th>mfcc_101</th>\n",
       "      <th>mfcc_102</th>\n",
       "      <th>mfcc_103</th>\n",
       "      <th>mfcc_104</th>\n",
       "      <th>CLASS</th>\n",
       "    </tr>\n",
       "  </thead>\n",
       "  <tbody>\n",
       "    <tr>\n",
       "      <th>0</th>\n",
       "      <td>trainimg_00000.png</td>\n",
       "      <td>11.112999</td>\n",
       "      <td>4.439105</td>\n",
       "      <td>-2.558765</td>\n",
       "      <td>4.686579</td>\n",
       "      <td>-3.489522</td>\n",
       "      <td>-7.244747</td>\n",
       "      <td>-1.815565</td>\n",
       "      <td>-0.980045</td>\n",
       "      <td>-10.464417</td>\n",
       "      <td>...</td>\n",
       "      <td>7.734828</td>\n",
       "      <td>-24.234226</td>\n",
       "      <td>7.036733</td>\n",
       "      <td>-9.169885</td>\n",
       "      <td>-2.371813</td>\n",
       "      <td>-13.772405</td>\n",
       "      <td>-23.100386</td>\n",
       "      <td>-11.933302</td>\n",
       "      <td>-14.578534</td>\n",
       "      <td>3</td>\n",
       "    </tr>\n",
       "    <tr>\n",
       "      <th>1</th>\n",
       "      <td>trainimg_00001.png</td>\n",
       "      <td>13.567897</td>\n",
       "      <td>-1.470553</td>\n",
       "      <td>-6.175936</td>\n",
       "      <td>-18.168946</td>\n",
       "      <td>-2.104478</td>\n",
       "      <td>-19.821045</td>\n",
       "      <td>15.739972</td>\n",
       "      <td>-7.928797</td>\n",
       "      <td>-4.354971</td>\n",
       "      <td>...</td>\n",
       "      <td>18.260046</td>\n",
       "      <td>-27.219082</td>\n",
       "      <td>36.595292</td>\n",
       "      <td>-18.729583</td>\n",
       "      <td>-17.238996</td>\n",
       "      <td>-1.950551</td>\n",
       "      <td>-44.563617</td>\n",
       "      <td>14.197092</td>\n",
       "      <td>-9.513413</td>\n",
       "      <td>0</td>\n",
       "    </tr>\n",
       "    <tr>\n",
       "      <th>2</th>\n",
       "      <td>trainimg_00002.png</td>\n",
       "      <td>12.585137</td>\n",
       "      <td>1.143402</td>\n",
       "      <td>-10.662741</td>\n",
       "      <td>-0.545328</td>\n",
       "      <td>9.144298</td>\n",
       "      <td>4.423014</td>\n",
       "      <td>9.070376</td>\n",
       "      <td>8.215766</td>\n",
       "      <td>9.191786</td>\n",
       "      <td>...</td>\n",
       "      <td>20.081282</td>\n",
       "      <td>-30.869050</td>\n",
       "      <td>30.302531</td>\n",
       "      <td>-13.525306</td>\n",
       "      <td>5.084584</td>\n",
       "      <td>23.202085</td>\n",
       "      <td>-2.831217</td>\n",
       "      <td>9.582895</td>\n",
       "      <td>0.731367</td>\n",
       "      <td>3</td>\n",
       "    </tr>\n",
       "    <tr>\n",
       "      <th>3</th>\n",
       "      <td>trainimg_00003.png</td>\n",
       "      <td>17.783320</td>\n",
       "      <td>4.445305</td>\n",
       "      <td>-17.644072</td>\n",
       "      <td>-13.889671</td>\n",
       "      <td>4.218943</td>\n",
       "      <td>-19.305793</td>\n",
       "      <td>-4.337773</td>\n",
       "      <td>-15.685792</td>\n",
       "      <td>-10.368791</td>\n",
       "      <td>...</td>\n",
       "      <td>15.439014</td>\n",
       "      <td>-38.117531</td>\n",
       "      <td>11.502297</td>\n",
       "      <td>-24.402804</td>\n",
       "      <td>-9.283201</td>\n",
       "      <td>-3.905179</td>\n",
       "      <td>-13.833009</td>\n",
       "      <td>-5.714941</td>\n",
       "      <td>-6.054448</td>\n",
       "      <td>4</td>\n",
       "    </tr>\n",
       "    <tr>\n",
       "      <th>4</th>\n",
       "      <td>trainimg_00004.png</td>\n",
       "      <td>12.348299</td>\n",
       "      <td>-11.143099</td>\n",
       "      <td>-24.030269</td>\n",
       "      <td>-29.444278</td>\n",
       "      <td>38.216061</td>\n",
       "      <td>-36.566694</td>\n",
       "      <td>15.501984</td>\n",
       "      <td>-24.954497</td>\n",
       "      <td>15.796076</td>\n",
       "      <td>...</td>\n",
       "      <td>32.459378</td>\n",
       "      <td>-30.386077</td>\n",
       "      <td>7.219499</td>\n",
       "      <td>-24.596709</td>\n",
       "      <td>28.042625</td>\n",
       "      <td>0.587357</td>\n",
       "      <td>-38.040484</td>\n",
       "      <td>21.121838</td>\n",
       "      <td>5.865456</td>\n",
       "      <td>5</td>\n",
       "    </tr>\n",
       "    <tr>\n",
       "      <th>...</th>\n",
       "      <td>...</td>\n",
       "      <td>...</td>\n",
       "      <td>...</td>\n",
       "      <td>...</td>\n",
       "      <td>...</td>\n",
       "      <td>...</td>\n",
       "      <td>...</td>\n",
       "      <td>...</td>\n",
       "      <td>...</td>\n",
       "      <td>...</td>\n",
       "      <td>...</td>\n",
       "      <td>...</td>\n",
       "      <td>...</td>\n",
       "      <td>...</td>\n",
       "      <td>...</td>\n",
       "      <td>...</td>\n",
       "      <td>...</td>\n",
       "      <td>...</td>\n",
       "      <td>...</td>\n",
       "      <td>...</td>\n",
       "      <td>...</td>\n",
       "    </tr>\n",
       "    <tr>\n",
       "      <th>13797</th>\n",
       "      <td>trainimg_13797.png</td>\n",
       "      <td>17.872885</td>\n",
       "      <td>-19.168601</td>\n",
       "      <td>-31.417943</td>\n",
       "      <td>-27.869064</td>\n",
       "      <td>14.901166</td>\n",
       "      <td>-51.076044</td>\n",
       "      <td>28.799985</td>\n",
       "      <td>-12.409769</td>\n",
       "      <td>-9.599948</td>\n",
       "      <td>...</td>\n",
       "      <td>15.216911</td>\n",
       "      <td>-36.779107</td>\n",
       "      <td>27.392493</td>\n",
       "      <td>-12.202401</td>\n",
       "      <td>-2.035136</td>\n",
       "      <td>6.261800</td>\n",
       "      <td>-9.677545</td>\n",
       "      <td>16.543191</td>\n",
       "      <td>-8.927460</td>\n",
       "      <td>5</td>\n",
       "    </tr>\n",
       "    <tr>\n",
       "      <th>13798</th>\n",
       "      <td>trainimg_13798.png</td>\n",
       "      <td>15.404905</td>\n",
       "      <td>-5.900479</td>\n",
       "      <td>-10.411828</td>\n",
       "      <td>-9.887775</td>\n",
       "      <td>33.579360</td>\n",
       "      <td>-32.756561</td>\n",
       "      <td>12.712271</td>\n",
       "      <td>-9.765015</td>\n",
       "      <td>9.255569</td>\n",
       "      <td>...</td>\n",
       "      <td>41.575646</td>\n",
       "      <td>-37.126031</td>\n",
       "      <td>18.106338</td>\n",
       "      <td>-20.948208</td>\n",
       "      <td>2.474485</td>\n",
       "      <td>6.661007</td>\n",
       "      <td>-15.455667</td>\n",
       "      <td>13.749232</td>\n",
       "      <td>13.357486</td>\n",
       "      <td>7</td>\n",
       "    </tr>\n",
       "    <tr>\n",
       "      <th>13799</th>\n",
       "      <td>trainimg_13799.png</td>\n",
       "      <td>18.306338</td>\n",
       "      <td>4.236465</td>\n",
       "      <td>-4.161986</td>\n",
       "      <td>-24.466086</td>\n",
       "      <td>21.038087</td>\n",
       "      <td>2.909841</td>\n",
       "      <td>16.552174</td>\n",
       "      <td>-26.772975</td>\n",
       "      <td>-1.968258</td>\n",
       "      <td>...</td>\n",
       "      <td>27.916863</td>\n",
       "      <td>-22.850646</td>\n",
       "      <td>28.697331</td>\n",
       "      <td>-24.932594</td>\n",
       "      <td>9.043644</td>\n",
       "      <td>-2.819103</td>\n",
       "      <td>15.242568</td>\n",
       "      <td>-15.384902</td>\n",
       "      <td>5.578244</td>\n",
       "      <td>1</td>\n",
       "    </tr>\n",
       "    <tr>\n",
       "      <th>13800</th>\n",
       "      <td>trainimg_13800.png</td>\n",
       "      <td>12.470833</td>\n",
       "      <td>7.280147</td>\n",
       "      <td>-14.001032</td>\n",
       "      <td>-11.206220</td>\n",
       "      <td>2.483893</td>\n",
       "      <td>-18.270384</td>\n",
       "      <td>4.259805</td>\n",
       "      <td>-13.362539</td>\n",
       "      <td>-11.557525</td>\n",
       "      <td>...</td>\n",
       "      <td>15.614429</td>\n",
       "      <td>-30.516187</td>\n",
       "      <td>12.055585</td>\n",
       "      <td>-20.673407</td>\n",
       "      <td>1.211484</td>\n",
       "      <td>-1.443646</td>\n",
       "      <td>-23.891641</td>\n",
       "      <td>-10.040808</td>\n",
       "      <td>-10.449873</td>\n",
       "      <td>3</td>\n",
       "    </tr>\n",
       "    <tr>\n",
       "      <th>13801</th>\n",
       "      <td>trainimg_13801.png</td>\n",
       "      <td>15.749310</td>\n",
       "      <td>-1.170268</td>\n",
       "      <td>-7.086317</td>\n",
       "      <td>1.876640</td>\n",
       "      <td>-9.963023</td>\n",
       "      <td>-12.431659</td>\n",
       "      <td>-4.144110</td>\n",
       "      <td>-0.090542</td>\n",
       "      <td>-0.800904</td>\n",
       "      <td>...</td>\n",
       "      <td>1.518346</td>\n",
       "      <td>-31.937349</td>\n",
       "      <td>24.871526</td>\n",
       "      <td>-18.736119</td>\n",
       "      <td>-3.244168</td>\n",
       "      <td>34.422221</td>\n",
       "      <td>-44.443067</td>\n",
       "      <td>23.800317</td>\n",
       "      <td>-21.208984</td>\n",
       "      <td>6</td>\n",
       "    </tr>\n",
       "  </tbody>\n",
       "</table>\n",
       "<p>13802 rows × 106 columns</p>\n",
       "</div>"
      ],
      "text/plain": [
       "                    IMAGE     mfcc_1     mfcc_2     mfcc_3     mfcc_4  \\\n",
       "0      trainimg_00000.png  11.112999   4.439105  -2.558765   4.686579   \n",
       "1      trainimg_00001.png  13.567897  -1.470553  -6.175936 -18.168946   \n",
       "2      trainimg_00002.png  12.585137   1.143402 -10.662741  -0.545328   \n",
       "3      trainimg_00003.png  17.783320   4.445305 -17.644072 -13.889671   \n",
       "4      trainimg_00004.png  12.348299 -11.143099 -24.030269 -29.444278   \n",
       "...                   ...        ...        ...        ...        ...   \n",
       "13797  trainimg_13797.png  17.872885 -19.168601 -31.417943 -27.869064   \n",
       "13798  trainimg_13798.png  15.404905  -5.900479 -10.411828  -9.887775   \n",
       "13799  trainimg_13799.png  18.306338   4.236465  -4.161986 -24.466086   \n",
       "13800  trainimg_13800.png  12.470833   7.280147 -14.001032 -11.206220   \n",
       "13801  trainimg_13801.png  15.749310  -1.170268  -7.086317   1.876640   \n",
       "\n",
       "          mfcc_5     mfcc_6     mfcc_7     mfcc_8     mfcc_9  ...    mfcc_96  \\\n",
       "0      -3.489522  -7.244747  -1.815565  -0.980045 -10.464417  ...   7.734828   \n",
       "1      -2.104478 -19.821045  15.739972  -7.928797  -4.354971  ...  18.260046   \n",
       "2       9.144298   4.423014   9.070376   8.215766   9.191786  ...  20.081282   \n",
       "3       4.218943 -19.305793  -4.337773 -15.685792 -10.368791  ...  15.439014   \n",
       "4      38.216061 -36.566694  15.501984 -24.954497  15.796076  ...  32.459378   \n",
       "...          ...        ...        ...        ...        ...  ...        ...   \n",
       "13797  14.901166 -51.076044  28.799985 -12.409769  -9.599948  ...  15.216911   \n",
       "13798  33.579360 -32.756561  12.712271  -9.765015   9.255569  ...  41.575646   \n",
       "13799  21.038087   2.909841  16.552174 -26.772975  -1.968258  ...  27.916863   \n",
       "13800   2.483893 -18.270384   4.259805 -13.362539 -11.557525  ...  15.614429   \n",
       "13801  -9.963023 -12.431659  -4.144110  -0.090542  -0.800904  ...   1.518346   \n",
       "\n",
       "         mfcc_97    mfcc_98    mfcc_99   mfcc_100   mfcc_101   mfcc_102  \\\n",
       "0     -24.234226   7.036733  -9.169885  -2.371813 -13.772405 -23.100386   \n",
       "1     -27.219082  36.595292 -18.729583 -17.238996  -1.950551 -44.563617   \n",
       "2     -30.869050  30.302531 -13.525306   5.084584  23.202085  -2.831217   \n",
       "3     -38.117531  11.502297 -24.402804  -9.283201  -3.905179 -13.833009   \n",
       "4     -30.386077   7.219499 -24.596709  28.042625   0.587357 -38.040484   \n",
       "...          ...        ...        ...        ...        ...        ...   \n",
       "13797 -36.779107  27.392493 -12.202401  -2.035136   6.261800  -9.677545   \n",
       "13798 -37.126031  18.106338 -20.948208   2.474485   6.661007 -15.455667   \n",
       "13799 -22.850646  28.697331 -24.932594   9.043644  -2.819103  15.242568   \n",
       "13800 -30.516187  12.055585 -20.673407   1.211484  -1.443646 -23.891641   \n",
       "13801 -31.937349  24.871526 -18.736119  -3.244168  34.422221 -44.443067   \n",
       "\n",
       "        mfcc_103   mfcc_104  CLASS  \n",
       "0     -11.933302 -14.578534      3  \n",
       "1      14.197092  -9.513413      0  \n",
       "2       9.582895   0.731367      3  \n",
       "3      -5.714941  -6.054448      4  \n",
       "4      21.121838   5.865456      5  \n",
       "...          ...        ...    ...  \n",
       "13797  16.543191  -8.927460      5  \n",
       "13798  13.749232  13.357486      7  \n",
       "13799 -15.384902   5.578244      1  \n",
       "13800 -10.040808 -10.449873      3  \n",
       "13801  23.800317 -21.208984      6  \n",
       "\n",
       "[13802 rows x 106 columns]"
      ]
     },
     "execution_count": 2,
     "metadata": {},
     "output_type": "execute_result"
    }
   ],
   "source": [
    "traindata"
   ]
  },
  {
   "cell_type": "code",
   "execution_count": 3,
   "metadata": {},
   "outputs": [
    {
     "data": {
      "text/plain": [
       "(13802, 104)"
      ]
     },
     "execution_count": 3,
     "metadata": {},
     "output_type": "execute_result"
    }
   ],
   "source": [
    "audio_train.shape"
   ]
  },
  {
   "cell_type": "code",
   "execution_count": 4,
   "metadata": {},
   "outputs": [
    {
     "data": {
      "text/plain": [
       "(3450, 104)"
      ]
     },
     "execution_count": 4,
     "metadata": {},
     "output_type": "execute_result"
    }
   ],
   "source": [
    "audio_test.shape"
   ]
  },
  {
   "cell_type": "code",
   "execution_count": 5,
   "metadata": {},
   "outputs": [
    {
     "data": {
      "text/plain": [
       "(13802, 2048)"
      ]
     },
     "execution_count": 5,
     "metadata": {},
     "output_type": "execute_result"
    }
   ],
   "source": [
    "img_train = np.load(\"img_feat.npy\")\n",
    "img_train.shape"
   ]
  },
  {
   "cell_type": "code",
   "execution_count": 6,
   "metadata": {},
   "outputs": [
    {
     "data": {
      "text/plain": [
       "numpy.ndarray"
      ]
     },
     "execution_count": 6,
     "metadata": {},
     "output_type": "execute_result"
    }
   ],
   "source": [
    "type(img_train)\n",
    "type(audio_train)"
   ]
  },
  {
   "cell_type": "code",
   "execution_count": 7,
   "metadata": {},
   "outputs": [],
   "source": [
    "img_audio_train = np.hstack([img_train,audio_train])"
   ]
  },
  {
   "cell_type": "code",
   "execution_count": 8,
   "metadata": {},
   "outputs": [
    {
     "data": {
      "text/plain": [
       "0        trainimg_00000.png\n",
       "1        trainimg_00001.png\n",
       "2        trainimg_00002.png\n",
       "3        trainimg_00003.png\n",
       "4        trainimg_00004.png\n",
       "                ...        \n",
       "13797    trainimg_13797.png\n",
       "13798    trainimg_13798.png\n",
       "13799    trainimg_13799.png\n",
       "13800    trainimg_13800.png\n",
       "13801    trainimg_13801.png\n",
       "Name: IMAGE, Length: 13802, dtype: object"
      ]
     },
     "execution_count": 8,
     "metadata": {},
     "output_type": "execute_result"
    }
   ],
   "source": [
    "trainimg_list"
   ]
  },
  {
   "cell_type": "code",
   "execution_count": 15,
   "metadata": {},
   "outputs": [
    {
     "name": "stdout",
     "output_type": "stream",
     "text": [
      "[LibSVM]Taux de reco = 96.81% / 95.15%\n"
     ]
    }
   ],
   "source": [
    "#====================================================================\n",
    "#   Apprentissage (SVM linéaire)\n",
    "\n",
    "import numpy as np\n",
    "import matplotlib.pyplot as plt\n",
    "import random\n",
    "\n",
    "# Pour séparer les données en apprentissage et test\n",
    "from sklearn.model_selection import train_test_split\n",
    "\n",
    "# A REMPLIR!!!\n",
    "from sklearn import preprocessing\n",
    "\n",
    "scaler = preprocessing.StandardScaler().fit(img_audio_train)\n",
    "\n",
    "img_audio_train_scaled = scaler.transform(img_audio_train)\n",
    "\n",
    "Xn, Xv, yn, yv = train_test_split(img_audio_train_scaled, y_train,\n",
    "                                                    random_state=42,\n",
    "                                                    test_size=0.8)\n",
    "\n",
    "from sklearn import svm\n",
    "\n",
    "\n",
    "\n",
    "\n",
    "\n",
    "svc = svm.SVC(C=0.1, kernel='rbf', max_iter=-1, verbose = True, gamma = 'auto')\n",
    "\n",
    "svc.fit(Xn, yn)\n",
    "\n",
    "score_train = svc.score(Xn, yn)\n",
    "score_test = svc.score(Xv, yv)\n",
    "\n",
    "print(\"Taux de reco = {:.2f}% / {:.2f}%\".format(score_train*100, score_test*100))"
   ]
  },
  {
   "cell_type": "code",
   "execution_count": 21,
   "metadata": {},
   "outputs": [],
   "source": [
    "img_test = np.load(\"img_test_feat.npy\")"
   ]
  },
  {
   "cell_type": "code",
   "execution_count": 22,
   "metadata": {},
   "outputs": [],
   "source": [
    "img_audio_test = np.hstack([img_test,audio_test])"
   ]
  },
  {
   "cell_type": "code",
   "execution_count": 23,
   "metadata": {},
   "outputs": [
    {
     "data": {
      "text/plain": [
       "(3450, 2152)"
      ]
     },
     "execution_count": 23,
     "metadata": {},
     "output_type": "execute_result"
    }
   ],
   "source": [
    "img_audio_test.shape"
   ]
  },
  {
   "cell_type": "code",
   "execution_count": 24,
   "metadata": {},
   "outputs": [
    {
     "name": "stdout",
     "output_type": "stream",
     "text": [
      "[0 0 0 ... 1 1 1]\n"
     ]
    }
   ],
   "source": [
    "# Prédiction\n",
    "#y_pred = np.random.randint(9,size=audio_test.shape[0])\n",
    "\n",
    "y_pred = svc.predict(scaler.transform(img_audio_test))\n",
    "print(y_pred)"
   ]
  },
  {
   "cell_type": "code",
   "execution_count": 25,
   "metadata": {},
   "outputs": [],
   "source": [
    "#====================================================================\n",
    "# Création du ficher de soumission\n",
    "\n",
    "submission = pd.DataFrame({'CLASS':y_pred})\n",
    "submission=submission.reset_index()\n",
    "submission = submission.rename(columns={'index': 'Id'})\n",
    "\n",
    "#======================================================================\n",
    "# Sauvegarde du fichier\n",
    "submission.to_csv('fasubmission.csv', index=False)\n"
   ]
  },
  {
   "cell_type": "code",
   "execution_count": null,
   "metadata": {},
   "outputs": [],
   "source": []
  },
  {
   "cell_type": "code",
   "execution_count": null,
   "metadata": {},
   "outputs": [],
   "source": []
  }
 ],
 "metadata": {
  "kernelspec": {
   "display_name": "Python 3",
   "language": "python",
   "name": "python3"
  },
  "language_info": {
   "codemirror_mode": {
    "name": "ipython",
    "version": 3
   },
   "file_extension": ".py",
   "mimetype": "text/x-python",
   "name": "python",
   "nbconvert_exporter": "python",
   "pygments_lexer": "ipython3",
   "version": "3.8.5"
  }
 },
 "nbformat": 4,
 "nbformat_minor": 4
}
